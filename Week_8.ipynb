{
 "cells": [
  {
   "cell_type": "markdown",
   "metadata": {},
   "source": [
    "# <span style=\"color: pink;\"> DATA WRANGLING </span>"
   ]
  },
  {
   "cell_type": "markdown",
   "metadata": {},
   "source": [
    "## <span style=\"color: #C8A2C8;\"> Import Data </span>"
   ]
  },
  {
   "cell_type": "markdown",
   "metadata": {},
   "source": [
    "## <span style=\"color: #C8A2C8;\"> Package Import </span>\n"
   ]
  },
  {
   "cell_type": "code",
   "execution_count": 1,
   "metadata": {},
   "outputs": [],
   "source": [
    "import numpy as np \n",
    "import pandas as pd"
   ]
  },
  {
   "cell_type": "markdown",
   "metadata": {},
   "source": [
    "## <span style=\"color: #C8A2C8;\"> Numpy </span>\n",
    "- Lists are viewed as arrays in numpy giving them extra functionality and more efficient\n",
    "- Linear algebra package built for the most basic way for all computers making it very efficient\n",
    "- Originally written in C and it is now expressed as python functions\n",
    "- With arrays we can do vectorized operations"
   ]
  },
  {
   "cell_type": "code",
   "execution_count": 14,
   "metadata": {},
   "outputs": [],
   "source": [
    "# Import CSV file in url as a pandas dataframe object assigned to the variable df \n",
    "df = pd.read_csv('PUBH1142Chap0801.csv')"
   ]
  },
  {
   "cell_type": "code",
   "execution_count": null,
   "metadata": {},
   "outputs": [
    {
     "data": {
      "text/html": [
       "<div>\n",
       "<style scoped>\n",
       "    .dataframe tbody tr th:only-of-type {\n",
       "        vertical-align: middle;\n",
       "    }\n",
       "\n",
       "    .dataframe tbody tr th {\n",
       "        vertical-align: top;\n",
       "    }\n",
       "\n",
       "    .dataframe thead th {\n",
       "        text-align: right;\n",
       "    }\n",
       "</style>\n",
       "<table border=\"1\" class=\"dataframe\">\n",
       "  <thead>\n",
       "    <tr style=\"text-align: right;\">\n",
       "      <th></th>\n",
       "      <th>Name</th>\n",
       "      <th>DOB</th>\n",
       "      <th>Age</th>\n",
       "      <th>Vocation</th>\n",
       "      <th>Smoke</th>\n",
       "      <th>HR</th>\n",
       "      <th>sBP</th>\n",
       "      <th>CholesterolBefore</th>\n",
       "      <th>TAG</th>\n",
       "      <th>Survey</th>\n",
       "      <th>CholesterolAfter</th>\n",
       "      <th>Delta</th>\n",
       "      <th>Group</th>\n",
       "    </tr>\n",
       "  </thead>\n",
       "  <tbody>\n",
       "    <tr>\n",
       "      <th>0</th>\n",
       "      <td>Dylan Patton</td>\n",
       "      <td>1981-10-07</td>\n",
       "      <td>43</td>\n",
       "      <td>Energy manager</td>\n",
       "      <td>0</td>\n",
       "      <td>47</td>\n",
       "      <td>145</td>\n",
       "      <td>1.2</td>\n",
       "      <td>1.2</td>\n",
       "      <td>1</td>\n",
       "      <td>0.7</td>\n",
       "      <td>0.5</td>\n",
       "      <td>Active</td>\n",
       "    </tr>\n",
       "    <tr>\n",
       "      <th>1</th>\n",
       "      <td>Sandra Howard</td>\n",
       "      <td>1993-01-27</td>\n",
       "      <td>53</td>\n",
       "      <td>Tax adviser</td>\n",
       "      <td>0</td>\n",
       "      <td>51</td>\n",
       "      <td>115</td>\n",
       "      <td>1.2</td>\n",
       "      <td>0.6</td>\n",
       "      <td>3</td>\n",
       "      <td>1.0</td>\n",
       "      <td>0.2</td>\n",
       "      <td>Active</td>\n",
       "    </tr>\n",
       "    <tr>\n",
       "      <th>2</th>\n",
       "      <td>Samantha Williams</td>\n",
       "      <td>1973-12-21</td>\n",
       "      <td>33</td>\n",
       "      <td>IT consultant</td>\n",
       "      <td>0</td>\n",
       "      <td>54</td>\n",
       "      <td>120</td>\n",
       "      <td>2.0</td>\n",
       "      <td>1.3</td>\n",
       "      <td>3</td>\n",
       "      <td>1.7</td>\n",
       "      <td>0.3</td>\n",
       "      <td>Active</td>\n",
       "    </tr>\n",
       "    <tr>\n",
       "      <th>3</th>\n",
       "      <td>Ashley Hensley</td>\n",
       "      <td>1981-12-01</td>\n",
       "      <td>43</td>\n",
       "      <td>Nurse, children's</td>\n",
       "      <td>0</td>\n",
       "      <td>54</td>\n",
       "      <td>103</td>\n",
       "      <td>2.1</td>\n",
       "      <td>1.6</td>\n",
       "      <td>4</td>\n",
       "      <td>2.1</td>\n",
       "      <td>0.0</td>\n",
       "      <td>Active</td>\n",
       "    </tr>\n",
       "    <tr>\n",
       "      <th>4</th>\n",
       "      <td>Robert Wilson</td>\n",
       "      <td>1964-06-23</td>\n",
       "      <td>46</td>\n",
       "      <td>Clinical embryologist</td>\n",
       "      <td>0</td>\n",
       "      <td>61</td>\n",
       "      <td>138</td>\n",
       "      <td>2.8</td>\n",
       "      <td>2.1</td>\n",
       "      <td>5</td>\n",
       "      <td>2.8</td>\n",
       "      <td>0.0</td>\n",
       "      <td>Active</td>\n",
       "    </tr>\n",
       "  </tbody>\n",
       "</table>\n",
       "</div>"
      ],
      "text/plain": [
       "                Name         DOB  Age               Vocation  Smoke  HR  sBP  \\\n",
       "0       Dylan Patton  1981-10-07   43         Energy manager      0  47  145   \n",
       "1      Sandra Howard  1993-01-27   53            Tax adviser      0  51  115   \n",
       "2  Samantha Williams  1973-12-21   33          IT consultant      0  54  120   \n",
       "3     Ashley Hensley  1981-12-01   43      Nurse, children's      0  54  103   \n",
       "4      Robert Wilson  1964-06-23   46  Clinical embryologist      0  61  138   \n",
       "\n",
       "   CholesterolBefore  TAG  Survey  CholesterolAfter  Delta   Group  \n",
       "0                1.2  1.2       1               0.7    0.5  Active  \n",
       "1                1.2  0.6       3               1.0    0.2  Active  \n",
       "2                2.0  1.3       3               1.7    0.3  Active  \n",
       "3                2.1  1.6       4               2.1    0.0  Active  \n",
       "4                2.8  2.1       5               2.8    0.0  Active  "
      ]
     },
     "execution_count": 15,
     "metadata": {},
     "output_type": "execute_result"
    }
   ],
   "source": [
    "#Get rows 0-4\n",
    "df.head()"
   ]
  },
  {
   "cell_type": "code",
   "execution_count": 16,
   "metadata": {},
   "outputs": [
    {
     "data": {
      "text/plain": [
       "0      43\n",
       "1      53\n",
       "2      33\n",
       "3      43\n",
       "4      46\n",
       "       ..\n",
       "195    66\n",
       "196    54\n",
       "197    61\n",
       "198    65\n",
       "199    66\n",
       "Name: Age, Length: 200, dtype: int64"
      ]
     },
     "execution_count": 16,
     "metadata": {},
     "output_type": "execute_result"
    }
   ],
   "source": [
    "# Show the Age column\n",
    "df['Age']"
   ]
  },
  {
   "cell_type": "code",
   "execution_count": null,
   "metadata": {},
   "outputs": [
    {
     "data": {
      "text/plain": [
       "0      43\n",
       "1      53\n",
       "2      33\n",
       "3      43\n",
       "4      46\n",
       "       ..\n",
       "195    66\n",
       "196    54\n",
       "197    61\n",
       "198    65\n",
       "199    66\n",
       "Name: Age, Length: 200, dtype: int64"
      ]
     },
     "execution_count": 17,
     "metadata": {},
     "output_type": "execute_result"
    }
   ],
   "source": [
    "#Another way to get a column\n",
    "df.Age"
   ]
  },
  {
   "cell_type": "markdown",
   "metadata": {},
   "source": [
    "## <span style=\"color: #C8A2C8;\"> iloc and loc </span>\n",
    "\n",
    "### iloc\n",
    "- df.iloc[ ]\n",
    "- it is a locator\n",
    "- if it is only one value in [] you are only referencing rows, if you have two then it is row, column\n",
    "- can use the range function [#:#]\n",
    "\n",
    "### loc\n",
    "- can give names of columns when you don't know the number\n",
    "\n"
   ]
  },
  {
   "cell_type": "code",
   "execution_count": 19,
   "metadata": {},
   "outputs": [
    {
     "data": {
      "text/plain": [
       "Name                   Dylan Patton\n",
       "DOB                      1981-10-07\n",
       "Age                              43\n",
       "Vocation             Energy manager\n",
       "Smoke                             0\n",
       "HR                               47\n",
       "sBP                             145\n",
       "CholesterolBefore               1.2\n",
       "TAG                             1.2\n",
       "Survey                            1\n",
       "CholesterolAfter                0.7\n",
       "Delta                           0.5\n",
       "Group                        Active\n",
       "Name: 0, dtype: object"
      ]
     },
     "execution_count": 19,
     "metadata": {},
     "output_type": "execute_result"
    }
   ],
   "source": [
    "df.iloc[0]"
   ]
  },
  {
   "cell_type": "code",
   "execution_count": 20,
   "metadata": {},
   "outputs": [
    {
     "data": {
      "text/html": [
       "<div>\n",
       "<style scoped>\n",
       "    .dataframe tbody tr th:only-of-type {\n",
       "        vertical-align: middle;\n",
       "    }\n",
       "\n",
       "    .dataframe tbody tr th {\n",
       "        vertical-align: top;\n",
       "    }\n",
       "\n",
       "    .dataframe thead th {\n",
       "        text-align: right;\n",
       "    }\n",
       "</style>\n",
       "<table border=\"1\" class=\"dataframe\">\n",
       "  <thead>\n",
       "    <tr style=\"text-align: right;\">\n",
       "      <th></th>\n",
       "      <th>Name</th>\n",
       "      <th>DOB</th>\n",
       "      <th>Age</th>\n",
       "      <th>Vocation</th>\n",
       "      <th>Smoke</th>\n",
       "      <th>HR</th>\n",
       "      <th>sBP</th>\n",
       "      <th>CholesterolBefore</th>\n",
       "      <th>TAG</th>\n",
       "      <th>Survey</th>\n",
       "      <th>CholesterolAfter</th>\n",
       "      <th>Delta</th>\n",
       "      <th>Group</th>\n",
       "    </tr>\n",
       "  </thead>\n",
       "  <tbody>\n",
       "    <tr>\n",
       "      <th>0</th>\n",
       "      <td>Dylan Patton</td>\n",
       "      <td>1981-10-07</td>\n",
       "      <td>43</td>\n",
       "      <td>Energy manager</td>\n",
       "      <td>0</td>\n",
       "      <td>47</td>\n",
       "      <td>145</td>\n",
       "      <td>1.2</td>\n",
       "      <td>1.2</td>\n",
       "      <td>1</td>\n",
       "      <td>0.7</td>\n",
       "      <td>0.5</td>\n",
       "      <td>Active</td>\n",
       "    </tr>\n",
       "    <tr>\n",
       "      <th>1</th>\n",
       "      <td>Sandra Howard</td>\n",
       "      <td>1993-01-27</td>\n",
       "      <td>53</td>\n",
       "      <td>Tax adviser</td>\n",
       "      <td>0</td>\n",
       "      <td>51</td>\n",
       "      <td>115</td>\n",
       "      <td>1.2</td>\n",
       "      <td>0.6</td>\n",
       "      <td>3</td>\n",
       "      <td>1.0</td>\n",
       "      <td>0.2</td>\n",
       "      <td>Active</td>\n",
       "    </tr>\n",
       "    <tr>\n",
       "      <th>2</th>\n",
       "      <td>Samantha Williams</td>\n",
       "      <td>1973-12-21</td>\n",
       "      <td>33</td>\n",
       "      <td>IT consultant</td>\n",
       "      <td>0</td>\n",
       "      <td>54</td>\n",
       "      <td>120</td>\n",
       "      <td>2.0</td>\n",
       "      <td>1.3</td>\n",
       "      <td>3</td>\n",
       "      <td>1.7</td>\n",
       "      <td>0.3</td>\n",
       "      <td>Active</td>\n",
       "    </tr>\n",
       "    <tr>\n",
       "      <th>3</th>\n",
       "      <td>Ashley Hensley</td>\n",
       "      <td>1981-12-01</td>\n",
       "      <td>43</td>\n",
       "      <td>Nurse, children's</td>\n",
       "      <td>0</td>\n",
       "      <td>54</td>\n",
       "      <td>103</td>\n",
       "      <td>2.1</td>\n",
       "      <td>1.6</td>\n",
       "      <td>4</td>\n",
       "      <td>2.1</td>\n",
       "      <td>0.0</td>\n",
       "      <td>Active</td>\n",
       "    </tr>\n",
       "    <tr>\n",
       "      <th>4</th>\n",
       "      <td>Robert Wilson</td>\n",
       "      <td>1964-06-23</td>\n",
       "      <td>46</td>\n",
       "      <td>Clinical embryologist</td>\n",
       "      <td>0</td>\n",
       "      <td>61</td>\n",
       "      <td>138</td>\n",
       "      <td>2.8</td>\n",
       "      <td>2.1</td>\n",
       "      <td>5</td>\n",
       "      <td>2.8</td>\n",
       "      <td>0.0</td>\n",
       "      <td>Active</td>\n",
       "    </tr>\n",
       "  </tbody>\n",
       "</table>\n",
       "</div>"
      ],
      "text/plain": [
       "                Name         DOB  Age               Vocation  Smoke  HR  sBP  \\\n",
       "0       Dylan Patton  1981-10-07   43         Energy manager      0  47  145   \n",
       "1      Sandra Howard  1993-01-27   53            Tax adviser      0  51  115   \n",
       "2  Samantha Williams  1973-12-21   33          IT consultant      0  54  120   \n",
       "3     Ashley Hensley  1981-12-01   43      Nurse, children's      0  54  103   \n",
       "4      Robert Wilson  1964-06-23   46  Clinical embryologist      0  61  138   \n",
       "\n",
       "   CholesterolBefore  TAG  Survey  CholesterolAfter  Delta   Group  \n",
       "0                1.2  1.2       1               0.7    0.5  Active  \n",
       "1                1.2  0.6       3               1.0    0.2  Active  \n",
       "2                2.0  1.3       3               1.7    0.3  Active  \n",
       "3                2.1  1.6       4               2.1    0.0  Active  \n",
       "4                2.8  2.1       5               2.8    0.0  Active  "
      ]
     },
     "execution_count": 20,
     "metadata": {},
     "output_type": "execute_result"
    }
   ],
   "source": [
    "df.iloc[0:5]"
   ]
  },
  {
   "cell_type": "code",
   "execution_count": 21,
   "metadata": {},
   "outputs": [
    {
     "data": {
      "text/html": [
       "<div>\n",
       "<style scoped>\n",
       "    .dataframe tbody tr th:only-of-type {\n",
       "        vertical-align: middle;\n",
       "    }\n",
       "\n",
       "    .dataframe tbody tr th {\n",
       "        vertical-align: top;\n",
       "    }\n",
       "\n",
       "    .dataframe thead th {\n",
       "        text-align: right;\n",
       "    }\n",
       "</style>\n",
       "<table border=\"1\" class=\"dataframe\">\n",
       "  <thead>\n",
       "    <tr style=\"text-align: right;\">\n",
       "      <th></th>\n",
       "      <th>Name</th>\n",
       "      <th>DOB</th>\n",
       "    </tr>\n",
       "  </thead>\n",
       "  <tbody>\n",
       "    <tr>\n",
       "      <th>0</th>\n",
       "      <td>Dylan Patton</td>\n",
       "      <td>1981-10-07</td>\n",
       "    </tr>\n",
       "    <tr>\n",
       "      <th>1</th>\n",
       "      <td>Sandra Howard</td>\n",
       "      <td>1993-01-27</td>\n",
       "    </tr>\n",
       "    <tr>\n",
       "      <th>2</th>\n",
       "      <td>Samantha Williams</td>\n",
       "      <td>1973-12-21</td>\n",
       "    </tr>\n",
       "    <tr>\n",
       "      <th>3</th>\n",
       "      <td>Ashley Hensley</td>\n",
       "      <td>1981-12-01</td>\n",
       "    </tr>\n",
       "    <tr>\n",
       "      <th>4</th>\n",
       "      <td>Robert Wilson</td>\n",
       "      <td>1964-06-23</td>\n",
       "    </tr>\n",
       "  </tbody>\n",
       "</table>\n",
       "</div>"
      ],
      "text/plain": [
       "                Name         DOB\n",
       "0       Dylan Patton  1981-10-07\n",
       "1      Sandra Howard  1993-01-27\n",
       "2  Samantha Williams  1973-12-21\n",
       "3     Ashley Hensley  1981-12-01\n",
       "4      Robert Wilson  1964-06-23"
      ]
     },
     "execution_count": 21,
     "metadata": {},
     "output_type": "execute_result"
    }
   ],
   "source": [
    "df.iloc[0:5, 0:2]"
   ]
  },
  {
   "cell_type": "code",
   "execution_count": 22,
   "metadata": {},
   "outputs": [
    {
     "data": {
      "text/html": [
       "<div>\n",
       "<style scoped>\n",
       "    .dataframe tbody tr th:only-of-type {\n",
       "        vertical-align: middle;\n",
       "    }\n",
       "\n",
       "    .dataframe tbody tr th {\n",
       "        vertical-align: top;\n",
       "    }\n",
       "\n",
       "    .dataframe thead th {\n",
       "        text-align: right;\n",
       "    }\n",
       "</style>\n",
       "<table border=\"1\" class=\"dataframe\">\n",
       "  <thead>\n",
       "    <tr style=\"text-align: right;\">\n",
       "      <th></th>\n",
       "      <th>Name</th>\n",
       "      <th>Age</th>\n",
       "    </tr>\n",
       "  </thead>\n",
       "  <tbody>\n",
       "    <tr>\n",
       "      <th>0</th>\n",
       "      <td>Dylan Patton</td>\n",
       "      <td>43</td>\n",
       "    </tr>\n",
       "    <tr>\n",
       "      <th>1</th>\n",
       "      <td>Sandra Howard</td>\n",
       "      <td>53</td>\n",
       "    </tr>\n",
       "    <tr>\n",
       "      <th>2</th>\n",
       "      <td>Samantha Williams</td>\n",
       "      <td>33</td>\n",
       "    </tr>\n",
       "    <tr>\n",
       "      <th>3</th>\n",
       "      <td>Ashley Hensley</td>\n",
       "      <td>43</td>\n",
       "    </tr>\n",
       "    <tr>\n",
       "      <th>4</th>\n",
       "      <td>Robert Wilson</td>\n",
       "      <td>46</td>\n",
       "    </tr>\n",
       "    <tr>\n",
       "      <th>5</th>\n",
       "      <td>Leslie Diaz</td>\n",
       "      <td>48</td>\n",
       "    </tr>\n",
       "  </tbody>\n",
       "</table>\n",
       "</div>"
      ],
      "text/plain": [
       "                Name  Age\n",
       "0       Dylan Patton   43\n",
       "1      Sandra Howard   53\n",
       "2  Samantha Williams   33\n",
       "3     Ashley Hensley   43\n",
       "4      Robert Wilson   46\n",
       "5        Leslie Diaz   48"
      ]
     },
     "execution_count": 22,
     "metadata": {},
     "output_type": "execute_result"
    }
   ],
   "source": [
    "df.loc[0:5, ['Name', 'Age']]"
   ]
  },
  {
   "cell_type": "code",
   "execution_count": 23,
   "metadata": {},
   "outputs": [],
   "source": [
    "age = df.Age"
   ]
  },
  {
   "cell_type": "code",
   "execution_count": 25,
   "metadata": {},
   "outputs": [
    {
     "data": {
      "text/plain": [
       "pandas.core.series.Series"
      ]
     },
     "execution_count": 25,
     "metadata": {},
     "output_type": "execute_result"
    }
   ],
   "source": [
    "type(age)"
   ]
  },
  {
   "cell_type": "code",
   "execution_count": 27,
   "metadata": {},
   "outputs": [
    {
     "data": {
      "text/plain": [
       "array([43, 53, 33, 43, 46, 48, 54, 58, 44, 31, 45, 35, 49, 56, 57, 38, 35,\n",
       "       50, 45, 49, 63, 45, 51, 43, 31, 58, 40, 47, 45, 41, 47, 38, 54, 30,\n",
       "       46, 64, 41, 40, 45, 65, 74, 55, 58, 53, 68, 54, 72, 32, 38, 59, 53,\n",
       "       69, 42, 67, 38, 51, 37, 36, 34, 38, 31, 48, 49, 62, 39, 74, 41, 42,\n",
       "       60, 67, 42, 74, 52, 37, 61, 54, 72, 36, 49, 47, 49, 49, 69, 43, 38,\n",
       "       60, 45, 71, 65, 73, 60, 70, 45, 49, 65, 53, 30, 58, 50, 69, 72, 61,\n",
       "       33, 30, 44, 71, 49, 75, 43, 35, 55, 38, 36, 46, 60, 40, 57, 69, 56,\n",
       "       66, 60, 42, 49, 68, 32, 31, 56, 35, 63, 54, 68, 72, 40, 41, 66, 73,\n",
       "       36, 54, 57, 74, 48, 72, 54, 71, 42, 54, 66, 58, 60, 63, 44, 55, 73,\n",
       "       55, 40, 43, 71, 54, 61, 55, 67, 55, 68, 71, 54, 42, 53, 69, 57, 45,\n",
       "       62, 33, 74, 74, 64, 43, 35, 57, 64, 55, 74, 50, 40, 62, 65, 63, 68,\n",
       "       45, 41, 54, 62, 65, 72, 61, 70, 66, 54, 61, 65, 66])"
      ]
     },
     "execution_count": 27,
     "metadata": {},
     "output_type": "execute_result"
    }
   ],
   "source": [
    "age = df.Age.to_numpy()\n",
    "age"
   ]
  },
  {
   "cell_type": "code",
   "execution_count": 28,
   "metadata": {},
   "outputs": [
    {
     "data": {
      "text/plain": [
       "np.float64(53.07)"
      ]
     },
     "execution_count": 28,
     "metadata": {},
     "output_type": "execute_result"
    }
   ],
   "source": [
    "age.mean()"
   ]
  },
  {
   "cell_type": "markdown",
   "metadata": {},
   "source": [
    "Can change a series object to a numpy array by doing .to_numpy()"
   ]
  },
  {
   "cell_type": "code",
   "execution_count": 29,
   "metadata": {},
   "outputs": [
    {
     "data": {
      "text/plain": [
       "Index(['Name', 'DOB', 'Age', 'Vocation', 'Smoke', 'HR', 'sBP',\n",
       "       'CholesterolBefore', 'TAG', 'Survey', 'CholesterolAfter', 'Delta',\n",
       "       'Group'],\n",
       "      dtype='object')"
      ]
     },
     "execution_count": 29,
     "metadata": {},
     "output_type": "execute_result"
    }
   ],
   "source": [
    "df.columns"
   ]
  },
  {
   "cell_type": "code",
   "execution_count": 30,
   "metadata": {},
   "outputs": [],
   "source": [
    "vocations = df.Vocation"
   ]
  },
  {
   "cell_type": "code",
   "execution_count": 31,
   "metadata": {},
   "outputs": [
    {
     "data": {
      "text/plain": [
       "array(['Energy manager', 'Tax adviser', 'IT consultant',\n",
       "       \"Nurse, children's\", 'Clinical embryologist',\n",
       "       \"Politician's assistant\", 'Police officer',\n",
       "       'Scientific laboratory technician', 'Lexicographer',\n",
       "       'Charity fundraiser', 'Chief Marketing Officer', 'Hydrologist',\n",
       "       'Advertising account planner', 'Web designer', 'Lobbyist',\n",
       "       'Photographer', 'Chartered loss adjuster',\n",
       "       'Community education officer', 'Occupational hygienist',\n",
       "       'Conservation officer, nature', 'Chemist, analytical',\n",
       "       'Immunologist', 'Exhibition designer', 'Special effects artist',\n",
       "       'Broadcast presenter', 'Psychologist, occupational', 'Midwife',\n",
       "       'Meteorologist', 'Sports therapist', 'Therapist, horticultural',\n",
       "       'Mining engineer', 'Estate agent', 'Waste management officer',\n",
       "       'Tourist information centre manager', 'Lecturer, higher education',\n",
       "       'Research scientist (physical sciences)', 'Technical brewer',\n",
       "       'Minerals surveyor', 'Commercial/residential surveyor',\n",
       "       'Lecturer, further education', 'Programmer, systems',\n",
       "       'Insurance claims handler', 'Media planner',\n",
       "       'Magazine features editor', 'Research scientist (medical)',\n",
       "       'Arts administrator', 'Museum/gallery exhibitions officer',\n",
       "       'Scientist, research (physical sciences)', 'Journalist, magazine',\n",
       "       'Professor Emeritus', 'Buyer, industrial', 'Journalist, newspaper',\n",
       "       'Ergonomist', 'Estate manager/land agent',\n",
       "       'Logistics and distribution manager', 'Scientist, audiological',\n",
       "       'Counselling psychologist', 'Pharmacist, community',\n",
       "       'Aeronautical engineer', 'Advertising copywriter',\n",
       "       'Landscape architect', 'Psychologist, sport and exercise',\n",
       "       'Surveyor, hydrographic', 'Secretary, company',\n",
       "       'Financial controller', 'Teacher, secondary school', 'Cabin crew',\n",
       "       'Cartographer', 'Passenger transport manager', 'Graphic designer',\n",
       "       'Brewing technologist', 'Industrial buyer', 'Designer, textile',\n",
       "       'Nature conservation officer', 'Set designer',\n",
       "       'Information officer', 'Product designer', 'Contractor',\n",
       "       'Nurse, learning disability', 'Insurance broker',\n",
       "       'Hydrographic surveyor', 'Corporate investment banker',\n",
       "       'Bookseller', 'Lawyer', 'Surveyor, mining', 'Engineer, mining',\n",
       "       'Dealer', 'Psychotherapist, child', 'Computer games developer',\n",
       "       'Paramedic', 'Clinical biochemist', 'Forensic psychologist',\n",
       "       'Communications engineer', 'Herpetologist',\n",
       "       'Engineer, manufacturing', 'Agricultural consultant',\n",
       "       'Engineer, energy', 'Community pharmacist', 'Music tutor',\n",
       "       'Trading standards officer', 'Statistician',\n",
       "       'Manufacturing systems engineer', 'Call centre manager',\n",
       "       'Control and instrumentation engineer',\n",
       "       'Medical sales representative', 'Trade union research officer',\n",
       "       'Trade mark attorney', 'Publishing copy', 'Mental health nurse',\n",
       "       'Maintenance engineer', 'Translator', 'Volunteer coordinator',\n",
       "       'Secretary/administrator', 'Museum/gallery conservator',\n",
       "       'Biomedical scientist', 'Medical illustrator',\n",
       "       'Geophysicist/field seismologist', 'Corporate treasurer',\n",
       "       'Fish farm manager', 'Dancer', 'Heritage manager',\n",
       "       'Legal executive', 'Energy engineer', 'Musician',\n",
       "       'Careers information officer', 'Careers adviser', 'Oncologist',\n",
       "       'Video editor', 'Engineering geologist',\n",
       "       'Surveyor, building control', 'Cytogeneticist',\n",
       "       'Accommodation manager', 'Public house manager',\n",
       "       'Production manager', 'Bonds trader', 'Electrical engineer',\n",
       "       'Media buyer', 'English as a foreign language teacher',\n",
       "       'Horticultural consultant', 'Accountant, chartered certified',\n",
       "       'Archivist', 'Development worker, international aid',\n",
       "       'Animal technologist', 'Engineer, civil (contracting)',\n",
       "       'Newspaper journalist', 'Engineer, electronics',\n",
       "       'Administrator, sports', 'Journalist, broadcasting',\n",
       "       'Radiation protection practitioner', 'Private music teacher',\n",
       "       'Adult guidance worker', 'Scientist, marine', 'Furniture designer',\n",
       "       'Operational investment banker', 'Therapeutic radiographer',\n",
       "       'Building control surveyor', 'Occupational therapist',\n",
       "       'Personnel officer', 'Fashion designer',\n",
       "       'Surveyor, planning and development',\n",
       "       'Engineer, control and instrumentation', 'Solicitor, Scotland',\n",
       "       'Dramatherapist', 'Advertising account executive',\n",
       "       'Sport and exercise psychologist',\n",
       "       'Senior tax professional/tax inspector',\n",
       "       'Psychologist, educational', 'Designer, television/film set',\n",
       "       'Geneticist, molecular', 'Sales professional, IT',\n",
       "       'Chartered certified accountant', 'Theme park manager'],\n",
       "      dtype=object)"
      ]
     },
     "execution_count": 31,
     "metadata": {},
     "output_type": "execute_result"
    }
   ],
   "source": [
    "# Tell me the unique elements in the vocations\n",
    "vocations.unique()"
   ]
  },
  {
   "cell_type": "markdown",
   "metadata": {},
   "source": [
    "# Quiz questions\n",
    "\n",
    "# 📌 **Pandas Basics Cheat Sheet**\n",
    "\n",
    "## 🐍 **1. Importing Pandas**\n",
    "```python\n",
    "import pandas as pd\n",
    "```\n",
    "\n",
    "## 📂 **2. Reading a CSV File into a DataFrame**\n",
    "```python\n",
    "df = pd.read_csv(\"data.csv\")\n",
    "```\n",
    "\n",
    "## 👀 **3. Displaying the First 5 Rows**\n",
    "```python\n",
    "df.head()\n",
    "```\n",
    "\n",
    "## 📏 **4. Getting the Number of Rows and Columns**\n",
    "```python\n",
    "df.shape  # Returns (rows, columns)\n",
    "```\n",
    "\n",
    "## 🏷 **5. Printing All Column Names**\n",
    "```python\n",
    "df.columns\n",
    "```\n",
    "\n",
    "## ℹ️ **6. Summary Information of the DataFrame**\n",
    "```python\n",
    "df.info()\n",
    "```\n",
    "\n",
    "## 🔍 **7. Selecting Rows Where Column A > 5**\n",
    "```python\n",
    "df[df[\"A\"] > 5]\n",
    "```\n",
    "\n",
    "## 🎯 **8. Selecting Specific Columns (A and B)**\n",
    "```python\n",
    "df[[\"A\", \"B\"]]\n",
    "```\n",
    "\n",
    "## ✏️ **9. Renaming a Column A to Alpha**\n",
    "```python\n",
    "df.rename(columns={\"A\": \"Alpha\"}, inplace=True)\n",
    "```\n",
    "\n",
    "## 🔄 **10. Replacing All Occurrences of 999 with NaN**\n",
    "```python\n",
    "import numpy as np\n",
    "df.replace(999, np.nan, inplace=True)\n",
    "```\n",
    "\n",
    "## 🗑 **11. Dropping Rows with Missing Values**\n",
    "```python\n",
    "df.dropna(inplace=True)\n",
    "```\n",
    "\n",
    "## 🛠 **12. Filling Missing Values with 0**\n",
    "```python\n",
    "df.fillna(0, inplace=True)\n",
    "```\n",
    "\n",
    "## 📊 **13. Calculating the Mean of Column A**\n",
    "```python\n",
    "df[\"A\"].mean()\n",
    "```\n",
    "\n",
    "## ➕ **14. Creating a New Column C as the Sum of A and B**\n",
    "```python\n",
    "df[\"C\"] = df[\"A\"] + df[\"B\"]\n",
    "```\n",
    "\n",
    "## 💾 **15. Saving the DataFrame to a CSV File**\n",
    "```python\n",
    "df.to_csv(\"output.csv\", index=False)\n",
    "\n"
   ]
  },
  {
   "cell_type": "markdown",
   "metadata": {},
   "source": [
    "![Good Work](https://media.giphy.com/media/3o7abKhOpu0NwenH3O/giphy.gif)\n",
    "\n",
    "### Time to put this info to work!\n",
    "\n",
    "\n"
   ]
  }
 ],
 "metadata": {
  "kernelspec": {
   "display_name": ".venv",
   "language": "python",
   "name": "python3"
  },
  "language_info": {
   "codemirror_mode": {
    "name": "ipython",
    "version": 3
   },
   "file_extension": ".py",
   "mimetype": "text/x-python",
   "name": "python",
   "nbconvert_exporter": "python",
   "pygments_lexer": "ipython3",
   "version": "3.13.2"
  }
 },
 "nbformat": 4,
 "nbformat_minor": 2
}
