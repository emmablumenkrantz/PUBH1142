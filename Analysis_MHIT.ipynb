{
 "cells": [
  {
   "cell_type": "markdown",
   "metadata": {},
   "source": [
    "# Data analysis"
   ]
  },
  {
   "cell_type": "code",
   "execution_count": 2,
   "metadata": {},
   "outputs": [],
   "source": [
    "# import pandas, scipy, numpy, matplotlib\n",
    "import pandas as pd\n",
    "import numpy as np\n",
    "import matplotlib.pyplot as plt\n",
    "import scipy.stats as stats"
   ]
  },
  {
   "cell_type": "markdown",
   "metadata": {},
   "source": [
    "## Data Import"
   ]
  },
  {
   "cell_type": "code",
   "execution_count": 5,
   "metadata": {},
   "outputs": [],
   "source": [
    "os = pd.read_csv('OSMI_Survey_Data.csv')"
   ]
  },
  {
   "cell_type": "code",
   "execution_count": 6,
   "metadata": {},
   "outputs": [
    {
     "data": {
      "text/plain": [
       "(60186, 28)"
      ]
     },
     "execution_count": 6,
     "metadata": {},
     "output_type": "execute_result"
    }
   ],
   "source": [
    "os.shape"
   ]
  },
  {
   "cell_type": "code",
   "execution_count": 8,
   "metadata": {},
   "outputs": [
    {
     "name": "stdout",
     "output_type": "stream",
     "text": [
      "<class 'pandas.core.frame.DataFrame'>\n",
      "RangeIndex: 60186 entries, 0 to 60185\n",
      "Data columns (total 28 columns):\n",
      " #   Column                                                                                      Non-Null Count  Dtype  \n",
      "---  ------                                                                                      --------------  -----  \n",
      " 0   index                                                                                       60186 non-null  int64  \n",
      " 1   ResponseID                                                                                  60186 non-null  object \n",
      " 2   Are you selfemployed                                                                        60186 non-null  bool   \n",
      " 3   How many employees does your company or organization have                                   48132 non-null  object \n",
      " 4   Is your employer primarily a tech companyorganization                                       48132 non-null  object \n",
      " 5   Is your primary role within your company related to techIT                                  11046 non-null  object \n",
      " 6   Do you have previous employers                                                              60186 non-null  bool   \n",
      " 7   Do you have a family history of mental illness                                              60186 non-null  object \n",
      " 8   Have you had a mental health disorder in the past                                           60186 non-null  object \n",
      " 9   Do you currently have a mental health disorder                                              60186 non-null  object \n",
      " 10  If yes, what conditions have you been diagnosed with                                        23856 non-null  object \n",
      " 11  If maybe, what conditions do you believe you have                                           13524 non-null  object \n",
      " 12  Have you been diagnosed with a mental health condition by a medical professional            60186 non-null  bool   \n",
      " 13  If so, what conditions were you diagnosed with                                              29862 non-null  object \n",
      " 14  Have you ever sought treatment for a mental health issue from a mental health professional  60186 non-null  bool   \n",
      " 15  What is your age                                                                            60102 non-null  float64\n",
      " 16  What is your gender                                                                         60186 non-null  object \n",
      " 17  Age Group                                                                                   60186 non-null  object \n",
      " 18  What country do you live in                                                                 60186 non-null  object \n",
      " 19  What US state or territory do you live in                                                   35280 non-null  object \n",
      " 20  What country do you work in                                                                 60186 non-null  object \n",
      " 21  What US state or territory do you work in                                                   35742 non-null  object \n",
      " 22  Which of the following best describes your work position                                    60186 non-null  object \n",
      " 23  Do you work remotely                                                                        60186 non-null  object \n",
      " 24  Question Group                                                                              51588 non-null  object \n",
      " 25  Question about speaking openly about mental health vs physical health                       60186 non-null  object \n",
      " 26  Question                                                                                    60186 non-null  object \n",
      " 27  Response                                                                                    43846 non-null  object \n",
      "dtypes: bool(4), float64(1), int64(1), object(22)\n",
      "memory usage: 11.3+ MB\n"
     ]
    }
   ],
   "source": [
    "os.info()"
   ]
  },
  {
   "cell_type": "code",
   "execution_count": 14,
   "metadata": {},
   "outputs": [],
   "source": [
    "# Rename columns to be more intuitive\n",
    "os.columns = ['index', 'ResponseID', \"Self_employed\", \"Size_company\", \"Tech_company\", \"TechIT_Job\", \"Previous_employer\", \"Family_hist\", \"Past_MentalHealth\", \"Current_MentalHealth\", \"Yes_Current_Conditions\", \"Maybe_Believed_Conditions\", \"Med_Prof_Diagnose\", \"Diagnosed_Conditions\", \"Sought_Treatment\", \"Age\", \"Gender\", \"Age_Group\", \"Country_live\", \"US_State/territory_live\", \"Country_work\", \"US_State/territory_work\", \"Work_description\", \"Remotely\", \"Question Group\", \"Speak_openly\", \"Question\", \"Response\"]"
   ]
  },
  {
   "cell_type": "code",
   "execution_count": 19,
   "metadata": {},
   "outputs": [
    {
     "data": {
      "text/plain": [
       "Index(['index', 'ResponseID', 'Self_employed', 'Size_company', 'Tech_company',\n",
       "       'TechIT_Job', 'Previous_employer', 'Family_hist', 'Past_MentalHealth',\n",
       "       'Current_MentalHealth', 'Yes_Current_Conditions',\n",
       "       'Maybe_Believed_Conditions', 'Med_Prof_Diagnose',\n",
       "       'Diagnosed_Conditions', 'Sought_Treatment', 'Age', 'Gender',\n",
       "       'Age_Group', 'Country_live', 'US_State/territory_live', 'Country_work',\n",
       "       'US_State/territory_work', 'Work_description', 'Remotely',\n",
       "       'Question Group', 'Speak_openly', 'Question', 'Response'],\n",
       "      dtype='object')"
      ]
     },
     "execution_count": 19,
     "metadata": {},
     "output_type": "execute_result"
    }
   ],
   "source": [
    "# show the columns now\n",
    "os.columns"
   ]
  },
  {
   "cell_type": "code",
   "execution_count": 20,
   "metadata": {},
   "outputs": [
    {
     "data": {
      "application/vnd.microsoft.datawrangler.viewer.v0+json": {
       "columns": [
        {
         "name": "index",
         "rawType": "int64",
         "type": "integer"
        },
        {
         "name": "index",
         "rawType": "int64",
         "type": "integer"
        },
        {
         "name": "ResponseID",
         "rawType": "object",
         "type": "string"
        },
        {
         "name": "Self_employed",
         "rawType": "bool",
         "type": "boolean"
        },
        {
         "name": "Size_company",
         "rawType": "object",
         "type": "string"
        },
        {
         "name": "Tech_company",
         "rawType": "object",
         "type": "unknown"
        },
        {
         "name": "TechIT_Job",
         "rawType": "object",
         "type": "unknown"
        },
        {
         "name": "Previous_employer",
         "rawType": "bool",
         "type": "boolean"
        },
        {
         "name": "Family_hist",
         "rawType": "object",
         "type": "string"
        },
        {
         "name": "Past_MentalHealth",
         "rawType": "object",
         "type": "string"
        },
        {
         "name": "Current_MentalHealth",
         "rawType": "object",
         "type": "string"
        },
        {
         "name": "Yes_Current_Conditions",
         "rawType": "object",
         "type": "unknown"
        },
        {
         "name": "Maybe_Believed_Conditions",
         "rawType": "object",
         "type": "unknown"
        },
        {
         "name": "Med_Prof_Diagnose",
         "rawType": "bool",
         "type": "boolean"
        },
        {
         "name": "Diagnosed_Conditions",
         "rawType": "object",
         "type": "string"
        },
        {
         "name": "Sought_Treatment",
         "rawType": "bool",
         "type": "boolean"
        },
        {
         "name": "Age",
         "rawType": "float64",
         "type": "float"
        },
        {
         "name": "Gender",
         "rawType": "object",
         "type": "string"
        },
        {
         "name": "Age_Group",
         "rawType": "object",
         "type": "string"
        },
        {
         "name": "Country_live",
         "rawType": "object",
         "type": "string"
        },
        {
         "name": "US_State/territory_live",
         "rawType": "object",
         "type": "unknown"
        },
        {
         "name": "Country_work",
         "rawType": "object",
         "type": "string"
        },
        {
         "name": "US_State/territory_work",
         "rawType": "object",
         "type": "unknown"
        },
        {
         "name": "Work_description",
         "rawType": "object",
         "type": "string"
        },
        {
         "name": "Remotely",
         "rawType": "object",
         "type": "string"
        },
        {
         "name": "Question Group",
         "rawType": "object",
         "type": "string"
        },
        {
         "name": "Speak_openly",
         "rawType": "object",
         "type": "string"
        },
        {
         "name": "Question",
         "rawType": "object",
         "type": "string"
        },
        {
         "name": "Response",
         "rawType": "object",
         "type": "unknown"
        }
       ],
       "conversionMethod": "pd.DataFrame",
       "ref": "2a3b6b20-065e-44f2-83e8-03712fff080a",
       "rows": [
        [
         "0",
         "0",
         "r00000",
         "False",
         "26-100",
         "True",
         null,
         "True",
         "No",
         "Yes",
         "No",
         null,
         null,
         "True",
         "Anxiety Disorder (Generalized, Social, Phobia, etc)",
         "False",
         "39.0",
         "Male",
         "36-40",
         "United Kingdom",
         null,
         "United Kingdom",
         null,
         "Back-end Developer",
         "Sometimes",
         "Resources for employees with mental health disorders",
         "No",
         "Does your employer provide mental health benefits as part of healthcare coverage",
         "Not eligible for coverage / N/A"
        ],
        [
         "1",
         "1",
         "r00000",
         "False",
         "26-100",
         "True",
         null,
         "True",
         "No",
         "Yes",
         "No",
         null,
         null,
         "True",
         "Anxiety Disorder (Generalized, Social, Phobia, etc)",
         "False",
         "39.0",
         "Male",
         "36-40",
         "United Kingdom",
         null,
         "United Kingdom",
         null,
         "Back-end Developer",
         "Sometimes",
         "Resources for employees with mental health disorders",
         "No",
         "Do you know the options for mental health care available under your employerprovided coverage",
         null
        ],
        [
         "2",
         "2",
         "r00000",
         "False",
         "26-100",
         "True",
         null,
         "True",
         "No",
         "Yes",
         "No",
         null,
         null,
         "True",
         "Anxiety Disorder (Generalized, Social, Phobia, etc)",
         "False",
         "39.0",
         "Male",
         "36-40",
         "United Kingdom",
         null,
         "United Kingdom",
         null,
         "Back-end Developer",
         "Sometimes",
         "Safe and supportive workplce for those with mental health issues",
         "No",
         "Has your employer ever formally discussed mental health for example, as part of a wellness campaign or other official communic",
         "No"
        ],
        [
         "3",
         "3",
         "r00000",
         "False",
         "26-100",
         "True",
         null,
         "True",
         "No",
         "Yes",
         "No",
         null,
         null,
         "True",
         "Anxiety Disorder (Generalized, Social, Phobia, etc)",
         "False",
         "39.0",
         "Male",
         "36-40",
         "United Kingdom",
         null,
         "United Kingdom",
         null,
         "Back-end Developer",
         "Sometimes",
         "Resources for employees with mental health disorders",
         "No",
         "Does your employer offer resources to learn more about mental health concerns and options for seeking help",
         "No"
        ],
        [
         "4",
         "4",
         "r00000",
         "False",
         "26-100",
         "True",
         null,
         "True",
         "No",
         "Yes",
         "No",
         null,
         null,
         "True",
         "Anxiety Disorder (Generalized, Social, Phobia, etc)",
         "False",
         "39.0",
         "Male",
         "36-40",
         "United Kingdom",
         null,
         "United Kingdom",
         null,
         "Back-end Developer",
         "Sometimes",
         "Resources for employees with mental health disorders",
         "No",
         "Is your anonymity protected if you choose to take advantage of mental health or substance abuse treatment resources provided by",
         "I don't know"
        ]
       ],
       "shape": {
        "columns": 28,
        "rows": 5
       }
      },
      "text/html": [
       "<div>\n",
       "<style scoped>\n",
       "    .dataframe tbody tr th:only-of-type {\n",
       "        vertical-align: middle;\n",
       "    }\n",
       "\n",
       "    .dataframe tbody tr th {\n",
       "        vertical-align: top;\n",
       "    }\n",
       "\n",
       "    .dataframe thead th {\n",
       "        text-align: right;\n",
       "    }\n",
       "</style>\n",
       "<table border=\"1\" class=\"dataframe\">\n",
       "  <thead>\n",
       "    <tr style=\"text-align: right;\">\n",
       "      <th></th>\n",
       "      <th>index</th>\n",
       "      <th>ResponseID</th>\n",
       "      <th>Self_employed</th>\n",
       "      <th>Size_company</th>\n",
       "      <th>Tech_company</th>\n",
       "      <th>TechIT_Job</th>\n",
       "      <th>Previous_employer</th>\n",
       "      <th>Family_hist</th>\n",
       "      <th>Past_MentalHealth</th>\n",
       "      <th>Current_MentalHealth</th>\n",
       "      <th>...</th>\n",
       "      <th>Country_live</th>\n",
       "      <th>US_State/territory_live</th>\n",
       "      <th>Country_work</th>\n",
       "      <th>US_State/territory_work</th>\n",
       "      <th>Work_description</th>\n",
       "      <th>Remotely</th>\n",
       "      <th>Question Group</th>\n",
       "      <th>Speak_openly</th>\n",
       "      <th>Question</th>\n",
       "      <th>Response</th>\n",
       "    </tr>\n",
       "  </thead>\n",
       "  <tbody>\n",
       "    <tr>\n",
       "      <th>0</th>\n",
       "      <td>0</td>\n",
       "      <td>r00000</td>\n",
       "      <td>False</td>\n",
       "      <td>26-100</td>\n",
       "      <td>True</td>\n",
       "      <td>NaN</td>\n",
       "      <td>True</td>\n",
       "      <td>No</td>\n",
       "      <td>Yes</td>\n",
       "      <td>No</td>\n",
       "      <td>...</td>\n",
       "      <td>United Kingdom</td>\n",
       "      <td>NaN</td>\n",
       "      <td>United Kingdom</td>\n",
       "      <td>NaN</td>\n",
       "      <td>Back-end Developer</td>\n",
       "      <td>Sometimes</td>\n",
       "      <td>Resources for employees with mental health dis...</td>\n",
       "      <td>No</td>\n",
       "      <td>Does your employer provide mental health benef...</td>\n",
       "      <td>Not eligible for coverage / N/A</td>\n",
       "    </tr>\n",
       "    <tr>\n",
       "      <th>1</th>\n",
       "      <td>1</td>\n",
       "      <td>r00000</td>\n",
       "      <td>False</td>\n",
       "      <td>26-100</td>\n",
       "      <td>True</td>\n",
       "      <td>NaN</td>\n",
       "      <td>True</td>\n",
       "      <td>No</td>\n",
       "      <td>Yes</td>\n",
       "      <td>No</td>\n",
       "      <td>...</td>\n",
       "      <td>United Kingdom</td>\n",
       "      <td>NaN</td>\n",
       "      <td>United Kingdom</td>\n",
       "      <td>NaN</td>\n",
       "      <td>Back-end Developer</td>\n",
       "      <td>Sometimes</td>\n",
       "      <td>Resources for employees with mental health dis...</td>\n",
       "      <td>No</td>\n",
       "      <td>Do you know the options for mental health care...</td>\n",
       "      <td>NaN</td>\n",
       "    </tr>\n",
       "    <tr>\n",
       "      <th>2</th>\n",
       "      <td>2</td>\n",
       "      <td>r00000</td>\n",
       "      <td>False</td>\n",
       "      <td>26-100</td>\n",
       "      <td>True</td>\n",
       "      <td>NaN</td>\n",
       "      <td>True</td>\n",
       "      <td>No</td>\n",
       "      <td>Yes</td>\n",
       "      <td>No</td>\n",
       "      <td>...</td>\n",
       "      <td>United Kingdom</td>\n",
       "      <td>NaN</td>\n",
       "      <td>United Kingdom</td>\n",
       "      <td>NaN</td>\n",
       "      <td>Back-end Developer</td>\n",
       "      <td>Sometimes</td>\n",
       "      <td>Safe and supportive workplce for those with me...</td>\n",
       "      <td>No</td>\n",
       "      <td>Has your employer ever formally discussed ment...</td>\n",
       "      <td>No</td>\n",
       "    </tr>\n",
       "    <tr>\n",
       "      <th>3</th>\n",
       "      <td>3</td>\n",
       "      <td>r00000</td>\n",
       "      <td>False</td>\n",
       "      <td>26-100</td>\n",
       "      <td>True</td>\n",
       "      <td>NaN</td>\n",
       "      <td>True</td>\n",
       "      <td>No</td>\n",
       "      <td>Yes</td>\n",
       "      <td>No</td>\n",
       "      <td>...</td>\n",
       "      <td>United Kingdom</td>\n",
       "      <td>NaN</td>\n",
       "      <td>United Kingdom</td>\n",
       "      <td>NaN</td>\n",
       "      <td>Back-end Developer</td>\n",
       "      <td>Sometimes</td>\n",
       "      <td>Resources for employees with mental health dis...</td>\n",
       "      <td>No</td>\n",
       "      <td>Does your employer offer resources to learn mo...</td>\n",
       "      <td>No</td>\n",
       "    </tr>\n",
       "    <tr>\n",
       "      <th>4</th>\n",
       "      <td>4</td>\n",
       "      <td>r00000</td>\n",
       "      <td>False</td>\n",
       "      <td>26-100</td>\n",
       "      <td>True</td>\n",
       "      <td>NaN</td>\n",
       "      <td>True</td>\n",
       "      <td>No</td>\n",
       "      <td>Yes</td>\n",
       "      <td>No</td>\n",
       "      <td>...</td>\n",
       "      <td>United Kingdom</td>\n",
       "      <td>NaN</td>\n",
       "      <td>United Kingdom</td>\n",
       "      <td>NaN</td>\n",
       "      <td>Back-end Developer</td>\n",
       "      <td>Sometimes</td>\n",
       "      <td>Resources for employees with mental health dis...</td>\n",
       "      <td>No</td>\n",
       "      <td>Is your anonymity protected if you choose to t...</td>\n",
       "      <td>I don't know</td>\n",
       "    </tr>\n",
       "  </tbody>\n",
       "</table>\n",
       "<p>5 rows × 28 columns</p>\n",
       "</div>"
      ],
      "text/plain": [
       "   index ResponseID  Self_employed Size_company Tech_company TechIT_Job  \\\n",
       "0      0     r00000          False       26-100         True        NaN   \n",
       "1      1     r00000          False       26-100         True        NaN   \n",
       "2      2     r00000          False       26-100         True        NaN   \n",
       "3      3     r00000          False       26-100         True        NaN   \n",
       "4      4     r00000          False       26-100         True        NaN   \n",
       "\n",
       "   Previous_employer Family_hist Past_MentalHealth Current_MentalHealth  ...  \\\n",
       "0               True          No               Yes                   No  ...   \n",
       "1               True          No               Yes                   No  ...   \n",
       "2               True          No               Yes                   No  ...   \n",
       "3               True          No               Yes                   No  ...   \n",
       "4               True          No               Yes                   No  ...   \n",
       "\n",
       "     Country_live US_State/territory_live    Country_work  \\\n",
       "0  United Kingdom                     NaN  United Kingdom   \n",
       "1  United Kingdom                     NaN  United Kingdom   \n",
       "2  United Kingdom                     NaN  United Kingdom   \n",
       "3  United Kingdom                     NaN  United Kingdom   \n",
       "4  United Kingdom                     NaN  United Kingdom   \n",
       "\n",
       "  US_State/territory_work    Work_description   Remotely  \\\n",
       "0                     NaN  Back-end Developer  Sometimes   \n",
       "1                     NaN  Back-end Developer  Sometimes   \n",
       "2                     NaN  Back-end Developer  Sometimes   \n",
       "3                     NaN  Back-end Developer  Sometimes   \n",
       "4                     NaN  Back-end Developer  Sometimes   \n",
       "\n",
       "                                      Question Group Speak_openly  \\\n",
       "0  Resources for employees with mental health dis...           No   \n",
       "1  Resources for employees with mental health dis...           No   \n",
       "2  Safe and supportive workplce for those with me...           No   \n",
       "3  Resources for employees with mental health dis...           No   \n",
       "4  Resources for employees with mental health dis...           No   \n",
       "\n",
       "                                            Question  \\\n",
       "0  Does your employer provide mental health benef...   \n",
       "1  Do you know the options for mental health care...   \n",
       "2  Has your employer ever formally discussed ment...   \n",
       "3  Does your employer offer resources to learn mo...   \n",
       "4  Is your anonymity protected if you choose to t...   \n",
       "\n",
       "                          Response  \n",
       "0  Not eligible for coverage / N/A  \n",
       "1                              NaN  \n",
       "2                               No  \n",
       "3                               No  \n",
       "4                     I don't know  \n",
       "\n",
       "[5 rows x 28 columns]"
      ]
     },
     "execution_count": 20,
     "metadata": {},
     "output_type": "execute_result"
    }
   ],
   "source": [
    "# show the first 5 rows\n",
    "os.head()"
   ]
  },
  {
   "cell_type": "markdown",
   "metadata": {},
   "source": [
    "## Caregorical data"
   ]
  },
  {
   "cell_type": "code",
   "execution_count": 17,
   "metadata": {},
   "outputs": [
    {
     "data": {
      "text/plain": [
       "0    True\n",
       "1    True\n",
       "2    True\n",
       "3    True\n",
       "4    True\n",
       "Name: Med_Prof_Diagnose, dtype: bool"
      ]
     },
     "execution_count": 17,
     "metadata": {},
     "output_type": "execute_result"
    }
   ],
   "source": [
    "# show first 5 rows of have you ever been diagnosed with a mental health disorder by a medical professional\n",
    "os['Med_Prof_Diagnose'].head()"
   ]
  },
  {
   "cell_type": "markdown",
   "metadata": {},
   "source": [
    "- What are the two categories and the counts of these for medical professional diagnosis of a mental health disorder?"
   ]
  },
  {
   "cell_type": "code",
   "execution_count": 18,
   "metadata": {},
   "outputs": [
    {
     "data": {
      "text/plain": [
       "Med_Prof_Diagnose\n",
       "False    30114\n",
       "True     30072\n",
       "Name: count, dtype: int64"
      ]
     },
     "execution_count": 18,
     "metadata": {},
     "output_type": "execute_result"
    }
   ],
   "source": [
    "# What are the distinct values for have you been diagnosed with a mental health disorder by a medical professional\n",
    "os['Med_Prof_Diagnose'].value_counts()"
   ]
  },
  {
   "cell_type": "markdown",
   "metadata": {},
   "source": [
    "- Here are the percetanges"
   ]
  },
  {
   "cell_type": "code",
   "execution_count": 22,
   "metadata": {},
   "outputs": [
    {
     "data": {
      "text/plain": [
       "Med_Prof_Diagnose\n",
       "False    50.034892\n",
       "True     49.965108\n",
       "Name: proportion, dtype: float64"
      ]
     },
     "execution_count": 22,
     "metadata": {},
     "output_type": "execute_result"
    }
   ],
   "source": [
    "# Calculate the proportions of the ones that have been diagnosed nd make percentages\n",
    "os['Med_Prof_Diagnose'].value_counts(normalize=True) * 100"
   ]
  },
  {
   "cell_type": "markdown",
   "metadata": {},
   "source": [
    "- Look at the counts for tech company vs non tech"
   ]
  },
  {
   "cell_type": "code",
   "execution_count": 24,
   "metadata": {},
   "outputs": [
    {
     "data": {
      "text/plain": [
       "Tech_company\n",
       "True     37086\n",
       "False    11046\n",
       "Name: count, dtype: int64"
      ]
     },
     "execution_count": 24,
     "metadata": {},
     "output_type": "execute_result"
    }
   ],
   "source": [
    "# Calculate frequency of tech company\n",
    "os['Tech_company'].value_counts()"
   ]
  },
  {
   "cell_type": "code",
   "execution_count": 25,
   "metadata": {},
   "outputs": [
    {
     "data": {
      "text/plain": [
       "Tech_company\n",
       "True     77.050611\n",
       "False    22.949389\n",
       "Name: proportion, dtype: float64"
      ]
     },
     "execution_count": 25,
     "metadata": {},
     "output_type": "execute_result"
    }
   ],
   "source": [
    "# calculate the percentage of tech company\n",
    "os['Tech_company'].value_counts(normalize=True) * 100"
   ]
  },
  {
   "cell_type": "markdown",
   "metadata": {},
   "source": [
    "- Now we will compare the counts of diagnosis related to whether or not they work for a tech company"
   ]
  },
  {
   "cell_type": "code",
   "execution_count": 34,
   "metadata": {},
   "outputs": [
    {
     "data": {
      "application/vnd.microsoft.datawrangler.viewer.v0+json": {
       "columns": [
        {
         "name": "Tech_company",
         "rawType": "bool",
         "type": "boolean"
        },
        {
         "name": "False",
         "rawType": "int64",
         "type": "integer"
        },
        {
         "name": "True",
         "rawType": "int64",
         "type": "integer"
        }
       ],
       "conversionMethod": "pd.DataFrame",
       "ref": "321cadc2-1265-4f86-b382-5310d600538a",
       "rows": [
        [
         "False",
         "5460",
         "5586"
        ],
        [
         "True",
         "18858",
         "18228"
        ]
       ],
       "shape": {
        "columns": 2,
        "rows": 2
       }
      },
      "text/html": [
       "<div>\n",
       "<style scoped>\n",
       "    .dataframe tbody tr th:only-of-type {\n",
       "        vertical-align: middle;\n",
       "    }\n",
       "\n",
       "    .dataframe tbody tr th {\n",
       "        vertical-align: top;\n",
       "    }\n",
       "\n",
       "    .dataframe thead th {\n",
       "        text-align: right;\n",
       "    }\n",
       "</style>\n",
       "<table border=\"1\" class=\"dataframe\">\n",
       "  <thead>\n",
       "    <tr style=\"text-align: right;\">\n",
       "      <th>Med_Prof_Diagnose</th>\n",
       "      <th>False</th>\n",
       "      <th>True</th>\n",
       "    </tr>\n",
       "    <tr>\n",
       "      <th>Tech_company</th>\n",
       "      <th></th>\n",
       "      <th></th>\n",
       "    </tr>\n",
       "  </thead>\n",
       "  <tbody>\n",
       "    <tr>\n",
       "      <th>False</th>\n",
       "      <td>5460</td>\n",
       "      <td>5586</td>\n",
       "    </tr>\n",
       "    <tr>\n",
       "      <th>True</th>\n",
       "      <td>18858</td>\n",
       "      <td>18228</td>\n",
       "    </tr>\n",
       "  </tbody>\n",
       "</table>\n",
       "</div>"
      ],
      "text/plain": [
       "Med_Prof_Diagnose  False  True \n",
       "Tech_company                   \n",
       "False               5460   5586\n",
       "True               18858  18228"
      ]
     },
     "execution_count": 34,
     "metadata": {},
     "output_type": "execute_result"
    }
   ],
   "source": [
    "# Make a neat table with tech company and diagnosis counts\n",
    "pd.crosstab(os['Tech_company'], os['Med_Prof_Diagnose'])\n"
   ]
  },
  {
   "cell_type": "markdown",
   "metadata": {},
   "source": [
    "- Here is another comparison of two categorical variables: Country you work in and Mental Health diagnosis"
   ]
  },
  {
   "cell_type": "code",
   "execution_count": 38,
   "metadata": {},
   "outputs": [
    {
     "data": {
      "text/plain": [
       "Country_work\n",
       "United States of America    35742\n",
       "United Kingdom               7686\n",
       "Canada                       3108\n",
       "Germany                      2436\n",
       "Netherlands                  1974\n",
       "Australia                    1428\n",
       "Sweden                        840\n",
       "Ireland                       630\n",
       "France                        588\n",
       "Switzerland                   420\n",
       "Brazil                        420\n",
       "India                         378\n",
       "Russia                        378\n",
       "New Zealand                   378\n",
       "Denmark                       294\n",
       "Bulgaria                      294\n",
       "Finland                       294\n",
       "Belgium                       210\n",
       "South Africa                  168\n",
       "Poland                        168\n",
       "Austria                       168\n",
       "Czech Republic                126\n",
       "Italy                         126\n",
       "Chile                         126\n",
       "Norway                        126\n",
       "Romania                       126\n",
       "Spain                         126\n",
       "Other                          84\n",
       "Bosnia and Herzegovina         84\n",
       "Afghanistan                    84\n",
       "Pakistan                       84\n",
       "Israel                         84\n",
       "Estonia                        84\n",
       "Colombia                       84\n",
       "Mexico                         84\n",
       "Slovakia                       42\n",
       "United Arab Emirates           42\n",
       "Serbia                         42\n",
       "Guatemala                      42\n",
       "Lithuania                      42\n",
       "China                          42\n",
       "Venezuela                      42\n",
       "Ecuador                        42\n",
       "Japan                          42\n",
       "Hungary                        42\n",
       "Vietnam                        42\n",
       "Iran                           42\n",
       "Brunei                         42\n",
       "Argentina                      42\n",
       "Greece                         42\n",
       "Costa Rica                     42\n",
       "Bangladesh                     42\n",
       "Turkey                         42\n",
       "Name: count, dtype: int64"
      ]
     },
     "execution_count": 38,
     "metadata": {},
     "output_type": "execute_result"
    }
   ],
   "source": [
    "# Calculate the frequency of each Coutnry you work in\n",
    "os['Country_work'].value_counts()"
   ]
  },
  {
   "cell_type": "code",
   "execution_count": 39,
   "metadata": {},
   "outputs": [
    {
     "data": {
      "application/vnd.microsoft.datawrangler.viewer.v0+json": {
       "columns": [
        {
         "name": "Country_work",
         "rawType": "object",
         "type": "string"
        },
        {
         "name": "False",
         "rawType": "int64",
         "type": "integer"
        },
        {
         "name": "True",
         "rawType": "int64",
         "type": "integer"
        }
       ],
       "conversionMethod": "pd.DataFrame",
       "ref": "c00112c2-c7a0-4cab-a0fa-e22affcd58ec",
       "rows": [
        [
         "Afghanistan",
         "0",
         "42"
        ],
        [
         "Argentina",
         "0",
         "42"
        ],
        [
         "Australia",
         "210",
         "882"
        ],
        [
         "Austria",
         "0",
         "42"
        ],
        [
         "Bangladesh",
         "0",
         "42"
        ],
        [
         "Belgium",
         "0",
         "126"
        ],
        [
         "Bosnia and Herzegovina",
         "42",
         "42"
        ],
        [
         "Brazil",
         "168",
         "210"
        ],
        [
         "Bulgaria",
         "0",
         "252"
        ],
        [
         "Canada",
         "378",
         "2184"
        ],
        [
         "Chile",
         "42",
         "84"
        ],
        [
         "Colombia",
         "42",
         "42"
        ],
        [
         "Czech Republic",
         "0",
         "42"
        ],
        [
         "Denmark",
         "42",
         "168"
        ],
        [
         "Ecuador",
         "0",
         "42"
        ],
        [
         "Estonia",
         "0",
         "84"
        ],
        [
         "Finland",
         "84",
         "126"
        ],
        [
         "France",
         "42",
         "420"
        ],
        [
         "Germany",
         "378",
         "1470"
        ],
        [
         "Hungary",
         "0",
         "42"
        ],
        [
         "India",
         "0",
         "294"
        ],
        [
         "Iran",
         "0",
         "42"
        ],
        [
         "Ireland",
         "84",
         "336"
        ],
        [
         "Israel",
         "0",
         "84"
        ],
        [
         "Italy",
         "42",
         "84"
        ],
        [
         "Japan",
         "42",
         "0"
        ],
        [
         "Mexico",
         "84",
         "0"
        ],
        [
         "Netherlands",
         "378",
         "924"
        ],
        [
         "New Zealand",
         "0",
         "252"
        ],
        [
         "Norway",
         "42",
         "84"
        ],
        [
         "Other",
         "0",
         "42"
        ],
        [
         "Pakistan",
         "0",
         "84"
        ],
        [
         "Poland",
         "42",
         "42"
        ],
        [
         "Romania",
         "0",
         "42"
        ],
        [
         "Russia",
         "0",
         "378"
        ],
        [
         "Slovakia",
         "0",
         "42"
        ],
        [
         "South Africa",
         "84",
         "84"
        ],
        [
         "Spain",
         "0",
         "84"
        ],
        [
         "Sweden",
         "126",
         "504"
        ],
        [
         "Switzerland",
         "84",
         "168"
        ],
        [
         "United Arab Emirates",
         "0",
         "42"
        ],
        [
         "United Kingdom",
         "1512",
         "4074"
        ],
        [
         "United States of America",
         "7098",
         "22974"
        ],
        [
         "Vietnam",
         "0",
         "42"
        ]
       ],
       "shape": {
        "columns": 2,
        "rows": 44
       }
      },
      "text/html": [
       "<div>\n",
       "<style scoped>\n",
       "    .dataframe tbody tr th:only-of-type {\n",
       "        vertical-align: middle;\n",
       "    }\n",
       "\n",
       "    .dataframe tbody tr th {\n",
       "        vertical-align: top;\n",
       "    }\n",
       "\n",
       "    .dataframe thead th {\n",
       "        text-align: right;\n",
       "    }\n",
       "</style>\n",
       "<table border=\"1\" class=\"dataframe\">\n",
       "  <thead>\n",
       "    <tr style=\"text-align: right;\">\n",
       "      <th>Tech_company</th>\n",
       "      <th>False</th>\n",
       "      <th>True</th>\n",
       "    </tr>\n",
       "    <tr>\n",
       "      <th>Country_work</th>\n",
       "      <th></th>\n",
       "      <th></th>\n",
       "    </tr>\n",
       "  </thead>\n",
       "  <tbody>\n",
       "    <tr>\n",
       "      <th>Afghanistan</th>\n",
       "      <td>0</td>\n",
       "      <td>42</td>\n",
       "    </tr>\n",
       "    <tr>\n",
       "      <th>Argentina</th>\n",
       "      <td>0</td>\n",
       "      <td>42</td>\n",
       "    </tr>\n",
       "    <tr>\n",
       "      <th>Australia</th>\n",
       "      <td>210</td>\n",
       "      <td>882</td>\n",
       "    </tr>\n",
       "    <tr>\n",
       "      <th>Austria</th>\n",
       "      <td>0</td>\n",
       "      <td>42</td>\n",
       "    </tr>\n",
       "    <tr>\n",
       "      <th>Bangladesh</th>\n",
       "      <td>0</td>\n",
       "      <td>42</td>\n",
       "    </tr>\n",
       "    <tr>\n",
       "      <th>Belgium</th>\n",
       "      <td>0</td>\n",
       "      <td>126</td>\n",
       "    </tr>\n",
       "    <tr>\n",
       "      <th>Bosnia and Herzegovina</th>\n",
       "      <td>42</td>\n",
       "      <td>42</td>\n",
       "    </tr>\n",
       "    <tr>\n",
       "      <th>Brazil</th>\n",
       "      <td>168</td>\n",
       "      <td>210</td>\n",
       "    </tr>\n",
       "    <tr>\n",
       "      <th>Bulgaria</th>\n",
       "      <td>0</td>\n",
       "      <td>252</td>\n",
       "    </tr>\n",
       "    <tr>\n",
       "      <th>Canada</th>\n",
       "      <td>378</td>\n",
       "      <td>2184</td>\n",
       "    </tr>\n",
       "    <tr>\n",
       "      <th>Chile</th>\n",
       "      <td>42</td>\n",
       "      <td>84</td>\n",
       "    </tr>\n",
       "    <tr>\n",
       "      <th>Colombia</th>\n",
       "      <td>42</td>\n",
       "      <td>42</td>\n",
       "    </tr>\n",
       "    <tr>\n",
       "      <th>Czech Republic</th>\n",
       "      <td>0</td>\n",
       "      <td>42</td>\n",
       "    </tr>\n",
       "    <tr>\n",
       "      <th>Denmark</th>\n",
       "      <td>42</td>\n",
       "      <td>168</td>\n",
       "    </tr>\n",
       "    <tr>\n",
       "      <th>Ecuador</th>\n",
       "      <td>0</td>\n",
       "      <td>42</td>\n",
       "    </tr>\n",
       "    <tr>\n",
       "      <th>Estonia</th>\n",
       "      <td>0</td>\n",
       "      <td>84</td>\n",
       "    </tr>\n",
       "    <tr>\n",
       "      <th>Finland</th>\n",
       "      <td>84</td>\n",
       "      <td>126</td>\n",
       "    </tr>\n",
       "    <tr>\n",
       "      <th>France</th>\n",
       "      <td>42</td>\n",
       "      <td>420</td>\n",
       "    </tr>\n",
       "    <tr>\n",
       "      <th>Germany</th>\n",
       "      <td>378</td>\n",
       "      <td>1470</td>\n",
       "    </tr>\n",
       "    <tr>\n",
       "      <th>Hungary</th>\n",
       "      <td>0</td>\n",
       "      <td>42</td>\n",
       "    </tr>\n",
       "    <tr>\n",
       "      <th>India</th>\n",
       "      <td>0</td>\n",
       "      <td>294</td>\n",
       "    </tr>\n",
       "    <tr>\n",
       "      <th>Iran</th>\n",
       "      <td>0</td>\n",
       "      <td>42</td>\n",
       "    </tr>\n",
       "    <tr>\n",
       "      <th>Ireland</th>\n",
       "      <td>84</td>\n",
       "      <td>336</td>\n",
       "    </tr>\n",
       "    <tr>\n",
       "      <th>Israel</th>\n",
       "      <td>0</td>\n",
       "      <td>84</td>\n",
       "    </tr>\n",
       "    <tr>\n",
       "      <th>Italy</th>\n",
       "      <td>42</td>\n",
       "      <td>84</td>\n",
       "    </tr>\n",
       "    <tr>\n",
       "      <th>Japan</th>\n",
       "      <td>42</td>\n",
       "      <td>0</td>\n",
       "    </tr>\n",
       "    <tr>\n",
       "      <th>Mexico</th>\n",
       "      <td>84</td>\n",
       "      <td>0</td>\n",
       "    </tr>\n",
       "    <tr>\n",
       "      <th>Netherlands</th>\n",
       "      <td>378</td>\n",
       "      <td>924</td>\n",
       "    </tr>\n",
       "    <tr>\n",
       "      <th>New Zealand</th>\n",
       "      <td>0</td>\n",
       "      <td>252</td>\n",
       "    </tr>\n",
       "    <tr>\n",
       "      <th>Norway</th>\n",
       "      <td>42</td>\n",
       "      <td>84</td>\n",
       "    </tr>\n",
       "    <tr>\n",
       "      <th>Other</th>\n",
       "      <td>0</td>\n",
       "      <td>42</td>\n",
       "    </tr>\n",
       "    <tr>\n",
       "      <th>Pakistan</th>\n",
       "      <td>0</td>\n",
       "      <td>84</td>\n",
       "    </tr>\n",
       "    <tr>\n",
       "      <th>Poland</th>\n",
       "      <td>42</td>\n",
       "      <td>42</td>\n",
       "    </tr>\n",
       "    <tr>\n",
       "      <th>Romania</th>\n",
       "      <td>0</td>\n",
       "      <td>42</td>\n",
       "    </tr>\n",
       "    <tr>\n",
       "      <th>Russia</th>\n",
       "      <td>0</td>\n",
       "      <td>378</td>\n",
       "    </tr>\n",
       "    <tr>\n",
       "      <th>Slovakia</th>\n",
       "      <td>0</td>\n",
       "      <td>42</td>\n",
       "    </tr>\n",
       "    <tr>\n",
       "      <th>South Africa</th>\n",
       "      <td>84</td>\n",
       "      <td>84</td>\n",
       "    </tr>\n",
       "    <tr>\n",
       "      <th>Spain</th>\n",
       "      <td>0</td>\n",
       "      <td>84</td>\n",
       "    </tr>\n",
       "    <tr>\n",
       "      <th>Sweden</th>\n",
       "      <td>126</td>\n",
       "      <td>504</td>\n",
       "    </tr>\n",
       "    <tr>\n",
       "      <th>Switzerland</th>\n",
       "      <td>84</td>\n",
       "      <td>168</td>\n",
       "    </tr>\n",
       "    <tr>\n",
       "      <th>United Arab Emirates</th>\n",
       "      <td>0</td>\n",
       "      <td>42</td>\n",
       "    </tr>\n",
       "    <tr>\n",
       "      <th>United Kingdom</th>\n",
       "      <td>1512</td>\n",
       "      <td>4074</td>\n",
       "    </tr>\n",
       "    <tr>\n",
       "      <th>United States of America</th>\n",
       "      <td>7098</td>\n",
       "      <td>22974</td>\n",
       "    </tr>\n",
       "    <tr>\n",
       "      <th>Vietnam</th>\n",
       "      <td>0</td>\n",
       "      <td>42</td>\n",
       "    </tr>\n",
       "  </tbody>\n",
       "</table>\n",
       "</div>"
      ],
      "text/plain": [
       "Tech_company              False  True \n",
       "Country_work                          \n",
       "Afghanistan                   0     42\n",
       "Argentina                     0     42\n",
       "Australia                   210    882\n",
       "Austria                       0     42\n",
       "Bangladesh                    0     42\n",
       "Belgium                       0    126\n",
       "Bosnia and Herzegovina       42     42\n",
       "Brazil                      168    210\n",
       "Bulgaria                      0    252\n",
       "Canada                      378   2184\n",
       "Chile                        42     84\n",
       "Colombia                     42     42\n",
       "Czech Republic                0     42\n",
       "Denmark                      42    168\n",
       "Ecuador                       0     42\n",
       "Estonia                       0     84\n",
       "Finland                      84    126\n",
       "France                       42    420\n",
       "Germany                     378   1470\n",
       "Hungary                       0     42\n",
       "India                         0    294\n",
       "Iran                          0     42\n",
       "Ireland                      84    336\n",
       "Israel                        0     84\n",
       "Italy                        42     84\n",
       "Japan                        42      0\n",
       "Mexico                       84      0\n",
       "Netherlands                 378    924\n",
       "New Zealand                   0    252\n",
       "Norway                       42     84\n",
       "Other                         0     42\n",
       "Pakistan                      0     84\n",
       "Poland                       42     42\n",
       "Romania                       0     42\n",
       "Russia                        0    378\n",
       "Slovakia                      0     42\n",
       "South Africa                 84     84\n",
       "Spain                         0     84\n",
       "Sweden                      126    504\n",
       "Switzerland                  84    168\n",
       "United Arab Emirates          0     42\n",
       "United Kingdom             1512   4074\n",
       "United States of America   7098  22974\n",
       "Vietnam                       0     42"
      ]
     },
     "execution_count": 39,
     "metadata": {},
     "output_type": "execute_result"
    }
   ],
   "source": [
    "# Compare the frequency of each country you work in with the frequency of tech company\n",
    "pd.crosstab(os['Country_work'], os['Tech_company'])"
   ]
  },
  {
   "cell_type": "markdown",
   "metadata": {},
   "source": [
    "- Here is a frequency table of mental health diagnosis in the different countries"
   ]
  },
  {
   "cell_type": "code",
   "execution_count": 40,
   "metadata": {},
   "outputs": [
    {
     "data": {
      "application/vnd.microsoft.datawrangler.viewer.v0+json": {
       "columns": [
        {
         "name": "Country_work",
         "rawType": "object",
         "type": "string"
        },
        {
         "name": "False",
         "rawType": "int64",
         "type": "integer"
        },
        {
         "name": "True",
         "rawType": "int64",
         "type": "integer"
        }
       ],
       "conversionMethod": "pd.DataFrame",
       "ref": "573cd9b5-e3ac-4674-9149-9fb66347976e",
       "rows": [
        [
         "Afghanistan",
         "0",
         "84"
        ],
        [
         "Argentina",
         "42",
         "0"
        ],
        [
         "Australia",
         "462",
         "966"
        ],
        [
         "Austria",
         "42",
         "126"
        ],
        [
         "Bangladesh",
         "0",
         "42"
        ],
        [
         "Belgium",
         "126",
         "84"
        ],
        [
         "Bosnia and Herzegovina",
         "84",
         "0"
        ],
        [
         "Brazil",
         "252",
         "168"
        ],
        [
         "Brunei",
         "42",
         "0"
        ],
        [
         "Bulgaria",
         "252",
         "42"
        ],
        [
         "Canada",
         "1848",
         "1260"
        ],
        [
         "Chile",
         "84",
         "42"
        ],
        [
         "China",
         "42",
         "0"
        ],
        [
         "Colombia",
         "84",
         "0"
        ],
        [
         "Costa Rica",
         "42",
         "0"
        ],
        [
         "Czech Republic",
         "84",
         "42"
        ],
        [
         "Denmark",
         "168",
         "126"
        ],
        [
         "Ecuador",
         "0",
         "42"
        ],
        [
         "Estonia",
         "84",
         "0"
        ],
        [
         "Finland",
         "168",
         "126"
        ],
        [
         "France",
         "462",
         "126"
        ],
        [
         "Germany",
         "1554",
         "882"
        ],
        [
         "Greece",
         "42",
         "0"
        ],
        [
         "Guatemala",
         "0",
         "42"
        ],
        [
         "Hungary",
         "0",
         "42"
        ],
        [
         "India",
         "252",
         "126"
        ],
        [
         "Iran",
         "42",
         "0"
        ],
        [
         "Ireland",
         "294",
         "336"
        ],
        [
         "Israel",
         "42",
         "42"
        ],
        [
         "Italy",
         "126",
         "0"
        ],
        [
         "Japan",
         "42",
         "0"
        ],
        [
         "Lithuania",
         "42",
         "0"
        ],
        [
         "Mexico",
         "84",
         "0"
        ],
        [
         "Netherlands",
         "966",
         "1008"
        ],
        [
         "New Zealand",
         "210",
         "168"
        ],
        [
         "Norway",
         "84",
         "42"
        ],
        [
         "Other",
         "42",
         "42"
        ],
        [
         "Pakistan",
         "42",
         "42"
        ],
        [
         "Poland",
         "126",
         "42"
        ],
        [
         "Romania",
         "84",
         "42"
        ],
        [
         "Russia",
         "378",
         "0"
        ],
        [
         "Serbia",
         "42",
         "0"
        ],
        [
         "Slovakia",
         "42",
         "0"
        ],
        [
         "South Africa",
         "168",
         "0"
        ],
        [
         "Spain",
         "84",
         "42"
        ],
        [
         "Sweden",
         "546",
         "294"
        ],
        [
         "Switzerland",
         "168",
         "252"
        ],
        [
         "Turkey",
         "42",
         "0"
        ],
        [
         "United Arab Emirates",
         "0",
         "42"
        ],
        [
         "United Kingdom",
         "4368",
         "3318"
        ]
       ],
       "shape": {
        "columns": 2,
        "rows": 53
       }
      },
      "text/html": [
       "<div>\n",
       "<style scoped>\n",
       "    .dataframe tbody tr th:only-of-type {\n",
       "        vertical-align: middle;\n",
       "    }\n",
       "\n",
       "    .dataframe tbody tr th {\n",
       "        vertical-align: top;\n",
       "    }\n",
       "\n",
       "    .dataframe thead th {\n",
       "        text-align: right;\n",
       "    }\n",
       "</style>\n",
       "<table border=\"1\" class=\"dataframe\">\n",
       "  <thead>\n",
       "    <tr style=\"text-align: right;\">\n",
       "      <th>Med_Prof_Diagnose</th>\n",
       "      <th>False</th>\n",
       "      <th>True</th>\n",
       "    </tr>\n",
       "    <tr>\n",
       "      <th>Country_work</th>\n",
       "      <th></th>\n",
       "      <th></th>\n",
       "    </tr>\n",
       "  </thead>\n",
       "  <tbody>\n",
       "    <tr>\n",
       "      <th>Afghanistan</th>\n",
       "      <td>0</td>\n",
       "      <td>84</td>\n",
       "    </tr>\n",
       "    <tr>\n",
       "      <th>Argentina</th>\n",
       "      <td>42</td>\n",
       "      <td>0</td>\n",
       "    </tr>\n",
       "    <tr>\n",
       "      <th>Australia</th>\n",
       "      <td>462</td>\n",
       "      <td>966</td>\n",
       "    </tr>\n",
       "    <tr>\n",
       "      <th>Austria</th>\n",
       "      <td>42</td>\n",
       "      <td>126</td>\n",
       "    </tr>\n",
       "    <tr>\n",
       "      <th>Bangladesh</th>\n",
       "      <td>0</td>\n",
       "      <td>42</td>\n",
       "    </tr>\n",
       "    <tr>\n",
       "      <th>Belgium</th>\n",
       "      <td>126</td>\n",
       "      <td>84</td>\n",
       "    </tr>\n",
       "    <tr>\n",
       "      <th>Bosnia and Herzegovina</th>\n",
       "      <td>84</td>\n",
       "      <td>0</td>\n",
       "    </tr>\n",
       "    <tr>\n",
       "      <th>Brazil</th>\n",
       "      <td>252</td>\n",
       "      <td>168</td>\n",
       "    </tr>\n",
       "    <tr>\n",
       "      <th>Brunei</th>\n",
       "      <td>42</td>\n",
       "      <td>0</td>\n",
       "    </tr>\n",
       "    <tr>\n",
       "      <th>Bulgaria</th>\n",
       "      <td>252</td>\n",
       "      <td>42</td>\n",
       "    </tr>\n",
       "    <tr>\n",
       "      <th>Canada</th>\n",
       "      <td>1848</td>\n",
       "      <td>1260</td>\n",
       "    </tr>\n",
       "    <tr>\n",
       "      <th>Chile</th>\n",
       "      <td>84</td>\n",
       "      <td>42</td>\n",
       "    </tr>\n",
       "    <tr>\n",
       "      <th>China</th>\n",
       "      <td>42</td>\n",
       "      <td>0</td>\n",
       "    </tr>\n",
       "    <tr>\n",
       "      <th>Colombia</th>\n",
       "      <td>84</td>\n",
       "      <td>0</td>\n",
       "    </tr>\n",
       "    <tr>\n",
       "      <th>Costa Rica</th>\n",
       "      <td>42</td>\n",
       "      <td>0</td>\n",
       "    </tr>\n",
       "    <tr>\n",
       "      <th>Czech Republic</th>\n",
       "      <td>84</td>\n",
       "      <td>42</td>\n",
       "    </tr>\n",
       "    <tr>\n",
       "      <th>Denmark</th>\n",
       "      <td>168</td>\n",
       "      <td>126</td>\n",
       "    </tr>\n",
       "    <tr>\n",
       "      <th>Ecuador</th>\n",
       "      <td>0</td>\n",
       "      <td>42</td>\n",
       "    </tr>\n",
       "    <tr>\n",
       "      <th>Estonia</th>\n",
       "      <td>84</td>\n",
       "      <td>0</td>\n",
       "    </tr>\n",
       "    <tr>\n",
       "      <th>Finland</th>\n",
       "      <td>168</td>\n",
       "      <td>126</td>\n",
       "    </tr>\n",
       "    <tr>\n",
       "      <th>France</th>\n",
       "      <td>462</td>\n",
       "      <td>126</td>\n",
       "    </tr>\n",
       "    <tr>\n",
       "      <th>Germany</th>\n",
       "      <td>1554</td>\n",
       "      <td>882</td>\n",
       "    </tr>\n",
       "    <tr>\n",
       "      <th>Greece</th>\n",
       "      <td>42</td>\n",
       "      <td>0</td>\n",
       "    </tr>\n",
       "    <tr>\n",
       "      <th>Guatemala</th>\n",
       "      <td>0</td>\n",
       "      <td>42</td>\n",
       "    </tr>\n",
       "    <tr>\n",
       "      <th>Hungary</th>\n",
       "      <td>0</td>\n",
       "      <td>42</td>\n",
       "    </tr>\n",
       "    <tr>\n",
       "      <th>India</th>\n",
       "      <td>252</td>\n",
       "      <td>126</td>\n",
       "    </tr>\n",
       "    <tr>\n",
       "      <th>Iran</th>\n",
       "      <td>42</td>\n",
       "      <td>0</td>\n",
       "    </tr>\n",
       "    <tr>\n",
       "      <th>Ireland</th>\n",
       "      <td>294</td>\n",
       "      <td>336</td>\n",
       "    </tr>\n",
       "    <tr>\n",
       "      <th>Israel</th>\n",
       "      <td>42</td>\n",
       "      <td>42</td>\n",
       "    </tr>\n",
       "    <tr>\n",
       "      <th>Italy</th>\n",
       "      <td>126</td>\n",
       "      <td>0</td>\n",
       "    </tr>\n",
       "    <tr>\n",
       "      <th>Japan</th>\n",
       "      <td>42</td>\n",
       "      <td>0</td>\n",
       "    </tr>\n",
       "    <tr>\n",
       "      <th>Lithuania</th>\n",
       "      <td>42</td>\n",
       "      <td>0</td>\n",
       "    </tr>\n",
       "    <tr>\n",
       "      <th>Mexico</th>\n",
       "      <td>84</td>\n",
       "      <td>0</td>\n",
       "    </tr>\n",
       "    <tr>\n",
       "      <th>Netherlands</th>\n",
       "      <td>966</td>\n",
       "      <td>1008</td>\n",
       "    </tr>\n",
       "    <tr>\n",
       "      <th>New Zealand</th>\n",
       "      <td>210</td>\n",
       "      <td>168</td>\n",
       "    </tr>\n",
       "    <tr>\n",
       "      <th>Norway</th>\n",
       "      <td>84</td>\n",
       "      <td>42</td>\n",
       "    </tr>\n",
       "    <tr>\n",
       "      <th>Other</th>\n",
       "      <td>42</td>\n",
       "      <td>42</td>\n",
       "    </tr>\n",
       "    <tr>\n",
       "      <th>Pakistan</th>\n",
       "      <td>42</td>\n",
       "      <td>42</td>\n",
       "    </tr>\n",
       "    <tr>\n",
       "      <th>Poland</th>\n",
       "      <td>126</td>\n",
       "      <td>42</td>\n",
       "    </tr>\n",
       "    <tr>\n",
       "      <th>Romania</th>\n",
       "      <td>84</td>\n",
       "      <td>42</td>\n",
       "    </tr>\n",
       "    <tr>\n",
       "      <th>Russia</th>\n",
       "      <td>378</td>\n",
       "      <td>0</td>\n",
       "    </tr>\n",
       "    <tr>\n",
       "      <th>Serbia</th>\n",
       "      <td>42</td>\n",
       "      <td>0</td>\n",
       "    </tr>\n",
       "    <tr>\n",
       "      <th>Slovakia</th>\n",
       "      <td>42</td>\n",
       "      <td>0</td>\n",
       "    </tr>\n",
       "    <tr>\n",
       "      <th>South Africa</th>\n",
       "      <td>168</td>\n",
       "      <td>0</td>\n",
       "    </tr>\n",
       "    <tr>\n",
       "      <th>Spain</th>\n",
       "      <td>84</td>\n",
       "      <td>42</td>\n",
       "    </tr>\n",
       "    <tr>\n",
       "      <th>Sweden</th>\n",
       "      <td>546</td>\n",
       "      <td>294</td>\n",
       "    </tr>\n",
       "    <tr>\n",
       "      <th>Switzerland</th>\n",
       "      <td>168</td>\n",
       "      <td>252</td>\n",
       "    </tr>\n",
       "    <tr>\n",
       "      <th>Turkey</th>\n",
       "      <td>42</td>\n",
       "      <td>0</td>\n",
       "    </tr>\n",
       "    <tr>\n",
       "      <th>United Arab Emirates</th>\n",
       "      <td>0</td>\n",
       "      <td>42</td>\n",
       "    </tr>\n",
       "    <tr>\n",
       "      <th>United Kingdom</th>\n",
       "      <td>4368</td>\n",
       "      <td>3318</td>\n",
       "    </tr>\n",
       "    <tr>\n",
       "      <th>United States of America</th>\n",
       "      <td>15750</td>\n",
       "      <td>19992</td>\n",
       "    </tr>\n",
       "    <tr>\n",
       "      <th>Venezuela</th>\n",
       "      <td>42</td>\n",
       "      <td>0</td>\n",
       "    </tr>\n",
       "    <tr>\n",
       "      <th>Vietnam</th>\n",
       "      <td>42</td>\n",
       "      <td>0</td>\n",
       "    </tr>\n",
       "  </tbody>\n",
       "</table>\n",
       "</div>"
      ],
      "text/plain": [
       "Med_Prof_Diagnose         False  True \n",
       "Country_work                          \n",
       "Afghanistan                   0     84\n",
       "Argentina                    42      0\n",
       "Australia                   462    966\n",
       "Austria                      42    126\n",
       "Bangladesh                    0     42\n",
       "Belgium                     126     84\n",
       "Bosnia and Herzegovina       84      0\n",
       "Brazil                      252    168\n",
       "Brunei                       42      0\n",
       "Bulgaria                    252     42\n",
       "Canada                     1848   1260\n",
       "Chile                        84     42\n",
       "China                        42      0\n",
       "Colombia                     84      0\n",
       "Costa Rica                   42      0\n",
       "Czech Republic               84     42\n",
       "Denmark                     168    126\n",
       "Ecuador                       0     42\n",
       "Estonia                      84      0\n",
       "Finland                     168    126\n",
       "France                      462    126\n",
       "Germany                    1554    882\n",
       "Greece                       42      0\n",
       "Guatemala                     0     42\n",
       "Hungary                       0     42\n",
       "India                       252    126\n",
       "Iran                         42      0\n",
       "Ireland                     294    336\n",
       "Israel                       42     42\n",
       "Italy                       126      0\n",
       "Japan                        42      0\n",
       "Lithuania                    42      0\n",
       "Mexico                       84      0\n",
       "Netherlands                 966   1008\n",
       "New Zealand                 210    168\n",
       "Norway                       84     42\n",
       "Other                        42     42\n",
       "Pakistan                     42     42\n",
       "Poland                      126     42\n",
       "Romania                      84     42\n",
       "Russia                      378      0\n",
       "Serbia                       42      0\n",
       "Slovakia                     42      0\n",
       "South Africa                168      0\n",
       "Spain                        84     42\n",
       "Sweden                      546    294\n",
       "Switzerland                 168    252\n",
       "Turkey                       42      0\n",
       "United Arab Emirates          0     42\n",
       "United Kingdom             4368   3318\n",
       "United States of America  15750  19992\n",
       "Venezuela                    42      0\n",
       "Vietnam                      42      0"
      ]
     },
     "execution_count": 40,
     "metadata": {},
     "output_type": "execute_result"
    }
   ],
   "source": [
    "# Compare the frequency of each country you work in with the frequency of mental health diagnosis\n",
    "pd.crosstab(os['Country_work'], os['Med_Prof_Diagnose'])"
   ]
  },
  {
   "cell_type": "markdown",
   "metadata": {},
   "source": [
    "- This table also lists the countries and the diagnosis but limits it to only participants who work at tech companies"
   ]
  },
  {
   "cell_type": "code",
   "execution_count": 41,
   "metadata": {},
   "outputs": [
    {
     "data": {
      "application/vnd.microsoft.datawrangler.viewer.v0+json": {
       "columns": [
        {
         "name": "Country_work",
         "rawType": "object",
         "type": "string"
        },
        {
         "name": "False",
         "rawType": "object",
         "type": "unknown"
        },
        {
         "name": "True",
         "rawType": "object",
         "type": "unknown"
        }
       ],
       "conversionMethod": "pd.DataFrame",
       "ref": "b5a3a696-0e91-479f-9a34-a9de6dbb4784",
       "rows": [
        [
         "Afghanistan",
         null,
         "42"
        ],
        [
         "Argentina",
         "42",
         null
        ],
        [
         "Australia",
         "294",
         "588"
        ],
        [
         "Austria",
         "0",
         "42"
        ],
        [
         "Bangladesh",
         null,
         "42"
        ],
        [
         "Belgium",
         "84",
         "42"
        ],
        [
         "Bosnia and Herzegovina",
         "42",
         null
        ],
        [
         "Brazil",
         "168",
         "42"
        ],
        [
         "Brunei",
         "0",
         null
        ],
        [
         "Bulgaria",
         "210",
         "42"
        ],
        [
         "Canada",
         "1218",
         "966"
        ],
        [
         "Chile",
         "84",
         "0"
        ],
        [
         "China",
         "0",
         null
        ],
        [
         "Colombia",
         "42",
         null
        ],
        [
         "Costa Rica",
         "0",
         null
        ],
        [
         "Czech Republic",
         "0",
         "42"
        ],
        [
         "Denmark",
         "84",
         "84"
        ],
        [
         "Ecuador",
         null,
         "42"
        ],
        [
         "Estonia",
         "84",
         null
        ],
        [
         "Finland",
         "42",
         "84"
        ],
        [
         "France",
         "336",
         "84"
        ],
        [
         "Germany",
         "924",
         "546"
        ],
        [
         "Greece",
         "0",
         null
        ],
        [
         "Guatemala",
         null,
         "0"
        ],
        [
         "Hungary",
         null,
         "42"
        ],
        [
         "India",
         "252",
         "42"
        ],
        [
         "Iran",
         "42",
         null
        ],
        [
         "Ireland",
         "210",
         "126"
        ],
        [
         "Israel",
         "42",
         "42"
        ],
        [
         "Italy",
         "84",
         null
        ],
        [
         "Japan",
         "0",
         null
        ],
        [
         "Lithuania",
         "0",
         null
        ],
        [
         "Mexico",
         "0",
         null
        ],
        [
         "Netherlands",
         "546",
         "378"
        ],
        [
         "New Zealand",
         "126",
         "126"
        ],
        [
         "Norway",
         "42",
         "42"
        ],
        [
         "Other",
         "42",
         "0"
        ],
        [
         "Pakistan",
         "42",
         "42"
        ],
        [
         "Poland",
         "0",
         "42"
        ],
        [
         "Romania",
         "42",
         "0"
        ],
        [
         "Russia",
         "378",
         null
        ],
        [
         "Serbia",
         "0",
         null
        ],
        [
         "Slovakia",
         "42",
         null
        ],
        [
         "South Africa",
         "84",
         null
        ],
        [
         "Spain",
         "42",
         "42"
        ],
        [
         "Sweden",
         "294",
         "210"
        ],
        [
         "Switzerland",
         "84",
         "84"
        ],
        [
         "Turkey",
         "0",
         null
        ],
        [
         "United Arab Emirates",
         null,
         "42"
        ],
        [
         "United Kingdom",
         "2394",
         "1680"
        ]
       ],
       "shape": {
        "columns": 2,
        "rows": 53
       }
      },
      "text/html": [
       "<div>\n",
       "<style scoped>\n",
       "    .dataframe tbody tr th:only-of-type {\n",
       "        vertical-align: middle;\n",
       "    }\n",
       "\n",
       "    .dataframe tbody tr th {\n",
       "        vertical-align: top;\n",
       "    }\n",
       "\n",
       "    .dataframe thead th {\n",
       "        text-align: right;\n",
       "    }\n",
       "</style>\n",
       "<table border=\"1\" class=\"dataframe\">\n",
       "  <thead>\n",
       "    <tr style=\"text-align: right;\">\n",
       "      <th>Med_Prof_Diagnose</th>\n",
       "      <th>False</th>\n",
       "      <th>True</th>\n",
       "    </tr>\n",
       "    <tr>\n",
       "      <th>Country_work</th>\n",
       "      <th></th>\n",
       "      <th></th>\n",
       "    </tr>\n",
       "  </thead>\n",
       "  <tbody>\n",
       "    <tr>\n",
       "      <th>Afghanistan</th>\n",
       "      <td>NaN</td>\n",
       "      <td>42</td>\n",
       "    </tr>\n",
       "    <tr>\n",
       "      <th>Argentina</th>\n",
       "      <td>42</td>\n",
       "      <td>NaN</td>\n",
       "    </tr>\n",
       "    <tr>\n",
       "      <th>Australia</th>\n",
       "      <td>294</td>\n",
       "      <td>588</td>\n",
       "    </tr>\n",
       "    <tr>\n",
       "      <th>Austria</th>\n",
       "      <td>0</td>\n",
       "      <td>42</td>\n",
       "    </tr>\n",
       "    <tr>\n",
       "      <th>Bangladesh</th>\n",
       "      <td>NaN</td>\n",
       "      <td>42</td>\n",
       "    </tr>\n",
       "    <tr>\n",
       "      <th>Belgium</th>\n",
       "      <td>84</td>\n",
       "      <td>42</td>\n",
       "    </tr>\n",
       "    <tr>\n",
       "      <th>Bosnia and Herzegovina</th>\n",
       "      <td>42</td>\n",
       "      <td>NaN</td>\n",
       "    </tr>\n",
       "    <tr>\n",
       "      <th>Brazil</th>\n",
       "      <td>168</td>\n",
       "      <td>42</td>\n",
       "    </tr>\n",
       "    <tr>\n",
       "      <th>Brunei</th>\n",
       "      <td>0</td>\n",
       "      <td>NaN</td>\n",
       "    </tr>\n",
       "    <tr>\n",
       "      <th>Bulgaria</th>\n",
       "      <td>210</td>\n",
       "      <td>42</td>\n",
       "    </tr>\n",
       "    <tr>\n",
       "      <th>Canada</th>\n",
       "      <td>1218</td>\n",
       "      <td>966</td>\n",
       "    </tr>\n",
       "    <tr>\n",
       "      <th>Chile</th>\n",
       "      <td>84</td>\n",
       "      <td>0</td>\n",
       "    </tr>\n",
       "    <tr>\n",
       "      <th>China</th>\n",
       "      <td>0</td>\n",
       "      <td>NaN</td>\n",
       "    </tr>\n",
       "    <tr>\n",
       "      <th>Colombia</th>\n",
       "      <td>42</td>\n",
       "      <td>NaN</td>\n",
       "    </tr>\n",
       "    <tr>\n",
       "      <th>Costa Rica</th>\n",
       "      <td>0</td>\n",
       "      <td>NaN</td>\n",
       "    </tr>\n",
       "    <tr>\n",
       "      <th>Czech Republic</th>\n",
       "      <td>0</td>\n",
       "      <td>42</td>\n",
       "    </tr>\n",
       "    <tr>\n",
       "      <th>Denmark</th>\n",
       "      <td>84</td>\n",
       "      <td>84</td>\n",
       "    </tr>\n",
       "    <tr>\n",
       "      <th>Ecuador</th>\n",
       "      <td>NaN</td>\n",
       "      <td>42</td>\n",
       "    </tr>\n",
       "    <tr>\n",
       "      <th>Estonia</th>\n",
       "      <td>84</td>\n",
       "      <td>NaN</td>\n",
       "    </tr>\n",
       "    <tr>\n",
       "      <th>Finland</th>\n",
       "      <td>42</td>\n",
       "      <td>84</td>\n",
       "    </tr>\n",
       "    <tr>\n",
       "      <th>France</th>\n",
       "      <td>336</td>\n",
       "      <td>84</td>\n",
       "    </tr>\n",
       "    <tr>\n",
       "      <th>Germany</th>\n",
       "      <td>924</td>\n",
       "      <td>546</td>\n",
       "    </tr>\n",
       "    <tr>\n",
       "      <th>Greece</th>\n",
       "      <td>0</td>\n",
       "      <td>NaN</td>\n",
       "    </tr>\n",
       "    <tr>\n",
       "      <th>Guatemala</th>\n",
       "      <td>NaN</td>\n",
       "      <td>0</td>\n",
       "    </tr>\n",
       "    <tr>\n",
       "      <th>Hungary</th>\n",
       "      <td>NaN</td>\n",
       "      <td>42</td>\n",
       "    </tr>\n",
       "    <tr>\n",
       "      <th>India</th>\n",
       "      <td>252</td>\n",
       "      <td>42</td>\n",
       "    </tr>\n",
       "    <tr>\n",
       "      <th>Iran</th>\n",
       "      <td>42</td>\n",
       "      <td>NaN</td>\n",
       "    </tr>\n",
       "    <tr>\n",
       "      <th>Ireland</th>\n",
       "      <td>210</td>\n",
       "      <td>126</td>\n",
       "    </tr>\n",
       "    <tr>\n",
       "      <th>Israel</th>\n",
       "      <td>42</td>\n",
       "      <td>42</td>\n",
       "    </tr>\n",
       "    <tr>\n",
       "      <th>Italy</th>\n",
       "      <td>84</td>\n",
       "      <td>NaN</td>\n",
       "    </tr>\n",
       "    <tr>\n",
       "      <th>Japan</th>\n",
       "      <td>0</td>\n",
       "      <td>NaN</td>\n",
       "    </tr>\n",
       "    <tr>\n",
       "      <th>Lithuania</th>\n",
       "      <td>0</td>\n",
       "      <td>NaN</td>\n",
       "    </tr>\n",
       "    <tr>\n",
       "      <th>Mexico</th>\n",
       "      <td>0</td>\n",
       "      <td>NaN</td>\n",
       "    </tr>\n",
       "    <tr>\n",
       "      <th>Netherlands</th>\n",
       "      <td>546</td>\n",
       "      <td>378</td>\n",
       "    </tr>\n",
       "    <tr>\n",
       "      <th>New Zealand</th>\n",
       "      <td>126</td>\n",
       "      <td>126</td>\n",
       "    </tr>\n",
       "    <tr>\n",
       "      <th>Norway</th>\n",
       "      <td>42</td>\n",
       "      <td>42</td>\n",
       "    </tr>\n",
       "    <tr>\n",
       "      <th>Other</th>\n",
       "      <td>42</td>\n",
       "      <td>0</td>\n",
       "    </tr>\n",
       "    <tr>\n",
       "      <th>Pakistan</th>\n",
       "      <td>42</td>\n",
       "      <td>42</td>\n",
       "    </tr>\n",
       "    <tr>\n",
       "      <th>Poland</th>\n",
       "      <td>0</td>\n",
       "      <td>42</td>\n",
       "    </tr>\n",
       "    <tr>\n",
       "      <th>Romania</th>\n",
       "      <td>42</td>\n",
       "      <td>0</td>\n",
       "    </tr>\n",
       "    <tr>\n",
       "      <th>Russia</th>\n",
       "      <td>378</td>\n",
       "      <td>NaN</td>\n",
       "    </tr>\n",
       "    <tr>\n",
       "      <th>Serbia</th>\n",
       "      <td>0</td>\n",
       "      <td>NaN</td>\n",
       "    </tr>\n",
       "    <tr>\n",
       "      <th>Slovakia</th>\n",
       "      <td>42</td>\n",
       "      <td>NaN</td>\n",
       "    </tr>\n",
       "    <tr>\n",
       "      <th>South Africa</th>\n",
       "      <td>84</td>\n",
       "      <td>NaN</td>\n",
       "    </tr>\n",
       "    <tr>\n",
       "      <th>Spain</th>\n",
       "      <td>42</td>\n",
       "      <td>42</td>\n",
       "    </tr>\n",
       "    <tr>\n",
       "      <th>Sweden</th>\n",
       "      <td>294</td>\n",
       "      <td>210</td>\n",
       "    </tr>\n",
       "    <tr>\n",
       "      <th>Switzerland</th>\n",
       "      <td>84</td>\n",
       "      <td>84</td>\n",
       "    </tr>\n",
       "    <tr>\n",
       "      <th>Turkey</th>\n",
       "      <td>0</td>\n",
       "      <td>NaN</td>\n",
       "    </tr>\n",
       "    <tr>\n",
       "      <th>United Arab Emirates</th>\n",
       "      <td>NaN</td>\n",
       "      <td>42</td>\n",
       "    </tr>\n",
       "    <tr>\n",
       "      <th>United Kingdom</th>\n",
       "      <td>2394</td>\n",
       "      <td>1680</td>\n",
       "    </tr>\n",
       "    <tr>\n",
       "      <th>United States of America</th>\n",
       "      <td>10374</td>\n",
       "      <td>12600</td>\n",
       "    </tr>\n",
       "    <tr>\n",
       "      <th>Venezuela</th>\n",
       "      <td>0</td>\n",
       "      <td>NaN</td>\n",
       "    </tr>\n",
       "    <tr>\n",
       "      <th>Vietnam</th>\n",
       "      <td>42</td>\n",
       "      <td>NaN</td>\n",
       "    </tr>\n",
       "  </tbody>\n",
       "</table>\n",
       "</div>"
      ],
      "text/plain": [
       "Med_Prof_Diagnose         False  True \n",
       "Country_work                          \n",
       "Afghanistan                 NaN     42\n",
       "Argentina                    42    NaN\n",
       "Australia                   294    588\n",
       "Austria                       0     42\n",
       "Bangladesh                  NaN     42\n",
       "Belgium                      84     42\n",
       "Bosnia and Herzegovina       42    NaN\n",
       "Brazil                      168     42\n",
       "Brunei                        0    NaN\n",
       "Bulgaria                    210     42\n",
       "Canada                     1218    966\n",
       "Chile                        84      0\n",
       "China                         0    NaN\n",
       "Colombia                     42    NaN\n",
       "Costa Rica                    0    NaN\n",
       "Czech Republic                0     42\n",
       "Denmark                      84     84\n",
       "Ecuador                     NaN     42\n",
       "Estonia                      84    NaN\n",
       "Finland                      42     84\n",
       "France                      336     84\n",
       "Germany                     924    546\n",
       "Greece                        0    NaN\n",
       "Guatemala                   NaN      0\n",
       "Hungary                     NaN     42\n",
       "India                       252     42\n",
       "Iran                         42    NaN\n",
       "Ireland                     210    126\n",
       "Israel                       42     42\n",
       "Italy                        84    NaN\n",
       "Japan                         0    NaN\n",
       "Lithuania                     0    NaN\n",
       "Mexico                        0    NaN\n",
       "Netherlands                 546    378\n",
       "New Zealand                 126    126\n",
       "Norway                       42     42\n",
       "Other                        42      0\n",
       "Pakistan                     42     42\n",
       "Poland                        0     42\n",
       "Romania                      42      0\n",
       "Russia                      378    NaN\n",
       "Serbia                        0    NaN\n",
       "Slovakia                     42    NaN\n",
       "South Africa                 84    NaN\n",
       "Spain                        42     42\n",
       "Sweden                      294    210\n",
       "Switzerland                  84     84\n",
       "Turkey                        0    NaN\n",
       "United Arab Emirates        NaN     42\n",
       "United Kingdom             2394   1680\n",
       "United States of America  10374  12600\n",
       "Venezuela                     0    NaN\n",
       "Vietnam                      42    NaN"
      ]
     },
     "execution_count": 41,
     "metadata": {},
     "output_type": "execute_result"
    }
   ],
   "source": [
    "# Add onto the previous table a limiting factor that they must work in a tech company\n",
    "pd.crosstab(os['Country_work'], os['Med_Prof_Diagnose'], values=os['Tech_company'], aggfunc='sum')"
   ]
  },
  {
   "cell_type": "markdown",
   "metadata": {},
   "source": [
    "## Comparative numerical analysis"
   ]
  },
  {
   "cell_type": "markdown",
   "metadata": {},
   "source": [
    "- First, here are some statistics on age"
   ]
  },
  {
   "cell_type": "code",
   "execution_count": 35,
   "metadata": {},
   "outputs": [
    {
     "data": {
      "text/plain": [
       "count    60102.000000\n",
       "mean        34.106219\n",
       "std          8.283055\n",
       "min         15.000000\n",
       "25%         28.000000\n",
       "50%         33.000000\n",
       "75%         39.000000\n",
       "max         99.000000\n",
       "Name: Age, dtype: float64"
      ]
     },
     "execution_count": 35,
     "metadata": {},
     "output_type": "execute_result"
    }
   ],
   "source": [
    "# Give age statistics\n",
    "os['Age'].describe()"
   ]
  },
  {
   "cell_type": "markdown",
   "metadata": {},
   "source": [
    "- Next we will compare age and professional mental health diagnosis"
   ]
  },
  {
   "cell_type": "code",
   "execution_count": 36,
   "metadata": {},
   "outputs": [
    {
     "data": {
      "text/plain": [
       "Med_Prof_Diagnose\n",
       "False    33.537709\n",
       "True     34.675524\n",
       "Name: Age, dtype: float64"
      ]
     },
     "execution_count": 36,
     "metadata": {},
     "output_type": "execute_result"
    }
   ],
   "source": [
    "# Calculate the mean age for each category of mental health diagnosis\n",
    "os.groupby('Med_Prof_Diagnose')['Age'].mean()"
   ]
  },
  {
   "cell_type": "markdown",
   "metadata": {},
   "source": [
    "- Looks to be about the same maybe they are not associated"
   ]
  },
  {
   "cell_type": "markdown",
   "metadata": {},
   "source": [
    "## Numerical data analysis"
   ]
  },
  {
   "cell_type": "markdown",
   "metadata": {},
   "source": [
    "- Since my dataset only has one numerical column I cannot compare two of them"
   ]
  }
 ],
 "metadata": {
  "kernelspec": {
   "display_name": ".venv",
   "language": "python",
   "name": "python3"
  },
  "language_info": {
   "codemirror_mode": {
    "name": "ipython",
    "version": 3
   },
   "file_extension": ".py",
   "mimetype": "text/x-python",
   "name": "python",
   "nbconvert_exporter": "python",
   "pygments_lexer": "ipython3",
   "version": "3.13.2"
  }
 },
 "nbformat": 4,
 "nbformat_minor": 2
}
