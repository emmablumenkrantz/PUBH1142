{
 "cells": [
  {
   "cell_type": "markdown",
   "metadata": {},
   "source": [
    "# LAB 1 WEEK 3\n",
    "*Emma Blumenkrantz*                                                                        "
   ]
  },
  {
   "cell_type": "markdown",
   "metadata": {},
   "source": [
    "## 1. What is the primary goal of data anonymization?\n",
    "The primary goal of data anonymization is to make data useful for research while protecting the people to whom the data belongs.\n",
    "## 2. What is the Havasupai Tribe case about?\n",
    "The Havasupai Tribe agreed to be a part of a research study on the tribe's high prevalence of Type 2 diabetes by giving blood samples. However, after performing this study, researchers decided to use these blood samples to run further tests without gaining consent from the tribe members for these tests.\n",
    "## 3. What was the largest health data breach in history?\n",
    "The largest health data breach in history was in 2015 when Anthem Inc. was the victim of a cyberattack and the hackers gained the personal information of around 78.8 million people.\n",
    "## 4. What is the pulse oximeter controversy about?\n",
    "The controversy around the pulse oximeter results from a study that shows there is a significant racial bias in the devices. Pulse oximeters were found to be three times more likely to show misleading results in Black patients compared to White patients.\n",
    "## 5. What is the role of an Institutional Review Board (IRB) in research?\n",
    "The IRB reviews and approves research protocols including the study's design, methodology, and procedures. In addition to the initial approval, the IRB also monitors progress of studies and has the authority to terminate a study.\n",
    "## 6. What is the difference between spreadsheet software and database software for health data management?\n",
    "Spreadsheet software is easier to access and manipulate but it lacks the security that a database software offers for managing sensitive health data.\n",
    "## 7. What is a conflict of interest in public health research?\n",
    "A conflict of interest in public health research is when a person or group involved in research has another interest that might skew or influence the findings of the research.\n",
    "## 8. What is informed consent in the context of health data collection?\n",
    "For consent to be considered informed, individuals must be provided with enough information to understand what their participation would mean. This ensures they can make a voluntary and educated decision about their participation.\n",
    "## 9. What is data masking in the context of de-identification of health data?\n",
    "Data masking is a technique used to protect individuals by replacing identifiable information or removing it completely.\n",
    "## 10. What is the principle of *k*-anonymity in the context of de-identification of health data?\n",
    "*K*-anonymity is a de-identification technique that works by creating groups in a dataset made of *k* individuals and makes it harder to identify a person.\n",
    "## 11. What is the main concern about conflicts of interest in public health research?\n",
    "The main concerns about conflicts of interest in public health research are bias in research, loss of public trust, and damage to research integrity.\n",
    "## 12. What is the first step in managing conflicts of interest in public health research?\n",
    "The first step in managing conflicts of interest in public health research is to be transparent and set clear policies for addressing problems when they arise.\n",
    "## 13. What is the role of independent oversight in managing conflicts of interest in public health research?\n",
    "The role of independent oversight is to have a separate board to review research proposals for potential conflicts, monitor ongoing research, and to review findings before publication. Overall they just provide an extra layer of protection for the research.\n",
    "## 14. What is one strategy for mitigating conflicts of interest in public health research?\n",
    "One strategy for mitigating conflicts of interest in public health research is education and training. This strategy includes educating researchers on how to identify, disclose, and manage conflicts of interest,\n",
    "## 15. What is the potential impact of not properly managing conflicts of interest in public health research?\n",
    "Not properly managing conflicts of interest can lead to compromised research and loss of public trust.\n"
   ]
  }
 ],
 "metadata": {
  "language_info": {
   "name": "python"
  }
 },
 "nbformat": 4,
 "nbformat_minor": 2
}
