{
 "cells": [
  {
   "cell_type": "markdown",
   "metadata": {},
   "source": [
    "# Week 9\n",
    "## Working with ICU mortality data\n",
    "- This project is meant to learn how to work with packages with a separate data set\n"
   ]
  },
  {
   "cell_type": "markdown",
   "metadata": {},
   "source": [
    "## Importing packages"
   ]
  },
  {
   "cell_type": "code",
   "execution_count": null,
   "metadata": {},
   "outputs": [],
   "source": [
    "import pandas as pd\n",
    "from scipy import stats"
   ]
  },
  {
   "cell_type": "markdown",
   "metadata": {},
   "source": [
    "## Data import"
   ]
  },
  {
   "cell_type": "code",
   "execution_count": 15,
   "metadata": {},
   "outputs": [],
   "source": [
    "# Import the ICU_Mortality from environment into a pandas DataFrame\n",
    "df = pd.read_csv('ICU_Mortality.csv')"
   ]
  },
  {
   "cell_type": "code",
   "execution_count": 16,
   "metadata": {},
   "outputs": [
    {
     "data": {
      "text/plain": [
       "(311, 6)"
      ]
     },
     "execution_count": 16,
     "metadata": {},
     "output_type": "execute_result"
    }
   ],
   "source": [
    "# veriify the size of df\n",
    "df.shape"
   ]
  },
  {
   "cell_type": "code",
   "execution_count": 17,
   "metadata": {},
   "outputs": [
    {
     "data": {
      "text/plain": [
       "Index(['Mortality', 'Age', 'WCC', 'HB', 'Diabetes', 'Class'], dtype='object')"
      ]
     },
     "execution_count": 17,
     "metadata": {},
     "output_type": "execute_result"
    }
   ],
   "source": [
    "# show the column headers\n",
    "df.columns"
   ]
  },
  {
   "cell_type": "code",
   "execution_count": 19,
   "metadata": {},
   "outputs": [
    {
     "data": {
      "text/html": [
       "<div>\n",
       "<style scoped>\n",
       "    .dataframe tbody tr th:only-of-type {\n",
       "        vertical-align: middle;\n",
       "    }\n",
       "\n",
       "    .dataframe tbody tr th {\n",
       "        vertical-align: top;\n",
       "    }\n",
       "\n",
       "    .dataframe thead th {\n",
       "        text-align: right;\n",
       "    }\n",
       "</style>\n",
       "<table border=\"1\" class=\"dataframe\">\n",
       "  <thead>\n",
       "    <tr style=\"text-align: right;\">\n",
       "      <th></th>\n",
       "      <th>Mortality</th>\n",
       "      <th>Age</th>\n",
       "      <th>WCC</th>\n",
       "      <th>HB</th>\n",
       "      <th>Diabetes</th>\n",
       "      <th>Class</th>\n",
       "    </tr>\n",
       "  </thead>\n",
       "  <tbody>\n",
       "    <tr>\n",
       "      <th>0</th>\n",
       "      <td>Died</td>\n",
       "      <td>69</td>\n",
       "      <td>12.0</td>\n",
       "      <td>11.7</td>\n",
       "      <td>NaN</td>\n",
       "      <td>Non-infectious</td>\n",
       "    </tr>\n",
       "    <tr>\n",
       "      <th>1</th>\n",
       "      <td>Died</td>\n",
       "      <td>73</td>\n",
       "      <td>9.0</td>\n",
       "      <td>13.2</td>\n",
       "      <td>NaN</td>\n",
       "      <td>Non-infectious</td>\n",
       "    </tr>\n",
       "    <tr>\n",
       "      <th>2</th>\n",
       "      <td>Died</td>\n",
       "      <td>53</td>\n",
       "      <td>16.4</td>\n",
       "      <td>11.1</td>\n",
       "      <td>NaN</td>\n",
       "      <td>Non-infectious</td>\n",
       "    </tr>\n",
       "    <tr>\n",
       "      <th>3</th>\n",
       "      <td>Died</td>\n",
       "      <td>74</td>\n",
       "      <td>10.1</td>\n",
       "      <td>11.2</td>\n",
       "      <td>Type II</td>\n",
       "      <td>Infectious</td>\n",
       "    </tr>\n",
       "    <tr>\n",
       "      <th>4</th>\n",
       "      <td>Died</td>\n",
       "      <td>69</td>\n",
       "      <td>10.2</td>\n",
       "      <td>15.0</td>\n",
       "      <td>Type I</td>\n",
       "      <td>Infectious</td>\n",
       "    </tr>\n",
       "  </tbody>\n",
       "</table>\n",
       "</div>"
      ],
      "text/plain": [
       "  Mortality  Age   WCC    HB Diabetes           Class\n",
       "0      Died   69  12.0  11.7      NaN  Non-infectious\n",
       "1      Died   73   9.0  13.2      NaN  Non-infectious\n",
       "2      Died   53  16.4  11.1      NaN  Non-infectious\n",
       "3      Died   74  10.1  11.2  Type II      Infectious\n",
       "4      Died   69  10.2  15.0   Type I      Infectious"
      ]
     },
     "execution_count": 19,
     "metadata": {},
     "output_type": "execute_result"
    }
   ],
   "source": [
    "# show the first 5 rows of the data\n",
    "df.head()"
   ]
  },
  {
   "cell_type": "code",
   "execution_count": 20,
   "metadata": {},
   "outputs": [
    {
     "name": "stdout",
     "output_type": "stream",
     "text": [
      "<class 'pandas.core.frame.DataFrame'>\n",
      "RangeIndex: 311 entries, 0 to 310\n",
      "Data columns (total 6 columns):\n",
      " #   Column     Non-Null Count  Dtype  \n",
      "---  ------     --------------  -----  \n",
      " 0   Mortality  311 non-null    object \n",
      " 1   Age        311 non-null    int64  \n",
      " 2   WCC        311 non-null    float64\n",
      " 3   HB         311 non-null    float64\n",
      " 4   Diabetes   213 non-null    object \n",
      " 5   Class      311 non-null    object \n",
      "dtypes: float64(2), int64(1), object(3)\n",
      "memory usage: 14.7+ KB\n"
     ]
    }
   ],
   "source": [
    "# show info about df\n",
    "df.info()"
   ]
  },
  {
   "cell_type": "markdown",
   "metadata": {},
   "source": [
    "# Categorical Data"
   ]
  },
  {
   "cell_type": "markdown",
   "metadata": {},
   "source": [
    "- Testing categorical information and comparing multiple categorical variables"
   ]
  },
  {
   "cell_type": "code",
   "execution_count": 21,
   "metadata": {},
   "outputs": [
    {
     "data": {
      "text/plain": [
       "0    Died\n",
       "1    Died\n",
       "2    Died\n",
       "3    Died\n",
       "4    Died\n",
       "5    Died\n",
       "6    Died\n",
       "7    Died\n",
       "8    Died\n",
       "9    Died\n",
       "Name: Mortality, dtype: object"
      ]
     },
     "execution_count": 21,
     "metadata": {},
     "output_type": "execute_result"
    }
   ],
   "source": [
    "# show the first 10 rows of the mortality column\n",
    "df['Mortality'].head(10)"
   ]
  },
  {
   "cell_type": "code",
   "execution_count": 22,
   "metadata": {},
   "outputs": [
    {
     "data": {
      "text/plain": [
       "array(['Died', 'Survived'], dtype=object)"
      ]
     },
     "execution_count": 22,
     "metadata": {},
     "output_type": "execute_result"
    }
   ],
   "source": [
    "# Calculate the distinct values of the Mortality column with unique\n",
    "df['Mortality'].unique()"
   ]
  },
  {
   "cell_type": "code",
   "execution_count": 23,
   "metadata": {},
   "outputs": [
    {
     "data": {
      "text/plain": [
       "Mortality\n",
       "Survived    207\n",
       "Died        104\n",
       "Name: count, dtype: int64"
      ]
     },
     "execution_count": 23,
     "metadata": {},
     "output_type": "execute_result"
    }
   ],
   "source": [
    "# calculate the frequency of each category in the Mortality column\n",
    "df['Mortality'].value_counts()"
   ]
  },
  {
   "cell_type": "code",
   "execution_count": 24,
   "metadata": {},
   "outputs": [
    {
     "data": {
      "text/plain": [
       "Mortality\n",
       "Survived    0.665595\n",
       "Died        0.334405\n",
       "Name: proportion, dtype: float64"
      ]
     },
     "execution_count": 24,
     "metadata": {},
     "output_type": "execute_result"
    }
   ],
   "source": [
    "# Calculate hte proportions of each category in the Mortality column\n",
    "df['Mortality'].value_counts(normalize=True)    "
   ]
  },
  {
   "cell_type": "code",
   "execution_count": 26,
   "metadata": {},
   "outputs": [
    {
     "data": {
      "text/plain": [
       "Mortality\n",
       "Survived    66.559486\n",
       "Died        33.440514\n",
       "Name: proportion, dtype: float64"
      ]
     },
     "execution_count": 26,
     "metadata": {},
     "output_type": "execute_result"
    }
   ],
   "source": [
    "# Calculate the percentage of each category in the Mortality column\n",
    "df['Mortality'].value_counts(normalize=True) * 100"
   ]
  },
  {
   "cell_type": "code",
   "execution_count": 27,
   "metadata": {},
   "outputs": [
    {
     "data": {
      "text/plain": [
       "array(['Non-infectious', 'Infectious'], dtype=object)"
      ]
     },
     "execution_count": 27,
     "metadata": {},
     "output_type": "execute_result"
    }
   ],
   "source": [
    "# Calculate the unique elements in the Class column\n",
    "df['Class'].unique()\n"
   ]
  },
  {
   "cell_type": "code",
   "execution_count": 28,
   "metadata": {},
   "outputs": [
    {
     "data": {
      "text/plain": [
       "Class\n",
       "Non-infectious    161\n",
       "Infectious        150\n",
       "Name: count, dtype: int64"
      ]
     },
     "execution_count": 28,
     "metadata": {},
     "output_type": "execute_result"
    }
   ],
   "source": [
    "#Calculate the frequency of each category in the Class column\n",
    "df['Class'].value_counts()"
   ]
  },
  {
   "cell_type": "code",
   "execution_count": 30,
   "metadata": {},
   "outputs": [
    {
     "data": {
      "text/plain": [
       "Class\n",
       "Non-infectious    51.768489\n",
       "Infectious        48.231511\n",
       "Name: proportion, dtype: float64"
      ]
     },
     "execution_count": 30,
     "metadata": {},
     "output_type": "execute_result"
    }
   ],
   "source": [
    "# Calculate the percentages of each category in the Class column\n",
    "df['Class'].value_counts(normalize=True) * 100"
   ]
  },
  {
   "cell_type": "code",
   "execution_count": 33,
   "metadata": {},
   "outputs": [
    {
     "data": {
      "text/html": [
       "<div>\n",
       "<style scoped>\n",
       "    .dataframe tbody tr th:only-of-type {\n",
       "        vertical-align: middle;\n",
       "    }\n",
       "\n",
       "    .dataframe tbody tr th {\n",
       "        vertical-align: top;\n",
       "    }\n",
       "\n",
       "    .dataframe thead th {\n",
       "        text-align: right;\n",
       "    }\n",
       "</style>\n",
       "<table border=\"1\" class=\"dataframe\">\n",
       "  <thead>\n",
       "    <tr style=\"text-align: right;\">\n",
       "      <th>Mortality</th>\n",
       "      <th>Died</th>\n",
       "      <th>Survived</th>\n",
       "    </tr>\n",
       "    <tr>\n",
       "      <th>Class</th>\n",
       "      <th></th>\n",
       "      <th></th>\n",
       "    </tr>\n",
       "  </thead>\n",
       "  <tbody>\n",
       "    <tr>\n",
       "      <th>Infectious</th>\n",
       "      <td>49</td>\n",
       "      <td>101</td>\n",
       "    </tr>\n",
       "    <tr>\n",
       "      <th>Non-infectious</th>\n",
       "      <td>55</td>\n",
       "      <td>106</td>\n",
       "    </tr>\n",
       "  </tbody>\n",
       "</table>\n",
       "</div>"
      ],
      "text/plain": [
       "Mortality       Died  Survived\n",
       "Class                         \n",
       "Infectious        49       101\n",
       "Non-infectious    55       106"
      ]
     },
     "execution_count": 33,
     "metadata": {},
     "output_type": "execute_result"
    }
   ],
   "source": [
    "# Make a neat table with counts of Class and Mortality columns\n",
    "pd.crosstab(df['Class'], df['Mortality'])"
   ]
  },
  {
   "cell_type": "markdown",
   "metadata": {},
   "source": [
    "## Comparative numerical analysis"
   ]
  },
  {
   "cell_type": "markdown",
   "metadata": {},
   "source": [
    "- Comparing one categorical and one numerical variable"
   ]
  },
  {
   "cell_type": "code",
   "execution_count": 35,
   "metadata": {},
   "outputs": [
    {
     "data": {
      "text/plain": [
       "Mortality\n",
       "Died        61.125000\n",
       "Survived    54.111111\n",
       "Name: Age, dtype: float64"
      ]
     },
     "execution_count": 35,
     "metadata": {},
     "output_type": "execute_result"
    }
   ],
   "source": [
    "# Calculate the mean of the Age column for each of the mortality categories\n",
    "df.groupby('Mortality')['Age'].mean()"
   ]
  },
  {
   "cell_type": "markdown",
   "metadata": {},
   "source": [
    "## Numerical data analysis"
   ]
  },
  {
   "cell_type": "markdown",
   "metadata": {},
   "source": [
    "- Comparing multiple numerical variables to each other"
   ]
  },
  {
   "cell_type": "code",
   "execution_count": 36,
   "metadata": {},
   "outputs": [
    {
     "data": {
      "text/plain": [
       "np.float64(56.456591639871384)"
      ]
     },
     "execution_count": 36,
     "metadata": {},
     "output_type": "execute_result"
    }
   ],
   "source": [
    "# Calculate the mean of the Age column\n",
    "df['Age'].mean()"
   ]
  },
  {
   "cell_type": "code",
   "execution_count": null,
   "metadata": {},
   "outputs": [
    {
     "data": {
      "text/plain": [
       "np.float64(10.974334278749502)"
      ]
     },
     "execution_count": 38,
     "metadata": {},
     "output_type": "execute_result"
    }
   ],
   "source": [
    "# Calculate the sample standard deviation of the Age column, python defaults to sample standard deviation which is 1 degree of freedom\n",
    "df.Age.std(ddof = 1)"
   ]
  },
  {
   "cell_type": "code",
   "execution_count": 40,
   "metadata": {},
   "outputs": [
    {
     "data": {
      "text/plain": [
       "count    311.000000\n",
       "mean      56.456592\n",
       "std       10.974334\n",
       "min       23.000000\n",
       "25%       49.000000\n",
       "50%       56.000000\n",
       "75%       64.000000\n",
       "max       85.000000\n",
       "Name: Age, dtype: float64"
      ]
     },
     "execution_count": 40,
     "metadata": {},
     "output_type": "execute_result"
    }
   ],
   "source": [
    "# Describe the summary statistics of the Age column\n",
    "df['Age'].describe()"
   ]
  },
  {
   "cell_type": "code",
   "execution_count": 41,
   "metadata": {},
   "outputs": [
    {
     "data": {
      "text/html": [
       "<div>\n",
       "<style scoped>\n",
       "    .dataframe tbody tr th:only-of-type {\n",
       "        vertical-align: middle;\n",
       "    }\n",
       "\n",
       "    .dataframe tbody tr th {\n",
       "        vertical-align: top;\n",
       "    }\n",
       "\n",
       "    .dataframe thead th {\n",
       "        text-align: right;\n",
       "    }\n",
       "</style>\n",
       "<table border=\"1\" class=\"dataframe\">\n",
       "  <thead>\n",
       "    <tr style=\"text-align: right;\">\n",
       "      <th></th>\n",
       "      <th>count</th>\n",
       "      <th>mean</th>\n",
       "      <th>std</th>\n",
       "      <th>min</th>\n",
       "      <th>25%</th>\n",
       "      <th>50%</th>\n",
       "      <th>75%</th>\n",
       "      <th>max</th>\n",
       "    </tr>\n",
       "    <tr>\n",
       "      <th>Mortality</th>\n",
       "      <th></th>\n",
       "      <th></th>\n",
       "      <th></th>\n",
       "      <th></th>\n",
       "      <th></th>\n",
       "      <th></th>\n",
       "      <th></th>\n",
       "      <th></th>\n",
       "    </tr>\n",
       "  </thead>\n",
       "  <tbody>\n",
       "    <tr>\n",
       "      <th>Died</th>\n",
       "      <td>104.0</td>\n",
       "      <td>61.125000</td>\n",
       "      <td>9.738012</td>\n",
       "      <td>45.0</td>\n",
       "      <td>52.75</td>\n",
       "      <td>61.0</td>\n",
       "      <td>69.0</td>\n",
       "      <td>77.0</td>\n",
       "    </tr>\n",
       "    <tr>\n",
       "      <th>Survived</th>\n",
       "      <td>207.0</td>\n",
       "      <td>54.111111</td>\n",
       "      <td>10.830209</td>\n",
       "      <td>23.0</td>\n",
       "      <td>47.00</td>\n",
       "      <td>53.0</td>\n",
       "      <td>60.0</td>\n",
       "      <td>85.0</td>\n",
       "    </tr>\n",
       "  </tbody>\n",
       "</table>\n",
       "</div>"
      ],
      "text/plain": [
       "           count       mean        std   min    25%   50%   75%   max\n",
       "Mortality                                                            \n",
       "Died       104.0  61.125000   9.738012  45.0  52.75  61.0  69.0  77.0\n",
       "Survived   207.0  54.111111  10.830209  23.0  47.00  53.0  60.0  85.0"
      ]
     },
     "execution_count": 41,
     "metadata": {},
     "output_type": "execute_result"
    }
   ],
   "source": [
    "# Desribe the summary statistics of the Age column for each of the mortality categories\n",
    "df.groupby('Mortality')['Age'].describe()"
   ]
  },
  {
   "cell_type": "code",
   "execution_count": 45,
   "metadata": {},
   "outputs": [
    {
     "data": {
      "text/plain": [
       "np.float64(-0.0028512391858659236)"
      ]
     },
     "execution_count": 45,
     "metadata": {},
     "output_type": "execute_result"
    }
   ],
   "source": [
    "# Calculate the correlation between the age and wcc columns\n",
    "df.Age.corr(df.WCC)"
   ]
  },
  {
   "cell_type": "markdown",
   "metadata": {},
   "source": [
    "# 📊 Pandas Quiz: Essential Data Analysis Questions\n",
    "\n",
    "## 🐼 Importing and Reading Data\n",
    "\n",
    "**1️⃣ How do you import the pandas package in Python?**  \n",
    "Import the `pandas` package using an alias for convenience.\n",
    "\n",
    "**2️⃣ What function do you use to read a CSV file in pandas?**  \n",
    "Use a built-in function to load a CSV file into a DataFrame.\n",
    "\n",
    "## 🔍 Inspecting and Summarizing Data\n",
    "\n",
    "**3️⃣ How do you display the first 5 rows of a DataFrame in pandas?**  \n",
    "Call a method that returns the top rows of the DataFrame.\n",
    "\n",
    "**4️⃣ How do you calculate the mean of a column named `Age` in a DataFrame named `df`?**  \n",
    "Use a function to compute the average value of a specific column.\n",
    "\n",
    "**5️⃣ How do you calculate the median of a column named `Salary` in a DataFrame named `df`?**  \n",
    "Apply a method that finds the middle value in a column.\n",
    "\n",
    "**6️⃣ How do you calculate the standard deviation of a column named `Score` in a DataFrame named `df`?**  \n",
    "Utilize a statistical function to measure data dispersion.\n",
    "\n",
    "**7️⃣ How do you find the number of missing values in each column of a DataFrame named `df`?**  \n",
    "Identify and count missing values across all columns.\n",
    "\n",
    "## 📈 Data Analysis and Filtering\n",
    "\n",
    "**8️⃣ How do you calculate the correlation between two columns, `Age` and `Salary`, in a DataFrame named `df`?**  \n",
    "Determine the statistical relationship between two numerical columns.\n",
    "\n",
    "**9️⃣ How do you select a subset of a DataFrame `df` where the column `Age` is greater than 30?**  \n",
    "Filter the DataFrame to include only rows that meet a condition.\n",
    "\n",
    "**🔟 How do you calculate the range (maximum - minimum) of a column named `Score` in a DataFrame named `df`?**  \n",
    "Find the difference between the highest and lowest values in a column.\n",
    "\n",
    "## 📊 Grouping and Aggregation\n",
    "\n",
    "**1️⃣1️⃣ How do you group a DataFrame `df` by a column named `Department` and calculate the mean of `Salary` within each group?**  \n",
    "Group the data by department and compute the average salary per group.\n",
    "\n",
    "**1️⃣2️⃣ How do you group a DataFrame `df` by two columns, `Department` and `Job Title`, and count the number of rows within each group?**  \n",
    "Aggregate data based on multiple categories and count occurrences.\n",
    "\n",
    "**1️⃣3️⃣ How do you use the `groupby` method to find the maximum `Age` in each `Department` in a DataFrame `df`?**  \n",
    "Determine the oldest person in each department.\n",
    "\n",
    "**1️⃣4️⃣ How do you create a cross-tabulation table that shows the frequency count of `Department` (rows) and `Job Title` (columns) in a DataFrame `df`?**  \n",
    "Generate a summary table showing how many employees hold each job title within different departments.\n",
    "\n",
    "**1️⃣5️⃣ How do you create a cross-tabulation table that shows the mean `Salary` for each combination of `Department` (rows) and `Job Title` (columns) in a DataFrame `df`?**  \n",
    "Construct a table that displays the average salary for each job title within different departments.\n"
   ]
  }
 ],
 "metadata": {
  "kernelspec": {
   "display_name": ".venv",
   "language": "python",
   "name": "python3"
  },
  "language_info": {
   "codemirror_mode": {
    "name": "ipython",
    "version": 3
   },
   "file_extension": ".py",
   "mimetype": "text/x-python",
   "name": "python",
   "nbconvert_exporter": "python",
   "pygments_lexer": "ipython3",
   "version": "3.13.2"
  }
 },
 "nbformat": 4,
 "nbformat_minor": 2
}
