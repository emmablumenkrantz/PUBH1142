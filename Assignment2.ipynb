<span style="color:pink;">
🌸🌺🌼🌷🌻🌹🌼🌸🌺🌷🌻🌹  

## 🌸 Assignment 2 🌸  

🌸🌺🌼🌷🌻🌹🌼🌸🌺🌷🌻🌹  
</span>

### **1. What is the difference between a spreadsheet and a database?**  
A **spreadsheet** is a computer program that allows users to organize data in rows and columns, often used for calculations and small datasets.  
A **database** is a structured set of data managed by a Database Management System (DBMS), designed to handle large datasets with complex relationships.

### **2. Advantages & Disadvantages of Using a Spreadsheet for Health Data Management**  
- **Advantages:**  
  - User-friendly interface  
  - Easy to learn and use  
  - Suitable for small datasets  
  - Allows quick calculations and basic data analysis  
- **Disadvantages:**  
  - Limited data capacity  
  - Not ideal for large or complex datasets  
  - Limited data integrity and security controls  

### **3. Advantages & Disadvantages of Using a Database for Health Data Management**  
- **Advantages:**  
  - Can handle large and complex datasets  
  - Maintains data integrity  
  - Supports relationships between data  
  - Allows multiple users to access data simultaneously  
  - Offers advanced security measures  
- **Disadvantages:**  
  - Requires knowledge of database design and SQL  
  - More complex to set up and manage than spreadsheets  

### **4. Examples of Tasks Performed Using a Spreadsheet**  
- Financial analysis  
- Budgeting  
- Project management  
- Data analysis  
- Record keeping  

### **5. Examples of Tasks Performed Using a Database**  
- Managing patient records  
- Storing large datasets  
- Complex querying and reporting  
- Maintaining data integrity across multiple tables  

### **6. Examples of Tasks Performed Using Both a Spreadsheet & a Database**  
- Data entry  
- Basic data analysis  
- Generating reports  

### **7. Examples of Tasks That Can Be Performed Using Neither a Spreadsheet Nor a Database**  
- Real-time data processing  
- Advanced machine learning models (e.g., real-time patient monitoring, predictive analytics)  

### **8. Examples of Tasks That Can Be Performed Using a Spreadsheet But Not a Database**  
- Simple calculations  
- Quick data visualizations for small datasets  

### **9. Examples of Tasks That Can Be Performed Using a Database But Not a Spreadsheet**  
- Managing large datasets with complex relationships  
- Ensuring data integrity across multiple tables  
- Supporting multiple users accessing data simultaneously  

