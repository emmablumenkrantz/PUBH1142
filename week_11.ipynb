{
 "cells": [
  {
   "cell_type": "markdown",
   "metadata": {},
   "source": [
    "# Week 11"
   ]
  },
  {
   "cell_type": "markdown",
   "metadata": {},
   "source": [
    "## Questions for this week"
   ]
  },
  {
   "cell_type": "code",
   "execution_count": 1,
   "metadata": {},
   "outputs": [],
   "source": [
    "import numpy as np\n",
    "import scipy.stats as stats"
   ]
  },
  {
   "cell_type": "markdown",
   "metadata": {},
   "source": [
    "# Statistical Analysis of a Random Sample\n",
    "\n",
    "## 🎲 Selecting a Random Sample\n",
    "**Random Seed:** `12`  \n",
    "**Sample Size:** `40`\n"
   ]
  },
  {
   "cell_type": "code",
   "execution_count": 2,
   "metadata": {},
   "outputs": [],
   "source": [
    "# Set random seed\n",
    "np.random.seed(12)"
   ]
  },
  {
   "cell_type": "code",
   "execution_count": 5,
   "metadata": {},
   "outputs": [
    {
     "data": {
      "text/plain": [
       "array([52.72451271, 78.47412225, 69.22624098, 48.57328095, 58.86986555,\n",
       "       69.50223134, 32.49030412, 47.57876149, 36.35072556, 44.981589  ,\n",
       "       34.65569003, 71.43387533, 33.83252514, 67.34596896, 45.84041446,\n",
       "       46.98703666, 55.79642113, 53.69672801, 51.73804517, 33.67577262,\n",
       "       47.93904604, 55.19051765, 45.05322819, 60.53931261, 31.42706035,\n",
       "       52.87131453, 54.687056  , 48.60288453, 68.87699443, 45.22913029,\n",
       "       44.74025133, 39.84083702, 93.25538353, 30.76313021, 35.96244765,\n",
       "       48.49242437, 62.83524774, 42.93536615, 52.70921068, 64.37815737])"
      ]
     },
     "execution_count": 5,
     "metadata": {},
     "output_type": "execute_result"
    }
   ],
   "source": [
    "# Generate a population (assuming normal distribution)\n",
    "population = np.random.normal(loc=50, scale=15, size=10000)\n",
    "\n",
    "# Select a random sample of 40 individuals\n",
    "sample = np.random.choice(population, size=40, replace=False)\n",
    "sample"
   ]
  },
  {
   "cell_type": "markdown",
   "metadata": {},
   "source": [
    "## 📊 Sample Statistics\n",
    "- **Sample Mean:** <span style=\"color:blue;\">`sample_mean`</span>  \n",
    "- **Sample Standard Deviation:** <span style=\"color:green;\">`sample_std`</span>  \n",
    "- **Standard Error:** <span style=\"color:cyan;\">`standard_error`</span>  \n"
   ]
  },
  {
   "cell_type": "code",
   "execution_count": 8,
   "metadata": {},
   "outputs": [
    {
     "data": {
      "text/plain": [
       "np.float64(51.50257780335321)"
      ]
     },
     "execution_count": 8,
     "metadata": {},
     "output_type": "execute_result"
    }
   ],
   "source": [
    "# Calculate the sample mean\n",
    "sample_mean = np.mean(sample)\n",
    "sample_mean\n",
    "\n"
   ]
  },
  {
   "cell_type": "code",
   "execution_count": 9,
   "metadata": {},
   "outputs": [
    {
     "data": {
      "text/plain": [
       "np.float64(13.964941383741639)"
      ]
     },
     "execution_count": 9,
     "metadata": {},
     "output_type": "execute_result"
    }
   ],
   "source": [
    "# Calculate the standard deviation of the sample\n",
    "sample_std = np.std(sample, ddof=1)\n",
    "sample_std\n"
   ]
  },
  {
   "cell_type": "code",
   "execution_count": 10,
   "metadata": {},
   "outputs": [
    {
     "data": {
      "text/plain": [
       "np.float64(2.208051108168354)"
      ]
     },
     "execution_count": 10,
     "metadata": {},
     "output_type": "execute_result"
    }
   ],
   "source": [
    "\n",
    "# Calculate the standard error of the sample\n",
    "standard_error = sample_std / np.sqrt(len(sample))\n",
    "standard_error"
   ]
  },
  {
   "cell_type": "markdown",
   "metadata": {},
   "source": [
    "\n",
    "## 📉 Confidence Interval (95%)\n",
    "- **Confidence Coefficient (t-value):** <span style=\"color:purple;\">`c`</span>  \n",
    "- **Lower Bound:** <span style=\"color:red;\">`lower_bound`</span>  \n",
    "- **Upper Bound:** <span style=\"color:red;\">`upper_bound`</span>  "
   ]
  },
  {
   "cell_type": "code",
   "execution_count": 13,
   "metadata": {},
   "outputs": [
    {
     "data": {
      "text/plain": [
       "np.float64(2.0226909200367604)"
      ]
     },
     "execution_count": 13,
     "metadata": {},
     "output_type": "execute_result"
    }
   ],
   "source": [
    "# Calculate the confidence coefficient for a 95% confidence level\n",
    "c = stats.t.ppf(0.975, df=len(sample)-1)\n",
    "c"
   ]
  },
  {
   "cell_type": "code",
   "execution_count": 15,
   "metadata": {},
   "outputs": [
    {
     "data": {
      "text/plain": [
       "np.float64(47.03637287588398)"
      ]
     },
     "execution_count": 15,
     "metadata": {},
     "output_type": "execute_result"
    }
   ],
   "source": [
    "\n",
    "# Calculate the lower bound of the confidence interval\n",
    "lower_bound = sample_mean - (c * standard_error)\n",
    "lower_bound\n"
   ]
  },
  {
   "cell_type": "code",
   "execution_count": 16,
   "metadata": {},
   "outputs": [
    {
     "data": {
      "text/plain": [
       "np.float64(55.96878273082245)"
      ]
     },
     "execution_count": 16,
     "metadata": {},
     "output_type": "execute_result"
    }
   ],
   "source": [
    "# Calculate the upper bound of the confidence interval\n",
    "upper_bound = sample_mean + (c * standard_error)\n",
    "upper_bound"
   ]
  },
  {
   "cell_type": "markdown",
   "metadata": {},
   "source": [
    "## 🔄 Bootstrap Analysis\n",
    "- **Bootstrapped Sample Means:** `1000` values  \n",
    "- **2.5th Percentile:** <span style=\"color:orange;\">`percentile_2_5`</span>  \n",
    "- **97.5th Percentile:** <span style=\"color:orange;\">`percentile_97_5`</span>  \n"
   ]
  },
  {
   "cell_type": "code",
   "execution_count": 19,
   "metadata": {},
   "outputs": [],
   "source": [
    "# Bootstrap sampling\n",
    "bootstrapped_means = np.array([np.mean(np.random.choice(sample, size=40, replace=True)) for _ in range(1000)])\n",
    "bootstrapped_means.sort()"
   ]
  },
  {
   "cell_type": "code",
   "execution_count": 20,
   "metadata": {},
   "outputs": [
    {
     "data": {
      "text/plain": [
       "np.float64(47.57574260536952)"
      ]
     },
     "execution_count": 20,
     "metadata": {},
     "output_type": "execute_result"
    }
   ],
   "source": [
    "# Calculate the 2.5th percentile\n",
    "percentile_2_5 = np.percentile(bootstrapped_means, 2.5)\n",
    "percentile_2_5"
   ]
  },
  {
   "cell_type": "code",
   "execution_count": 22,
   "metadata": {},
   "outputs": [
    {
     "data": {
      "text/plain": [
       "np.float64(56.078772581881545)"
      ]
     },
     "execution_count": 22,
     "metadata": {},
     "output_type": "execute_result"
    }
   ],
   "source": [
    "# Calculate the 97.5th percentile\n",
    "percentile_97_5 = np.percentile(bootstrapped_means, 97.5)\n",
    "percentile_97_5"
   ]
  },
  {
   "cell_type": "markdown",
   "metadata": {},
   "source": [
    "## Project Guidelines\n",
    "- <font color=\"red\">Introduction</font> (what is this going to be about, the only information he will know about this)\n",
    "- <font color=\"red\">Methods</font> section (tell a little about where the data came from, tell about the dataset itself, add a little bit about your data analysis if you do use some statistical analysis ex. i am going to use a t test with a significant value of 0.05)\n",
    "- <font color=\"red\">Results</font> (no discussion in this part, only listing what you found, a summary of what is to come, tables are nice to have)\n",
    "    - this is optional but it is more like a paper\n",
    "    - if it is not added put results in discussion\n",
    "- <font color=\"red\">Discussion</font> section\n",
    "- <font color=\"red\">Reference</font> section at bottom (don't go crazy)"
   ]
  },
  {
   "cell_type": "markdown",
   "metadata": {},
   "source": [
    "# Start of Week 11 Stats"
   ]
  },
  {
   "cell_type": "markdown",
   "metadata": {},
   "source": [
    "### Levels of measurement\n",
    "- Know your data type\n",
    "    - Categorical: nominal (no natural order), ordinal (natural order)\n",
    "    - Numerical: interval (no true zero, like zero), ratio-type (true zero like weight)"
   ]
  },
  {
   "cell_type": "markdown",
   "metadata": {},
   "source": [
    "- Random variable: a function that assings a number to the outcome of some action\n",
    "    - typical variables are X, Y, K...\n",
    "    - two types of random variables\n",
    "        - discrete: can take on a countable number of values (only positive integer)\n",
    "        - continuous: can take on an uncountable number of values (any real number)"
   ]
  },
  {
   "cell_type": "markdown",
   "metadata": {},
   "source": [
    "- Probabilities\n",
    "    - can only talk about probabilities of intervals like P(a<X<b) or that 5 people of the 30 are fitting a condition like P(K=k), this is because you cannot have like 7.5 people for example"
   ]
  },
  {
   "cell_type": "markdown",
   "metadata": {},
   "source": [
    "- Depending on your variable your test will change"
   ]
  },
  {
   "cell_type": "markdown",
   "metadata": {},
   "source": [
    "### <font color=\"violet\">Fun Note</font>\n",
    "- vibe coding: creating little games and selling them for a lot of money currently happening a lot right now, not even writing the code on your own using ai to make it\n"
   ]
  },
  {
   "cell_type": "code",
   "execution_count": 1,
   "metadata": {},
   "outputs": [],
   "source": [
    "import numpy\n",
    "from plotly import graph_objects, figure_factory\n",
    "import pandas\n",
    "from scipy import stats"
   ]
  },
  {
   "cell_type": "code",
   "execution_count": 2,
   "metadata": {},
   "outputs": [],
   "source": [
    "# Seed the random number generator with a known value\n",
    "numpy.random.seed(28)\n",
    "\n",
    "# Create a empty list named \"results\" to store the results\n",
    "results = []\n",
    "\n",
    "# Create a for loop to roll the dice 1000 times\n",
    "for _ in range(1000):\n",
    "    results.append(numpy.random.randint(1, 7) + numpy.random.randint(1, 7))"
   ]
  },
  {
   "cell_type": "code",
   "execution_count": 3,
   "metadata": {},
   "outputs": [],
   "source": [
    "# Convert the numpy array to a pandas DataFrame\n",
    "results = pandas.DataFrame(results, columns=['Value'])"
   ]
  },
  {
   "cell_type": "code",
   "execution_count": 4,
   "metadata": {},
   "outputs": [
    {
     "name": "stdout",
     "output_type": "stream",
     "text": [
      "       count\n",
      "Value       \n",
      "2         24\n",
      "3         39\n",
      "4         93\n",
      "5        108\n",
      "6        121\n",
      "7        183\n",
      "8        152\n",
      "9        105\n",
      "10       103\n",
      "11        53\n",
      "12        19\n"
     ]
    }
   ],
   "source": [
    "# Create a DataFrame object from the value counts and sort the index\n",
    "value_counts = pandas.DataFrame(results['Value'].value_counts()).sort_index()\n",
    "\n",
    "# Print the series object to the screen\n",
    "print(value_counts)"
   ]
  },
  {
   "cell_type": "code",
   "execution_count": 5,
   "metadata": {},
   "outputs": [
    {
     "data": {
      "application/vnd.plotly.v1+json": {
       "config": {
        "plotlyServerURL": "https://plot.ly"
       },
       "data": [
        {
         "text": {
          "bdata": "AAAAAAAAOEAAAAAAAIBDQAAAAAAAQFdAAAAAAAAAW0AAAAAAAEBeQAAAAAAA4GZAAAAAAAAAY0AAAAAAAEBaQAAAAAAAwFlAAAAAAACASkAAAAAAAAAzQA==",
          "dtype": "f8"
         },
         "textposition": "auto",
         "type": "bar",
         "x": [
          2,
          3,
          4,
          5,
          6,
          7,
          8,
          9,
          10,
          11,
          12
         ],
         "y": {
          "bdata": "GAAnAF0AbAB5ALcAmABpAGcANQATAA==",
          "dtype": "i2"
         }
        }
       ],
       "layout": {
        "template": {
         "data": {
          "bar": [
           {
            "error_x": {
             "color": "#2a3f5f"
            },
            "error_y": {
             "color": "#2a3f5f"
            },
            "marker": {
             "line": {
              "color": "#E5ECF6",
              "width": 0.5
             },
             "pattern": {
              "fillmode": "overlay",
              "size": 10,
              "solidity": 0.2
             }
            },
            "type": "bar"
           }
          ],
          "barpolar": [
           {
            "marker": {
             "line": {
              "color": "#E5ECF6",
              "width": 0.5
             },
             "pattern": {
              "fillmode": "overlay",
              "size": 10,
              "solidity": 0.2
             }
            },
            "type": "barpolar"
           }
          ],
          "carpet": [
           {
            "aaxis": {
             "endlinecolor": "#2a3f5f",
             "gridcolor": "white",
             "linecolor": "white",
             "minorgridcolor": "white",
             "startlinecolor": "#2a3f5f"
            },
            "baxis": {
             "endlinecolor": "#2a3f5f",
             "gridcolor": "white",
             "linecolor": "white",
             "minorgridcolor": "white",
             "startlinecolor": "#2a3f5f"
            },
            "type": "carpet"
           }
          ],
          "choropleth": [
           {
            "colorbar": {
             "outlinewidth": 0,
             "ticks": ""
            },
            "type": "choropleth"
           }
          ],
          "contour": [
           {
            "colorbar": {
             "outlinewidth": 0,
             "ticks": ""
            },
            "colorscale": [
             [
              0,
              "#0d0887"
             ],
             [
              0.1111111111111111,
              "#46039f"
             ],
             [
              0.2222222222222222,
              "#7201a8"
             ],
             [
              0.3333333333333333,
              "#9c179e"
             ],
             [
              0.4444444444444444,
              "#bd3786"
             ],
             [
              0.5555555555555556,
              "#d8576b"
             ],
             [
              0.6666666666666666,
              "#ed7953"
             ],
             [
              0.7777777777777778,
              "#fb9f3a"
             ],
             [
              0.8888888888888888,
              "#fdca26"
             ],
             [
              1,
              "#f0f921"
             ]
            ],
            "type": "contour"
           }
          ],
          "contourcarpet": [
           {
            "colorbar": {
             "outlinewidth": 0,
             "ticks": ""
            },
            "type": "contourcarpet"
           }
          ],
          "heatmap": [
           {
            "colorbar": {
             "outlinewidth": 0,
             "ticks": ""
            },
            "colorscale": [
             [
              0,
              "#0d0887"
             ],
             [
              0.1111111111111111,
              "#46039f"
             ],
             [
              0.2222222222222222,
              "#7201a8"
             ],
             [
              0.3333333333333333,
              "#9c179e"
             ],
             [
              0.4444444444444444,
              "#bd3786"
             ],
             [
              0.5555555555555556,
              "#d8576b"
             ],
             [
              0.6666666666666666,
              "#ed7953"
             ],
             [
              0.7777777777777778,
              "#fb9f3a"
             ],
             [
              0.8888888888888888,
              "#fdca26"
             ],
             [
              1,
              "#f0f921"
             ]
            ],
            "type": "heatmap"
           }
          ],
          "histogram": [
           {
            "marker": {
             "pattern": {
              "fillmode": "overlay",
              "size": 10,
              "solidity": 0.2
             }
            },
            "type": "histogram"
           }
          ],
          "histogram2d": [
           {
            "colorbar": {
             "outlinewidth": 0,
             "ticks": ""
            },
            "colorscale": [
             [
              0,
              "#0d0887"
             ],
             [
              0.1111111111111111,
              "#46039f"
             ],
             [
              0.2222222222222222,
              "#7201a8"
             ],
             [
              0.3333333333333333,
              "#9c179e"
             ],
             [
              0.4444444444444444,
              "#bd3786"
             ],
             [
              0.5555555555555556,
              "#d8576b"
             ],
             [
              0.6666666666666666,
              "#ed7953"
             ],
             [
              0.7777777777777778,
              "#fb9f3a"
             ],
             [
              0.8888888888888888,
              "#fdca26"
             ],
             [
              1,
              "#f0f921"
             ]
            ],
            "type": "histogram2d"
           }
          ],
          "histogram2dcontour": [
           {
            "colorbar": {
             "outlinewidth": 0,
             "ticks": ""
            },
            "colorscale": [
             [
              0,
              "#0d0887"
             ],
             [
              0.1111111111111111,
              "#46039f"
             ],
             [
              0.2222222222222222,
              "#7201a8"
             ],
             [
              0.3333333333333333,
              "#9c179e"
             ],
             [
              0.4444444444444444,
              "#bd3786"
             ],
             [
              0.5555555555555556,
              "#d8576b"
             ],
             [
              0.6666666666666666,
              "#ed7953"
             ],
             [
              0.7777777777777778,
              "#fb9f3a"
             ],
             [
              0.8888888888888888,
              "#fdca26"
             ],
             [
              1,
              "#f0f921"
             ]
            ],
            "type": "histogram2dcontour"
           }
          ],
          "mesh3d": [
           {
            "colorbar": {
             "outlinewidth": 0,
             "ticks": ""
            },
            "type": "mesh3d"
           }
          ],
          "parcoords": [
           {
            "line": {
             "colorbar": {
              "outlinewidth": 0,
              "ticks": ""
             }
            },
            "type": "parcoords"
           }
          ],
          "pie": [
           {
            "automargin": true,
            "type": "pie"
           }
          ],
          "scatter": [
           {
            "fillpattern": {
             "fillmode": "overlay",
             "size": 10,
             "solidity": 0.2
            },
            "type": "scatter"
           }
          ],
          "scatter3d": [
           {
            "line": {
             "colorbar": {
              "outlinewidth": 0,
              "ticks": ""
             }
            },
            "marker": {
             "colorbar": {
              "outlinewidth": 0,
              "ticks": ""
             }
            },
            "type": "scatter3d"
           }
          ],
          "scattercarpet": [
           {
            "marker": {
             "colorbar": {
              "outlinewidth": 0,
              "ticks": ""
             }
            },
            "type": "scattercarpet"
           }
          ],
          "scattergeo": [
           {
            "marker": {
             "colorbar": {
              "outlinewidth": 0,
              "ticks": ""
             }
            },
            "type": "scattergeo"
           }
          ],
          "scattergl": [
           {
            "marker": {
             "colorbar": {
              "outlinewidth": 0,
              "ticks": ""
             }
            },
            "type": "scattergl"
           }
          ],
          "scattermap": [
           {
            "marker": {
             "colorbar": {
              "outlinewidth": 0,
              "ticks": ""
             }
            },
            "type": "scattermap"
           }
          ],
          "scattermapbox": [
           {
            "marker": {
             "colorbar": {
              "outlinewidth": 0,
              "ticks": ""
             }
            },
            "type": "scattermapbox"
           }
          ],
          "scatterpolar": [
           {
            "marker": {
             "colorbar": {
              "outlinewidth": 0,
              "ticks": ""
             }
            },
            "type": "scatterpolar"
           }
          ],
          "scatterpolargl": [
           {
            "marker": {
             "colorbar": {
              "outlinewidth": 0,
              "ticks": ""
             }
            },
            "type": "scatterpolargl"
           }
          ],
          "scatterternary": [
           {
            "marker": {
             "colorbar": {
              "outlinewidth": 0,
              "ticks": ""
             }
            },
            "type": "scatterternary"
           }
          ],
          "surface": [
           {
            "colorbar": {
             "outlinewidth": 0,
             "ticks": ""
            },
            "colorscale": [
             [
              0,
              "#0d0887"
             ],
             [
              0.1111111111111111,
              "#46039f"
             ],
             [
              0.2222222222222222,
              "#7201a8"
             ],
             [
              0.3333333333333333,
              "#9c179e"
             ],
             [
              0.4444444444444444,
              "#bd3786"
             ],
             [
              0.5555555555555556,
              "#d8576b"
             ],
             [
              0.6666666666666666,
              "#ed7953"
             ],
             [
              0.7777777777777778,
              "#fb9f3a"
             ],
             [
              0.8888888888888888,
              "#fdca26"
             ],
             [
              1,
              "#f0f921"
             ]
            ],
            "type": "surface"
           }
          ],
          "table": [
           {
            "cells": {
             "fill": {
              "color": "#EBF0F8"
             },
             "line": {
              "color": "white"
             }
            },
            "header": {
             "fill": {
              "color": "#C8D4E3"
             },
             "line": {
              "color": "white"
             }
            },
            "type": "table"
           }
          ]
         },
         "layout": {
          "annotationdefaults": {
           "arrowcolor": "#2a3f5f",
           "arrowhead": 0,
           "arrowwidth": 1
          },
          "autotypenumbers": "strict",
          "coloraxis": {
           "colorbar": {
            "outlinewidth": 0,
            "ticks": ""
           }
          },
          "colorscale": {
           "diverging": [
            [
             0,
             "#8e0152"
            ],
            [
             0.1,
             "#c51b7d"
            ],
            [
             0.2,
             "#de77ae"
            ],
            [
             0.3,
             "#f1b6da"
            ],
            [
             0.4,
             "#fde0ef"
            ],
            [
             0.5,
             "#f7f7f7"
            ],
            [
             0.6,
             "#e6f5d0"
            ],
            [
             0.7,
             "#b8e186"
            ],
            [
             0.8,
             "#7fbc41"
            ],
            [
             0.9,
             "#4d9221"
            ],
            [
             1,
             "#276419"
            ]
           ],
           "sequential": [
            [
             0,
             "#0d0887"
            ],
            [
             0.1111111111111111,
             "#46039f"
            ],
            [
             0.2222222222222222,
             "#7201a8"
            ],
            [
             0.3333333333333333,
             "#9c179e"
            ],
            [
             0.4444444444444444,
             "#bd3786"
            ],
            [
             0.5555555555555556,
             "#d8576b"
            ],
            [
             0.6666666666666666,
             "#ed7953"
            ],
            [
             0.7777777777777778,
             "#fb9f3a"
            ],
            [
             0.8888888888888888,
             "#fdca26"
            ],
            [
             1,
             "#f0f921"
            ]
           ],
           "sequentialminus": [
            [
             0,
             "#0d0887"
            ],
            [
             0.1111111111111111,
             "#46039f"
            ],
            [
             0.2222222222222222,
             "#7201a8"
            ],
            [
             0.3333333333333333,
             "#9c179e"
            ],
            [
             0.4444444444444444,
             "#bd3786"
            ],
            [
             0.5555555555555556,
             "#d8576b"
            ],
            [
             0.6666666666666666,
             "#ed7953"
            ],
            [
             0.7777777777777778,
             "#fb9f3a"
            ],
            [
             0.8888888888888888,
             "#fdca26"
            ],
            [
             1,
             "#f0f921"
            ]
           ]
          },
          "colorway": [
           "#636efa",
           "#EF553B",
           "#00cc96",
           "#ab63fa",
           "#FFA15A",
           "#19d3f3",
           "#FF6692",
           "#B6E880",
           "#FF97FF",
           "#FECB52"
          ],
          "font": {
           "color": "#2a3f5f"
          },
          "geo": {
           "bgcolor": "white",
           "lakecolor": "white",
           "landcolor": "#E5ECF6",
           "showlakes": true,
           "showland": true,
           "subunitcolor": "white"
          },
          "hoverlabel": {
           "align": "left"
          },
          "hovermode": "closest",
          "mapbox": {
           "style": "light"
          },
          "paper_bgcolor": "white",
          "plot_bgcolor": "#E5ECF6",
          "polar": {
           "angularaxis": {
            "gridcolor": "white",
            "linecolor": "white",
            "ticks": ""
           },
           "bgcolor": "#E5ECF6",
           "radialaxis": {
            "gridcolor": "white",
            "linecolor": "white",
            "ticks": ""
           }
          },
          "scene": {
           "xaxis": {
            "backgroundcolor": "#E5ECF6",
            "gridcolor": "white",
            "gridwidth": 2,
            "linecolor": "white",
            "showbackground": true,
            "ticks": "",
            "zerolinecolor": "white"
           },
           "yaxis": {
            "backgroundcolor": "#E5ECF6",
            "gridcolor": "white",
            "gridwidth": 2,
            "linecolor": "white",
            "showbackground": true,
            "ticks": "",
            "zerolinecolor": "white"
           },
           "zaxis": {
            "backgroundcolor": "#E5ECF6",
            "gridcolor": "white",
            "gridwidth": 2,
            "linecolor": "white",
            "showbackground": true,
            "ticks": "",
            "zerolinecolor": "white"
           }
          },
          "shapedefaults": {
           "line": {
            "color": "#2a3f5f"
           }
          },
          "ternary": {
           "aaxis": {
            "gridcolor": "white",
            "linecolor": "white",
            "ticks": ""
           },
           "baxis": {
            "gridcolor": "white",
            "linecolor": "white",
            "ticks": ""
           },
           "bgcolor": "#E5ECF6",
           "caxis": {
            "gridcolor": "white",
            "linecolor": "white",
            "ticks": ""
           }
          },
          "title": {
           "x": 0.05
          },
          "xaxis": {
           "automargin": true,
           "gridcolor": "white",
           "linecolor": "white",
           "ticks": "",
           "title": {
            "standoff": 15
           },
           "zerolinecolor": "white",
           "zerolinewidth": 2
          },
          "yaxis": {
           "automargin": true,
           "gridcolor": "white",
           "linecolor": "white",
           "ticks": "",
           "title": {
            "standoff": 15
           },
           "zerolinecolor": "white",
           "zerolinewidth": 2
          }
         }
        },
        "title": {
         "text": "Value Counts for 1000 Dice Rolls"
        },
        "width": 700,
        "xaxis": {
         "title": {
          "text": "Dice Value"
         }
        },
        "yaxis": {
         "title": {
          "text": "Count"
         }
        }
       }
      }
     },
     "metadata": {},
     "output_type": "display_data"
    }
   ],
   "source": [
    "# Create a bar chart of the value counts\n",
    "fig = graph_objects.Figure(\n",
    "    graph_objects.Bar(\n",
    "        x=value_counts.index.to_list(),\n",
    "        y=value_counts.values[:, 0],\n",
    "        text=value_counts.values[:, 0],\n",
    "        textposition='auto'\n",
    "    )\n",
    ")\n",
    "\n",
    "# Update the layout to improve readability\n",
    "fig.update_layout(\n",
    "    title='Value Counts for 1000 Dice Rolls',\n",
    "    xaxis_title='Dice Value',\n",
    "    yaxis_title='Count',\n",
    "    width=700,\n",
    ")\n",
    "\n",
    "# Display the plot\n",
    "fig.show()"
   ]
  },
  {
   "cell_type": "code",
   "execution_count": 6,
   "metadata": {},
   "outputs": [
    {
     "data": {
      "application/vnd.microsoft.datawrangler.viewer.v0+json": {
       "columns": [
        {
         "name": "Value",
         "rawType": "int64",
         "type": "integer"
        },
        {
         "name": "count",
         "rawType": "float64",
         "type": "float"
        }
       ],
       "conversionMethod": "pd.DataFrame",
       "ref": "f3207c04-4a20-49ce-a473-3bbd51230bb3",
       "rows": [
        [
         "2",
         "0.024"
        ],
        [
         "3",
         "0.039"
        ],
        [
         "4",
         "0.093"
        ],
        [
         "5",
         "0.108"
        ],
        [
         "6",
         "0.121"
        ],
        [
         "7",
         "0.183"
        ],
        [
         "8",
         "0.152"
        ],
        [
         "9",
         "0.105"
        ],
        [
         "10",
         "0.103"
        ],
        [
         "11",
         "0.053"
        ],
        [
         "12",
         "0.019"
        ]
       ],
       "shape": {
        "columns": 1,
        "rows": 11
       }
      },
      "text/html": [
       "<div>\n",
       "<style scoped>\n",
       "    .dataframe tbody tr th:only-of-type {\n",
       "        vertical-align: middle;\n",
       "    }\n",
       "\n",
       "    .dataframe tbody tr th {\n",
       "        vertical-align: top;\n",
       "    }\n",
       "\n",
       "    .dataframe thead th {\n",
       "        text-align: right;\n",
       "    }\n",
       "</style>\n",
       "<table border=\"1\" class=\"dataframe\">\n",
       "  <thead>\n",
       "    <tr style=\"text-align: right;\">\n",
       "      <th></th>\n",
       "      <th>count</th>\n",
       "    </tr>\n",
       "    <tr>\n",
       "      <th>Value</th>\n",
       "      <th></th>\n",
       "    </tr>\n",
       "  </thead>\n",
       "  <tbody>\n",
       "    <tr>\n",
       "      <th>2</th>\n",
       "      <td>0.024</td>\n",
       "    </tr>\n",
       "    <tr>\n",
       "      <th>3</th>\n",
       "      <td>0.039</td>\n",
       "    </tr>\n",
       "    <tr>\n",
       "      <th>4</th>\n",
       "      <td>0.093</td>\n",
       "    </tr>\n",
       "    <tr>\n",
       "      <th>5</th>\n",
       "      <td>0.108</td>\n",
       "    </tr>\n",
       "    <tr>\n",
       "      <th>6</th>\n",
       "      <td>0.121</td>\n",
       "    </tr>\n",
       "    <tr>\n",
       "      <th>7</th>\n",
       "      <td>0.183</td>\n",
       "    </tr>\n",
       "    <tr>\n",
       "      <th>8</th>\n",
       "      <td>0.152</td>\n",
       "    </tr>\n",
       "    <tr>\n",
       "      <th>9</th>\n",
       "      <td>0.105</td>\n",
       "    </tr>\n",
       "    <tr>\n",
       "      <th>10</th>\n",
       "      <td>0.103</td>\n",
       "    </tr>\n",
       "    <tr>\n",
       "      <th>11</th>\n",
       "      <td>0.053</td>\n",
       "    </tr>\n",
       "    <tr>\n",
       "      <th>12</th>\n",
       "      <td>0.019</td>\n",
       "    </tr>\n",
       "  </tbody>\n",
       "</table>\n",
       "</div>"
      ],
      "text/plain": [
       "       count\n",
       "Value       \n",
       "2      0.024\n",
       "3      0.039\n",
       "4      0.093\n",
       "5      0.108\n",
       "6      0.121\n",
       "7      0.183\n",
       "8      0.152\n",
       "9      0.105\n",
       "10     0.103\n",
       "11     0.053\n",
       "12     0.019"
      ]
     },
     "execution_count": 6,
     "metadata": {},
     "output_type": "execute_result"
    }
   ],
   "source": [
    "# Empirical probability mass function of the two-dice sum distribution\n",
    "value_counts / 1000"
   ]
  },
  {
   "cell_type": "code",
   "execution_count": 7,
   "metadata": {},
   "outputs": [
    {
     "name": "stdout",
     "output_type": "stream",
     "text": [
      "Probability of rolling a 7: 0.183\n"
     ]
    }
   ],
   "source": [
    "# Calculate the probability of rolling a 7 in this experiment\n",
    "print('Probability of rolling a 7:', value_counts.iloc[5].values.tolist()[0] / 1000)"
   ]
  },
  {
   "cell_type": "code",
   "execution_count": 8,
   "metadata": {},
   "outputs": [
    {
     "data": {
      "application/vnd.plotly.v1+json": {
       "config": {
        "plotlyServerURL": "https://plot.ly"
       },
       "data": [
        {
         "type": "bar",
         "x": [
          2,
          3,
          4,
          5,
          6,
          7,
          8,
          9,
          10,
          11,
          12
         ],
         "y": {
          "bdata": "+n5qvHSTmD8rhxbZzvejPwIrhxbZzrc/2c73U+Oluz9g5dAi2/m+PwaBlUOLbMc/2/l+arx0wz/hehSuR+G6P5HtfD81Xro/iUFg5dAiqz/b+X5qvHSTPw==",
          "dtype": "f8"
         }
        }
       ],
       "layout": {
        "template": {
         "data": {
          "bar": [
           {
            "error_x": {
             "color": "#2a3f5f"
            },
            "error_y": {
             "color": "#2a3f5f"
            },
            "marker": {
             "line": {
              "color": "#E5ECF6",
              "width": 0.5
             },
             "pattern": {
              "fillmode": "overlay",
              "size": 10,
              "solidity": 0.2
             }
            },
            "type": "bar"
           }
          ],
          "barpolar": [
           {
            "marker": {
             "line": {
              "color": "#E5ECF6",
              "width": 0.5
             },
             "pattern": {
              "fillmode": "overlay",
              "size": 10,
              "solidity": 0.2
             }
            },
            "type": "barpolar"
           }
          ],
          "carpet": [
           {
            "aaxis": {
             "endlinecolor": "#2a3f5f",
             "gridcolor": "white",
             "linecolor": "white",
             "minorgridcolor": "white",
             "startlinecolor": "#2a3f5f"
            },
            "baxis": {
             "endlinecolor": "#2a3f5f",
             "gridcolor": "white",
             "linecolor": "white",
             "minorgridcolor": "white",
             "startlinecolor": "#2a3f5f"
            },
            "type": "carpet"
           }
          ],
          "choropleth": [
           {
            "colorbar": {
             "outlinewidth": 0,
             "ticks": ""
            },
            "type": "choropleth"
           }
          ],
          "contour": [
           {
            "colorbar": {
             "outlinewidth": 0,
             "ticks": ""
            },
            "colorscale": [
             [
              0,
              "#0d0887"
             ],
             [
              0.1111111111111111,
              "#46039f"
             ],
             [
              0.2222222222222222,
              "#7201a8"
             ],
             [
              0.3333333333333333,
              "#9c179e"
             ],
             [
              0.4444444444444444,
              "#bd3786"
             ],
             [
              0.5555555555555556,
              "#d8576b"
             ],
             [
              0.6666666666666666,
              "#ed7953"
             ],
             [
              0.7777777777777778,
              "#fb9f3a"
             ],
             [
              0.8888888888888888,
              "#fdca26"
             ],
             [
              1,
              "#f0f921"
             ]
            ],
            "type": "contour"
           }
          ],
          "contourcarpet": [
           {
            "colorbar": {
             "outlinewidth": 0,
             "ticks": ""
            },
            "type": "contourcarpet"
           }
          ],
          "heatmap": [
           {
            "colorbar": {
             "outlinewidth": 0,
             "ticks": ""
            },
            "colorscale": [
             [
              0,
              "#0d0887"
             ],
             [
              0.1111111111111111,
              "#46039f"
             ],
             [
              0.2222222222222222,
              "#7201a8"
             ],
             [
              0.3333333333333333,
              "#9c179e"
             ],
             [
              0.4444444444444444,
              "#bd3786"
             ],
             [
              0.5555555555555556,
              "#d8576b"
             ],
             [
              0.6666666666666666,
              "#ed7953"
             ],
             [
              0.7777777777777778,
              "#fb9f3a"
             ],
             [
              0.8888888888888888,
              "#fdca26"
             ],
             [
              1,
              "#f0f921"
             ]
            ],
            "type": "heatmap"
           }
          ],
          "histogram": [
           {
            "marker": {
             "pattern": {
              "fillmode": "overlay",
              "size": 10,
              "solidity": 0.2
             }
            },
            "type": "histogram"
           }
          ],
          "histogram2d": [
           {
            "colorbar": {
             "outlinewidth": 0,
             "ticks": ""
            },
            "colorscale": [
             [
              0,
              "#0d0887"
             ],
             [
              0.1111111111111111,
              "#46039f"
             ],
             [
              0.2222222222222222,
              "#7201a8"
             ],
             [
              0.3333333333333333,
              "#9c179e"
             ],
             [
              0.4444444444444444,
              "#bd3786"
             ],
             [
              0.5555555555555556,
              "#d8576b"
             ],
             [
              0.6666666666666666,
              "#ed7953"
             ],
             [
              0.7777777777777778,
              "#fb9f3a"
             ],
             [
              0.8888888888888888,
              "#fdca26"
             ],
             [
              1,
              "#f0f921"
             ]
            ],
            "type": "histogram2d"
           }
          ],
          "histogram2dcontour": [
           {
            "colorbar": {
             "outlinewidth": 0,
             "ticks": ""
            },
            "colorscale": [
             [
              0,
              "#0d0887"
             ],
             [
              0.1111111111111111,
              "#46039f"
             ],
             [
              0.2222222222222222,
              "#7201a8"
             ],
             [
              0.3333333333333333,
              "#9c179e"
             ],
             [
              0.4444444444444444,
              "#bd3786"
             ],
             [
              0.5555555555555556,
              "#d8576b"
             ],
             [
              0.6666666666666666,
              "#ed7953"
             ],
             [
              0.7777777777777778,
              "#fb9f3a"
             ],
             [
              0.8888888888888888,
              "#fdca26"
             ],
             [
              1,
              "#f0f921"
             ]
            ],
            "type": "histogram2dcontour"
           }
          ],
          "mesh3d": [
           {
            "colorbar": {
             "outlinewidth": 0,
             "ticks": ""
            },
            "type": "mesh3d"
           }
          ],
          "parcoords": [
           {
            "line": {
             "colorbar": {
              "outlinewidth": 0,
              "ticks": ""
             }
            },
            "type": "parcoords"
           }
          ],
          "pie": [
           {
            "automargin": true,
            "type": "pie"
           }
          ],
          "scatter": [
           {
            "fillpattern": {
             "fillmode": "overlay",
             "size": 10,
             "solidity": 0.2
            },
            "type": "scatter"
           }
          ],
          "scatter3d": [
           {
            "line": {
             "colorbar": {
              "outlinewidth": 0,
              "ticks": ""
             }
            },
            "marker": {
             "colorbar": {
              "outlinewidth": 0,
              "ticks": ""
             }
            },
            "type": "scatter3d"
           }
          ],
          "scattercarpet": [
           {
            "marker": {
             "colorbar": {
              "outlinewidth": 0,
              "ticks": ""
             }
            },
            "type": "scattercarpet"
           }
          ],
          "scattergeo": [
           {
            "marker": {
             "colorbar": {
              "outlinewidth": 0,
              "ticks": ""
             }
            },
            "type": "scattergeo"
           }
          ],
          "scattergl": [
           {
            "marker": {
             "colorbar": {
              "outlinewidth": 0,
              "ticks": ""
             }
            },
            "type": "scattergl"
           }
          ],
          "scattermap": [
           {
            "marker": {
             "colorbar": {
              "outlinewidth": 0,
              "ticks": ""
             }
            },
            "type": "scattermap"
           }
          ],
          "scattermapbox": [
           {
            "marker": {
             "colorbar": {
              "outlinewidth": 0,
              "ticks": ""
             }
            },
            "type": "scattermapbox"
           }
          ],
          "scatterpolar": [
           {
            "marker": {
             "colorbar": {
              "outlinewidth": 0,
              "ticks": ""
             }
            },
            "type": "scatterpolar"
           }
          ],
          "scatterpolargl": [
           {
            "marker": {
             "colorbar": {
              "outlinewidth": 0,
              "ticks": ""
             }
            },
            "type": "scatterpolargl"
           }
          ],
          "scatterternary": [
           {
            "marker": {
             "colorbar": {
              "outlinewidth": 0,
              "ticks": ""
             }
            },
            "type": "scatterternary"
           }
          ],
          "surface": [
           {
            "colorbar": {
             "outlinewidth": 0,
             "ticks": ""
            },
            "colorscale": [
             [
              0,
              "#0d0887"
             ],
             [
              0.1111111111111111,
              "#46039f"
             ],
             [
              0.2222222222222222,
              "#7201a8"
             ],
             [
              0.3333333333333333,
              "#9c179e"
             ],
             [
              0.4444444444444444,
              "#bd3786"
             ],
             [
              0.5555555555555556,
              "#d8576b"
             ],
             [
              0.6666666666666666,
              "#ed7953"
             ],
             [
              0.7777777777777778,
              "#fb9f3a"
             ],
             [
              0.8888888888888888,
              "#fdca26"
             ],
             [
              1,
              "#f0f921"
             ]
            ],
            "type": "surface"
           }
          ],
          "table": [
           {
            "cells": {
             "fill": {
              "color": "#EBF0F8"
             },
             "line": {
              "color": "white"
             }
            },
            "header": {
             "fill": {
              "color": "#C8D4E3"
             },
             "line": {
              "color": "white"
             }
            },
            "type": "table"
           }
          ]
         },
         "layout": {
          "annotationdefaults": {
           "arrowcolor": "#2a3f5f",
           "arrowhead": 0,
           "arrowwidth": 1
          },
          "autotypenumbers": "strict",
          "coloraxis": {
           "colorbar": {
            "outlinewidth": 0,
            "ticks": ""
           }
          },
          "colorscale": {
           "diverging": [
            [
             0,
             "#8e0152"
            ],
            [
             0.1,
             "#c51b7d"
            ],
            [
             0.2,
             "#de77ae"
            ],
            [
             0.3,
             "#f1b6da"
            ],
            [
             0.4,
             "#fde0ef"
            ],
            [
             0.5,
             "#f7f7f7"
            ],
            [
             0.6,
             "#e6f5d0"
            ],
            [
             0.7,
             "#b8e186"
            ],
            [
             0.8,
             "#7fbc41"
            ],
            [
             0.9,
             "#4d9221"
            ],
            [
             1,
             "#276419"
            ]
           ],
           "sequential": [
            [
             0,
             "#0d0887"
            ],
            [
             0.1111111111111111,
             "#46039f"
            ],
            [
             0.2222222222222222,
             "#7201a8"
            ],
            [
             0.3333333333333333,
             "#9c179e"
            ],
            [
             0.4444444444444444,
             "#bd3786"
            ],
            [
             0.5555555555555556,
             "#d8576b"
            ],
            [
             0.6666666666666666,
             "#ed7953"
            ],
            [
             0.7777777777777778,
             "#fb9f3a"
            ],
            [
             0.8888888888888888,
             "#fdca26"
            ],
            [
             1,
             "#f0f921"
            ]
           ],
           "sequentialminus": [
            [
             0,
             "#0d0887"
            ],
            [
             0.1111111111111111,
             "#46039f"
            ],
            [
             0.2222222222222222,
             "#7201a8"
            ],
            [
             0.3333333333333333,
             "#9c179e"
            ],
            [
             0.4444444444444444,
             "#bd3786"
            ],
            [
             0.5555555555555556,
             "#d8576b"
            ],
            [
             0.6666666666666666,
             "#ed7953"
            ],
            [
             0.7777777777777778,
             "#fb9f3a"
            ],
            [
             0.8888888888888888,
             "#fdca26"
            ],
            [
             1,
             "#f0f921"
            ]
           ]
          },
          "colorway": [
           "#636efa",
           "#EF553B",
           "#00cc96",
           "#ab63fa",
           "#FFA15A",
           "#19d3f3",
           "#FF6692",
           "#B6E880",
           "#FF97FF",
           "#FECB52"
          ],
          "font": {
           "color": "#2a3f5f"
          },
          "geo": {
           "bgcolor": "white",
           "lakecolor": "white",
           "landcolor": "#E5ECF6",
           "showlakes": true,
           "showland": true,
           "subunitcolor": "white"
          },
          "hoverlabel": {
           "align": "left"
          },
          "hovermode": "closest",
          "mapbox": {
           "style": "light"
          },
          "paper_bgcolor": "white",
          "plot_bgcolor": "#E5ECF6",
          "polar": {
           "angularaxis": {
            "gridcolor": "white",
            "linecolor": "white",
            "ticks": ""
           },
           "bgcolor": "#E5ECF6",
           "radialaxis": {
            "gridcolor": "white",
            "linecolor": "white",
            "ticks": ""
           }
          },
          "scene": {
           "xaxis": {
            "backgroundcolor": "#E5ECF6",
            "gridcolor": "white",
            "gridwidth": 2,
            "linecolor": "white",
            "showbackground": true,
            "ticks": "",
            "zerolinecolor": "white"
           },
           "yaxis": {
            "backgroundcolor": "#E5ECF6",
            "gridcolor": "white",
            "gridwidth": 2,
            "linecolor": "white",
            "showbackground": true,
            "ticks": "",
            "zerolinecolor": "white"
           },
           "zaxis": {
            "backgroundcolor": "#E5ECF6",
            "gridcolor": "white",
            "gridwidth": 2,
            "linecolor": "white",
            "showbackground": true,
            "ticks": "",
            "zerolinecolor": "white"
           }
          },
          "shapedefaults": {
           "line": {
            "color": "#2a3f5f"
           }
          },
          "ternary": {
           "aaxis": {
            "gridcolor": "white",
            "linecolor": "white",
            "ticks": ""
           },
           "baxis": {
            "gridcolor": "white",
            "linecolor": "white",
            "ticks": ""
           },
           "bgcolor": "#E5ECF6",
           "caxis": {
            "gridcolor": "white",
            "linecolor": "white",
            "ticks": ""
           }
          },
          "title": {
           "x": 0.05
          },
          "xaxis": {
           "automargin": true,
           "gridcolor": "white",
           "linecolor": "white",
           "ticks": "",
           "title": {
            "standoff": 15
           },
           "zerolinecolor": "white",
           "zerolinewidth": 2
          },
          "yaxis": {
           "automargin": true,
           "gridcolor": "white",
           "linecolor": "white",
           "ticks": "",
           "title": {
            "standoff": 15
           },
           "zerolinecolor": "white",
           "zerolinewidth": 2
          }
         }
        },
        "title": {
         "text": "Visualizing the Probabilities"
        },
        "width": 700,
        "xaxis": {
         "title": {
          "text": "Dice Value"
         }
        },
        "yaxis": {
         "title": {
          "text": "Probability (proportion)"
         }
        }
       }
      }
     },
     "metadata": {},
     "output_type": "display_data"
    }
   ],
   "source": [
    "# Create a bar chart of the value counts\n",
    "fig = graph_objects.Figure(\n",
    "    graph_objects.Bar(\n",
    "        x=value_counts.index.to_list(),\n",
    "        y=value_counts.values[:, 0] / 1000\n",
    "    )\n",
    ")\n",
    "\n",
    "# Update the layout to improve readability\n",
    "fig.update_layout(\n",
    "    title='Visualizing the Probabilities',\n",
    "    xaxis_title='Dice Value',\n",
    "    yaxis_title='Probability (proportion)',\n",
    "    width=700\n",
    ")\n",
    "\n",
    "# Display the plot\n",
    "fig.show()"
   ]
  },
  {
   "cell_type": "markdown",
   "metadata": {},
   "source": [
    "### Probability Mass Function (PMF)\n",
    "- a function that gives the probability that a discrete random variable is exactly equal to some value\n",
    "- P(X=x)\n",
    "- theoretical is with ideal circumstances of a population not a sample"
   ]
  },
  {
   "cell_type": "code",
   "execution_count": 9,
   "metadata": {},
   "outputs": [
    {
     "data": {
      "application/vnd.plotly.v1+json": {
       "config": {
        "plotlyServerURL": "https://plot.ly"
       },
       "data": [
        {
         "type": "bar",
         "x": {
          "bdata": "AgMEBQYHCAkKCww=",
          "dtype": "i1"
         },
         "y": {
          "bdata": "HMdxHMdxnD8cx3Ecx3GsP1VVVVVVVbU/HMdxHMdxvD9yHMdxHMfBP1VVVVVVVcU/chzHcRzHwT8cx3Ecx3G8P1VVVVVVVbU/HMdxHMdxrD8cx3Ecx3GcPw==",
          "dtype": "f8"
         }
        }
       ],
       "layout": {
        "template": {
         "data": {
          "bar": [
           {
            "error_x": {
             "color": "#2a3f5f"
            },
            "error_y": {
             "color": "#2a3f5f"
            },
            "marker": {
             "line": {
              "color": "#E5ECF6",
              "width": 0.5
             },
             "pattern": {
              "fillmode": "overlay",
              "size": 10,
              "solidity": 0.2
             }
            },
            "type": "bar"
           }
          ],
          "barpolar": [
           {
            "marker": {
             "line": {
              "color": "#E5ECF6",
              "width": 0.5
             },
             "pattern": {
              "fillmode": "overlay",
              "size": 10,
              "solidity": 0.2
             }
            },
            "type": "barpolar"
           }
          ],
          "carpet": [
           {
            "aaxis": {
             "endlinecolor": "#2a3f5f",
             "gridcolor": "white",
             "linecolor": "white",
             "minorgridcolor": "white",
             "startlinecolor": "#2a3f5f"
            },
            "baxis": {
             "endlinecolor": "#2a3f5f",
             "gridcolor": "white",
             "linecolor": "white",
             "minorgridcolor": "white",
             "startlinecolor": "#2a3f5f"
            },
            "type": "carpet"
           }
          ],
          "choropleth": [
           {
            "colorbar": {
             "outlinewidth": 0,
             "ticks": ""
            },
            "type": "choropleth"
           }
          ],
          "contour": [
           {
            "colorbar": {
             "outlinewidth": 0,
             "ticks": ""
            },
            "colorscale": [
             [
              0,
              "#0d0887"
             ],
             [
              0.1111111111111111,
              "#46039f"
             ],
             [
              0.2222222222222222,
              "#7201a8"
             ],
             [
              0.3333333333333333,
              "#9c179e"
             ],
             [
              0.4444444444444444,
              "#bd3786"
             ],
             [
              0.5555555555555556,
              "#d8576b"
             ],
             [
              0.6666666666666666,
              "#ed7953"
             ],
             [
              0.7777777777777778,
              "#fb9f3a"
             ],
             [
              0.8888888888888888,
              "#fdca26"
             ],
             [
              1,
              "#f0f921"
             ]
            ],
            "type": "contour"
           }
          ],
          "contourcarpet": [
           {
            "colorbar": {
             "outlinewidth": 0,
             "ticks": ""
            },
            "type": "contourcarpet"
           }
          ],
          "heatmap": [
           {
            "colorbar": {
             "outlinewidth": 0,
             "ticks": ""
            },
            "colorscale": [
             [
              0,
              "#0d0887"
             ],
             [
              0.1111111111111111,
              "#46039f"
             ],
             [
              0.2222222222222222,
              "#7201a8"
             ],
             [
              0.3333333333333333,
              "#9c179e"
             ],
             [
              0.4444444444444444,
              "#bd3786"
             ],
             [
              0.5555555555555556,
              "#d8576b"
             ],
             [
              0.6666666666666666,
              "#ed7953"
             ],
             [
              0.7777777777777778,
              "#fb9f3a"
             ],
             [
              0.8888888888888888,
              "#fdca26"
             ],
             [
              1,
              "#f0f921"
             ]
            ],
            "type": "heatmap"
           }
          ],
          "histogram": [
           {
            "marker": {
             "pattern": {
              "fillmode": "overlay",
              "size": 10,
              "solidity": 0.2
             }
            },
            "type": "histogram"
           }
          ],
          "histogram2d": [
           {
            "colorbar": {
             "outlinewidth": 0,
             "ticks": ""
            },
            "colorscale": [
             [
              0,
              "#0d0887"
             ],
             [
              0.1111111111111111,
              "#46039f"
             ],
             [
              0.2222222222222222,
              "#7201a8"
             ],
             [
              0.3333333333333333,
              "#9c179e"
             ],
             [
              0.4444444444444444,
              "#bd3786"
             ],
             [
              0.5555555555555556,
              "#d8576b"
             ],
             [
              0.6666666666666666,
              "#ed7953"
             ],
             [
              0.7777777777777778,
              "#fb9f3a"
             ],
             [
              0.8888888888888888,
              "#fdca26"
             ],
             [
              1,
              "#f0f921"
             ]
            ],
            "type": "histogram2d"
           }
          ],
          "histogram2dcontour": [
           {
            "colorbar": {
             "outlinewidth": 0,
             "ticks": ""
            },
            "colorscale": [
             [
              0,
              "#0d0887"
             ],
             [
              0.1111111111111111,
              "#46039f"
             ],
             [
              0.2222222222222222,
              "#7201a8"
             ],
             [
              0.3333333333333333,
              "#9c179e"
             ],
             [
              0.4444444444444444,
              "#bd3786"
             ],
             [
              0.5555555555555556,
              "#d8576b"
             ],
             [
              0.6666666666666666,
              "#ed7953"
             ],
             [
              0.7777777777777778,
              "#fb9f3a"
             ],
             [
              0.8888888888888888,
              "#fdca26"
             ],
             [
              1,
              "#f0f921"
             ]
            ],
            "type": "histogram2dcontour"
           }
          ],
          "mesh3d": [
           {
            "colorbar": {
             "outlinewidth": 0,
             "ticks": ""
            },
            "type": "mesh3d"
           }
          ],
          "parcoords": [
           {
            "line": {
             "colorbar": {
              "outlinewidth": 0,
              "ticks": ""
             }
            },
            "type": "parcoords"
           }
          ],
          "pie": [
           {
            "automargin": true,
            "type": "pie"
           }
          ],
          "scatter": [
           {
            "fillpattern": {
             "fillmode": "overlay",
             "size": 10,
             "solidity": 0.2
            },
            "type": "scatter"
           }
          ],
          "scatter3d": [
           {
            "line": {
             "colorbar": {
              "outlinewidth": 0,
              "ticks": ""
             }
            },
            "marker": {
             "colorbar": {
              "outlinewidth": 0,
              "ticks": ""
             }
            },
            "type": "scatter3d"
           }
          ],
          "scattercarpet": [
           {
            "marker": {
             "colorbar": {
              "outlinewidth": 0,
              "ticks": ""
             }
            },
            "type": "scattercarpet"
           }
          ],
          "scattergeo": [
           {
            "marker": {
             "colorbar": {
              "outlinewidth": 0,
              "ticks": ""
             }
            },
            "type": "scattergeo"
           }
          ],
          "scattergl": [
           {
            "marker": {
             "colorbar": {
              "outlinewidth": 0,
              "ticks": ""
             }
            },
            "type": "scattergl"
           }
          ],
          "scattermap": [
           {
            "marker": {
             "colorbar": {
              "outlinewidth": 0,
              "ticks": ""
             }
            },
            "type": "scattermap"
           }
          ],
          "scattermapbox": [
           {
            "marker": {
             "colorbar": {
              "outlinewidth": 0,
              "ticks": ""
             }
            },
            "type": "scattermapbox"
           }
          ],
          "scatterpolar": [
           {
            "marker": {
             "colorbar": {
              "outlinewidth": 0,
              "ticks": ""
             }
            },
            "type": "scatterpolar"
           }
          ],
          "scatterpolargl": [
           {
            "marker": {
             "colorbar": {
              "outlinewidth": 0,
              "ticks": ""
             }
            },
            "type": "scatterpolargl"
           }
          ],
          "scatterternary": [
           {
            "marker": {
             "colorbar": {
              "outlinewidth": 0,
              "ticks": ""
             }
            },
            "type": "scatterternary"
           }
          ],
          "surface": [
           {
            "colorbar": {
             "outlinewidth": 0,
             "ticks": ""
            },
            "colorscale": [
             [
              0,
              "#0d0887"
             ],
             [
              0.1111111111111111,
              "#46039f"
             ],
             [
              0.2222222222222222,
              "#7201a8"
             ],
             [
              0.3333333333333333,
              "#9c179e"
             ],
             [
              0.4444444444444444,
              "#bd3786"
             ],
             [
              0.5555555555555556,
              "#d8576b"
             ],
             [
              0.6666666666666666,
              "#ed7953"
             ],
             [
              0.7777777777777778,
              "#fb9f3a"
             ],
             [
              0.8888888888888888,
              "#fdca26"
             ],
             [
              1,
              "#f0f921"
             ]
            ],
            "type": "surface"
           }
          ],
          "table": [
           {
            "cells": {
             "fill": {
              "color": "#EBF0F8"
             },
             "line": {
              "color": "white"
             }
            },
            "header": {
             "fill": {
              "color": "#C8D4E3"
             },
             "line": {
              "color": "white"
             }
            },
            "type": "table"
           }
          ]
         },
         "layout": {
          "annotationdefaults": {
           "arrowcolor": "#2a3f5f",
           "arrowhead": 0,
           "arrowwidth": 1
          },
          "autotypenumbers": "strict",
          "coloraxis": {
           "colorbar": {
            "outlinewidth": 0,
            "ticks": ""
           }
          },
          "colorscale": {
           "diverging": [
            [
             0,
             "#8e0152"
            ],
            [
             0.1,
             "#c51b7d"
            ],
            [
             0.2,
             "#de77ae"
            ],
            [
             0.3,
             "#f1b6da"
            ],
            [
             0.4,
             "#fde0ef"
            ],
            [
             0.5,
             "#f7f7f7"
            ],
            [
             0.6,
             "#e6f5d0"
            ],
            [
             0.7,
             "#b8e186"
            ],
            [
             0.8,
             "#7fbc41"
            ],
            [
             0.9,
             "#4d9221"
            ],
            [
             1,
             "#276419"
            ]
           ],
           "sequential": [
            [
             0,
             "#0d0887"
            ],
            [
             0.1111111111111111,
             "#46039f"
            ],
            [
             0.2222222222222222,
             "#7201a8"
            ],
            [
             0.3333333333333333,
             "#9c179e"
            ],
            [
             0.4444444444444444,
             "#bd3786"
            ],
            [
             0.5555555555555556,
             "#d8576b"
            ],
            [
             0.6666666666666666,
             "#ed7953"
            ],
            [
             0.7777777777777778,
             "#fb9f3a"
            ],
            [
             0.8888888888888888,
             "#fdca26"
            ],
            [
             1,
             "#f0f921"
            ]
           ],
           "sequentialminus": [
            [
             0,
             "#0d0887"
            ],
            [
             0.1111111111111111,
             "#46039f"
            ],
            [
             0.2222222222222222,
             "#7201a8"
            ],
            [
             0.3333333333333333,
             "#9c179e"
            ],
            [
             0.4444444444444444,
             "#bd3786"
            ],
            [
             0.5555555555555556,
             "#d8576b"
            ],
            [
             0.6666666666666666,
             "#ed7953"
            ],
            [
             0.7777777777777778,
             "#fb9f3a"
            ],
            [
             0.8888888888888888,
             "#fdca26"
            ],
            [
             1,
             "#f0f921"
            ]
           ]
          },
          "colorway": [
           "#636efa",
           "#EF553B",
           "#00cc96",
           "#ab63fa",
           "#FFA15A",
           "#19d3f3",
           "#FF6692",
           "#B6E880",
           "#FF97FF",
           "#FECB52"
          ],
          "font": {
           "color": "#2a3f5f"
          },
          "geo": {
           "bgcolor": "white",
           "lakecolor": "white",
           "landcolor": "#E5ECF6",
           "showlakes": true,
           "showland": true,
           "subunitcolor": "white"
          },
          "hoverlabel": {
           "align": "left"
          },
          "hovermode": "closest",
          "mapbox": {
           "style": "light"
          },
          "paper_bgcolor": "white",
          "plot_bgcolor": "#E5ECF6",
          "polar": {
           "angularaxis": {
            "gridcolor": "white",
            "linecolor": "white",
            "ticks": ""
           },
           "bgcolor": "#E5ECF6",
           "radialaxis": {
            "gridcolor": "white",
            "linecolor": "white",
            "ticks": ""
           }
          },
          "scene": {
           "xaxis": {
            "backgroundcolor": "#E5ECF6",
            "gridcolor": "white",
            "gridwidth": 2,
            "linecolor": "white",
            "showbackground": true,
            "ticks": "",
            "zerolinecolor": "white"
           },
           "yaxis": {
            "backgroundcolor": "#E5ECF6",
            "gridcolor": "white",
            "gridwidth": 2,
            "linecolor": "white",
            "showbackground": true,
            "ticks": "",
            "zerolinecolor": "white"
           },
           "zaxis": {
            "backgroundcolor": "#E5ECF6",
            "gridcolor": "white",
            "gridwidth": 2,
            "linecolor": "white",
            "showbackground": true,
            "ticks": "",
            "zerolinecolor": "white"
           }
          },
          "shapedefaults": {
           "line": {
            "color": "#2a3f5f"
           }
          },
          "ternary": {
           "aaxis": {
            "gridcolor": "white",
            "linecolor": "white",
            "ticks": ""
           },
           "baxis": {
            "gridcolor": "white",
            "linecolor": "white",
            "ticks": ""
           },
           "bgcolor": "#E5ECF6",
           "caxis": {
            "gridcolor": "white",
            "linecolor": "white",
            "ticks": ""
           }
          },
          "title": {
           "x": 0.05
          },
          "xaxis": {
           "automargin": true,
           "gridcolor": "white",
           "linecolor": "white",
           "ticks": "",
           "title": {
            "standoff": 15
           },
           "zerolinecolor": "white",
           "zerolinewidth": 2
          },
          "yaxis": {
           "automargin": true,
           "gridcolor": "white",
           "linecolor": "white",
           "ticks": "",
           "title": {
            "standoff": 15
           },
           "zerolinecolor": "white",
           "zerolinewidth": 2
          }
         }
        },
        "title": {
         "text": "Visualizing the PMF"
        },
        "width": 700,
        "xaxis": {
         "title": {
          "text": "Dice Value"
         }
        },
        "yaxis": {
         "title": {
          "text": "Probability (proportion)"
         }
        }
       }
      }
     },
     "metadata": {},
     "output_type": "display_data"
    }
   ],
   "source": [
    "# Create a bar chart of the value counts\n",
    "fig = graph_objects.Figure(\n",
    "    graph_objects.Bar(\n",
    "        x=numpy.arange(2,13),\n",
    "        y=numpy.array([1,2,3,4,5,6,5,4,3,2,1]) / 36\n",
    "    )\n",
    ")\n",
    "\n",
    "# Update the layout to improve readability\n",
    "fig.update_layout(\n",
    "    title='Visualizing the PMF',\n",
    "    xaxis_title='Dice Value',\n",
    "    yaxis_title='Probability (proportion)',\n",
    "    width=700\n",
    ")\n",
    "\n",
    "# Display the plot\n",
    "fig.show()"
   ]
  },
  {
   "cell_type": "code",
   "execution_count": 10,
   "metadata": {},
   "outputs": [
    {
     "data": {
      "application/vnd.plotly.v1+json": {
       "config": {
        "plotlyServerURL": "https://plot.ly"
       },
       "data": [
        {
         "marker": {
          "color": [
           "lightslategray",
           "lightslategray",
           "lightslategray",
           "lightslategray",
           "lightslategray",
           "lightslategray",
           "lightslategray",
           "lightslategray",
           "crimson",
           "crimson",
           "crimson"
          ]
         },
         "type": "bar",
         "x": {
          "bdata": "AgMEBQYHCAkKCww=",
          "dtype": "i1"
         },
         "y": {
          "bdata": "HMdxHMdxnD8cx3Ecx3GsP1VVVVVVVbU/HMdxHMdxvD9yHMdxHMfBP1VVVVVVVcU/chzHcRzHwT8cx3Ecx3G8P1VVVVVVVbU/HMdxHMdxrD8cx3Ecx3GcPw==",
          "dtype": "f8"
         }
        }
       ],
       "layout": {
        "template": {
         "data": {
          "bar": [
           {
            "error_x": {
             "color": "#2a3f5f"
            },
            "error_y": {
             "color": "#2a3f5f"
            },
            "marker": {
             "line": {
              "color": "#E5ECF6",
              "width": 0.5
             },
             "pattern": {
              "fillmode": "overlay",
              "size": 10,
              "solidity": 0.2
             }
            },
            "type": "bar"
           }
          ],
          "barpolar": [
           {
            "marker": {
             "line": {
              "color": "#E5ECF6",
              "width": 0.5
             },
             "pattern": {
              "fillmode": "overlay",
              "size": 10,
              "solidity": 0.2
             }
            },
            "type": "barpolar"
           }
          ],
          "carpet": [
           {
            "aaxis": {
             "endlinecolor": "#2a3f5f",
             "gridcolor": "white",
             "linecolor": "white",
             "minorgridcolor": "white",
             "startlinecolor": "#2a3f5f"
            },
            "baxis": {
             "endlinecolor": "#2a3f5f",
             "gridcolor": "white",
             "linecolor": "white",
             "minorgridcolor": "white",
             "startlinecolor": "#2a3f5f"
            },
            "type": "carpet"
           }
          ],
          "choropleth": [
           {
            "colorbar": {
             "outlinewidth": 0,
             "ticks": ""
            },
            "type": "choropleth"
           }
          ],
          "contour": [
           {
            "colorbar": {
             "outlinewidth": 0,
             "ticks": ""
            },
            "colorscale": [
             [
              0,
              "#0d0887"
             ],
             [
              0.1111111111111111,
              "#46039f"
             ],
             [
              0.2222222222222222,
              "#7201a8"
             ],
             [
              0.3333333333333333,
              "#9c179e"
             ],
             [
              0.4444444444444444,
              "#bd3786"
             ],
             [
              0.5555555555555556,
              "#d8576b"
             ],
             [
              0.6666666666666666,
              "#ed7953"
             ],
             [
              0.7777777777777778,
              "#fb9f3a"
             ],
             [
              0.8888888888888888,
              "#fdca26"
             ],
             [
              1,
              "#f0f921"
             ]
            ],
            "type": "contour"
           }
          ],
          "contourcarpet": [
           {
            "colorbar": {
             "outlinewidth": 0,
             "ticks": ""
            },
            "type": "contourcarpet"
           }
          ],
          "heatmap": [
           {
            "colorbar": {
             "outlinewidth": 0,
             "ticks": ""
            },
            "colorscale": [
             [
              0,
              "#0d0887"
             ],
             [
              0.1111111111111111,
              "#46039f"
             ],
             [
              0.2222222222222222,
              "#7201a8"
             ],
             [
              0.3333333333333333,
              "#9c179e"
             ],
             [
              0.4444444444444444,
              "#bd3786"
             ],
             [
              0.5555555555555556,
              "#d8576b"
             ],
             [
              0.6666666666666666,
              "#ed7953"
             ],
             [
              0.7777777777777778,
              "#fb9f3a"
             ],
             [
              0.8888888888888888,
              "#fdca26"
             ],
             [
              1,
              "#f0f921"
             ]
            ],
            "type": "heatmap"
           }
          ],
          "histogram": [
           {
            "marker": {
             "pattern": {
              "fillmode": "overlay",
              "size": 10,
              "solidity": 0.2
             }
            },
            "type": "histogram"
           }
          ],
          "histogram2d": [
           {
            "colorbar": {
             "outlinewidth": 0,
             "ticks": ""
            },
            "colorscale": [
             [
              0,
              "#0d0887"
             ],
             [
              0.1111111111111111,
              "#46039f"
             ],
             [
              0.2222222222222222,
              "#7201a8"
             ],
             [
              0.3333333333333333,
              "#9c179e"
             ],
             [
              0.4444444444444444,
              "#bd3786"
             ],
             [
              0.5555555555555556,
              "#d8576b"
             ],
             [
              0.6666666666666666,
              "#ed7953"
             ],
             [
              0.7777777777777778,
              "#fb9f3a"
             ],
             [
              0.8888888888888888,
              "#fdca26"
             ],
             [
              1,
              "#f0f921"
             ]
            ],
            "type": "histogram2d"
           }
          ],
          "histogram2dcontour": [
           {
            "colorbar": {
             "outlinewidth": 0,
             "ticks": ""
            },
            "colorscale": [
             [
              0,
              "#0d0887"
             ],
             [
              0.1111111111111111,
              "#46039f"
             ],
             [
              0.2222222222222222,
              "#7201a8"
             ],
             [
              0.3333333333333333,
              "#9c179e"
             ],
             [
              0.4444444444444444,
              "#bd3786"
             ],
             [
              0.5555555555555556,
              "#d8576b"
             ],
             [
              0.6666666666666666,
              "#ed7953"
             ],
             [
              0.7777777777777778,
              "#fb9f3a"
             ],
             [
              0.8888888888888888,
              "#fdca26"
             ],
             [
              1,
              "#f0f921"
             ]
            ],
            "type": "histogram2dcontour"
           }
          ],
          "mesh3d": [
           {
            "colorbar": {
             "outlinewidth": 0,
             "ticks": ""
            },
            "type": "mesh3d"
           }
          ],
          "parcoords": [
           {
            "line": {
             "colorbar": {
              "outlinewidth": 0,
              "ticks": ""
             }
            },
            "type": "parcoords"
           }
          ],
          "pie": [
           {
            "automargin": true,
            "type": "pie"
           }
          ],
          "scatter": [
           {
            "fillpattern": {
             "fillmode": "overlay",
             "size": 10,
             "solidity": 0.2
            },
            "type": "scatter"
           }
          ],
          "scatter3d": [
           {
            "line": {
             "colorbar": {
              "outlinewidth": 0,
              "ticks": ""
             }
            },
            "marker": {
             "colorbar": {
              "outlinewidth": 0,
              "ticks": ""
             }
            },
            "type": "scatter3d"
           }
          ],
          "scattercarpet": [
           {
            "marker": {
             "colorbar": {
              "outlinewidth": 0,
              "ticks": ""
             }
            },
            "type": "scattercarpet"
           }
          ],
          "scattergeo": [
           {
            "marker": {
             "colorbar": {
              "outlinewidth": 0,
              "ticks": ""
             }
            },
            "type": "scattergeo"
           }
          ],
          "scattergl": [
           {
            "marker": {
             "colorbar": {
              "outlinewidth": 0,
              "ticks": ""
             }
            },
            "type": "scattergl"
           }
          ],
          "scattermap": [
           {
            "marker": {
             "colorbar": {
              "outlinewidth": 0,
              "ticks": ""
             }
            },
            "type": "scattermap"
           }
          ],
          "scattermapbox": [
           {
            "marker": {
             "colorbar": {
              "outlinewidth": 0,
              "ticks": ""
             }
            },
            "type": "scattermapbox"
           }
          ],
          "scatterpolar": [
           {
            "marker": {
             "colorbar": {
              "outlinewidth": 0,
              "ticks": ""
             }
            },
            "type": "scatterpolar"
           }
          ],
          "scatterpolargl": [
           {
            "marker": {
             "colorbar": {
              "outlinewidth": 0,
              "ticks": ""
             }
            },
            "type": "scatterpolargl"
           }
          ],
          "scatterternary": [
           {
            "marker": {
             "colorbar": {
              "outlinewidth": 0,
              "ticks": ""
             }
            },
            "type": "scatterternary"
           }
          ],
          "surface": [
           {
            "colorbar": {
             "outlinewidth": 0,
             "ticks": ""
            },
            "colorscale": [
             [
              0,
              "#0d0887"
             ],
             [
              0.1111111111111111,
              "#46039f"
             ],
             [
              0.2222222222222222,
              "#7201a8"
             ],
             [
              0.3333333333333333,
              "#9c179e"
             ],
             [
              0.4444444444444444,
              "#bd3786"
             ],
             [
              0.5555555555555556,
              "#d8576b"
             ],
             [
              0.6666666666666666,
              "#ed7953"
             ],
             [
              0.7777777777777778,
              "#fb9f3a"
             ],
             [
              0.8888888888888888,
              "#fdca26"
             ],
             [
              1,
              "#f0f921"
             ]
            ],
            "type": "surface"
           }
          ],
          "table": [
           {
            "cells": {
             "fill": {
              "color": "#EBF0F8"
             },
             "line": {
              "color": "white"
             }
            },
            "header": {
             "fill": {
              "color": "#C8D4E3"
             },
             "line": {
              "color": "white"
             }
            },
            "type": "table"
           }
          ]
         },
         "layout": {
          "annotationdefaults": {
           "arrowcolor": "#2a3f5f",
           "arrowhead": 0,
           "arrowwidth": 1
          },
          "autotypenumbers": "strict",
          "coloraxis": {
           "colorbar": {
            "outlinewidth": 0,
            "ticks": ""
           }
          },
          "colorscale": {
           "diverging": [
            [
             0,
             "#8e0152"
            ],
            [
             0.1,
             "#c51b7d"
            ],
            [
             0.2,
             "#de77ae"
            ],
            [
             0.3,
             "#f1b6da"
            ],
            [
             0.4,
             "#fde0ef"
            ],
            [
             0.5,
             "#f7f7f7"
            ],
            [
             0.6,
             "#e6f5d0"
            ],
            [
             0.7,
             "#b8e186"
            ],
            [
             0.8,
             "#7fbc41"
            ],
            [
             0.9,
             "#4d9221"
            ],
            [
             1,
             "#276419"
            ]
           ],
           "sequential": [
            [
             0,
             "#0d0887"
            ],
            [
             0.1111111111111111,
             "#46039f"
            ],
            [
             0.2222222222222222,
             "#7201a8"
            ],
            [
             0.3333333333333333,
             "#9c179e"
            ],
            [
             0.4444444444444444,
             "#bd3786"
            ],
            [
             0.5555555555555556,
             "#d8576b"
            ],
            [
             0.6666666666666666,
             "#ed7953"
            ],
            [
             0.7777777777777778,
             "#fb9f3a"
            ],
            [
             0.8888888888888888,
             "#fdca26"
            ],
            [
             1,
             "#f0f921"
            ]
           ],
           "sequentialminus": [
            [
             0,
             "#0d0887"
            ],
            [
             0.1111111111111111,
             "#46039f"
            ],
            [
             0.2222222222222222,
             "#7201a8"
            ],
            [
             0.3333333333333333,
             "#9c179e"
            ],
            [
             0.4444444444444444,
             "#bd3786"
            ],
            [
             0.5555555555555556,
             "#d8576b"
            ],
            [
             0.6666666666666666,
             "#ed7953"
            ],
            [
             0.7777777777777778,
             "#fb9f3a"
            ],
            [
             0.8888888888888888,
             "#fdca26"
            ],
            [
             1,
             "#f0f921"
            ]
           ]
          },
          "colorway": [
           "#636efa",
           "#EF553B",
           "#00cc96",
           "#ab63fa",
           "#FFA15A",
           "#19d3f3",
           "#FF6692",
           "#B6E880",
           "#FF97FF",
           "#FECB52"
          ],
          "font": {
           "color": "#2a3f5f"
          },
          "geo": {
           "bgcolor": "white",
           "lakecolor": "white",
           "landcolor": "#E5ECF6",
           "showlakes": true,
           "showland": true,
           "subunitcolor": "white"
          },
          "hoverlabel": {
           "align": "left"
          },
          "hovermode": "closest",
          "mapbox": {
           "style": "light"
          },
          "paper_bgcolor": "white",
          "plot_bgcolor": "#E5ECF6",
          "polar": {
           "angularaxis": {
            "gridcolor": "white",
            "linecolor": "white",
            "ticks": ""
           },
           "bgcolor": "#E5ECF6",
           "radialaxis": {
            "gridcolor": "white",
            "linecolor": "white",
            "ticks": ""
           }
          },
          "scene": {
           "xaxis": {
            "backgroundcolor": "#E5ECF6",
            "gridcolor": "white",
            "gridwidth": 2,
            "linecolor": "white",
            "showbackground": true,
            "ticks": "",
            "zerolinecolor": "white"
           },
           "yaxis": {
            "backgroundcolor": "#E5ECF6",
            "gridcolor": "white",
            "gridwidth": 2,
            "linecolor": "white",
            "showbackground": true,
            "ticks": "",
            "zerolinecolor": "white"
           },
           "zaxis": {
            "backgroundcolor": "#E5ECF6",
            "gridcolor": "white",
            "gridwidth": 2,
            "linecolor": "white",
            "showbackground": true,
            "ticks": "",
            "zerolinecolor": "white"
           }
          },
          "shapedefaults": {
           "line": {
            "color": "#2a3f5f"
           }
          },
          "ternary": {
           "aaxis": {
            "gridcolor": "white",
            "linecolor": "white",
            "ticks": ""
           },
           "baxis": {
            "gridcolor": "white",
            "linecolor": "white",
            "ticks": ""
           },
           "bgcolor": "#E5ECF6",
           "caxis": {
            "gridcolor": "white",
            "linecolor": "white",
            "ticks": ""
           }
          },
          "title": {
           "x": 0.05
          },
          "xaxis": {
           "automargin": true,
           "gridcolor": "white",
           "linecolor": "white",
           "ticks": "",
           "title": {
            "standoff": 15
           },
           "zerolinecolor": "white",
           "zerolinewidth": 2
          },
          "yaxis": {
           "automargin": true,
           "gridcolor": "white",
           "linecolor": "white",
           "ticks": "",
           "title": {
            "standoff": 15
           },
           "zerolinecolor": "white",
           "zerolinewidth": 2
          }
         }
        },
        "title": {
         "text": "Probability of rolling a 10 or more (red)"
        },
        "width": 700,
        "xaxis": {
         "title": {
          "text": "Dice Value"
         }
        },
        "yaxis": {
         "title": {
          "text": "Probability (proportion)"
         }
        }
       }
      }
     },
     "metadata": {},
     "output_type": "display_data"
    }
   ],
   "source": [
    "# Generate bar colors\n",
    "colors = ['lightslategray',] * 11\n",
    "colors[8] = 'crimson'\n",
    "colors[9] = 'crimson'\n",
    "colors[10] = 'crimson'\n",
    "\n",
    "\n",
    "# Create a bar chart of the value counts\n",
    "fig = graph_objects.Figure(\n",
    "    graph_objects.Bar(\n",
    "        x=numpy.arange(2,13),\n",
    "        y=numpy.array([1,2,3,4,5,6,5,4,3,2,1]) / 36,\n",
    "        marker_color=colors\n",
    "    )\n",
    ")\n",
    "\n",
    "# Update the layout to improve readability\n",
    "fig.update_layout(\n",
    "    title='Probability of rolling a 10 or more (red)',\n",
    "    xaxis_title='Dice Value',\n",
    "    yaxis_title='Probability (proportion)',\n",
    "    width=700\n",
    ")\n",
    "\n",
    "# Display the plot\n",
    "fig.show()"
   ]
  },
  {
   "cell_type": "markdown",
   "metadata": {},
   "source": [
    "### Continuous random variables\n"
   ]
  },
  {
   "cell_type": "code",
   "execution_count": null,
   "metadata": {},
   "outputs": [],
   "source": []
  },
  {
   "cell_type": "markdown",
   "metadata": {},
   "source": [
    "- Probability Density Function (PDF)\n",
    "    - PDF is denoted by f(x) and is defined as P(a≤X≤b), where a and b are real numbers. The PDF is the area under the curve of the PDF between a and b."
   ]
  },
  {
   "cell_type": "code",
   "execution_count": 11,
   "metadata": {},
   "outputs": [
    {
     "data": {
      "application/vnd.plotly.v1+json": {
       "config": {
        "plotlyServerURL": "https://plot.ly"
       },
       "data": [
        {
         "legendgroup": "Values",
         "marker": {
          "color": "rgb(31, 119, 180)"
         },
         "mode": "lines",
         "name": "Values",
         "showlegend": true,
         "type": "scatter",
         "x": [
          57.41290622025573,
          57.57801246058677,
          57.743118700917805,
          57.90822494124885,
          58.07333118157989,
          58.23843742191092,
          58.403543662241965,
          58.56864990257301,
          58.73375614290404,
          58.898862383235084,
          59.063968623566126,
          59.22907486389716,
          59.3941811042282,
          59.559287344559245,
          59.72439358489028,
          59.88949982522132,
          60.05460606555236,
          60.2197123058834,
          60.38481854621444,
          60.54992478654548,
          60.71503102687652,
          60.88013726720756,
          61.0452435075386,
          61.210349747869635,
          61.37545598820068,
          61.54056222853172,
          61.705668468862754,
          61.870774709193796,
          62.03588094952484,
          62.20098718985588,
          62.366093430186915,
          62.53119967051796,
          62.69630591084899,
          62.86141215118003,
          63.026518391511075,
          63.19162463184212,
          63.35673087217315,
          63.521837112504194,
          63.68694335283523,
          63.85204959316627,
          64.01715583349731,
          64.18226207382835,
          64.3473683141594,
          64.51247455449042,
          64.67758079482147,
          64.84268703515251,
          65.00779327548355,
          65.17289951581459,
          65.33800575614563,
          65.50311199647666,
          65.6682182368077,
          65.83332447713875,
          65.99843071746979,
          66.16353695780083,
          66.32864319813187,
          66.4937494384629,
          66.65885567879394,
          66.82396191912498,
          66.98906815945602,
          67.15417439978707,
          67.31928064011811,
          67.48438688044914,
          67.64949312078018,
          67.81459936111122,
          67.97970560144226,
          68.1448118417733,
          68.30991808210435,
          68.47502432243539,
          68.64013056276642,
          68.80523680309746,
          68.9703430434285,
          69.13544928375954,
          69.30055552409058,
          69.46566176442163,
          69.63076800475265,
          69.7958742450837,
          69.96098048541474,
          70.12608672574578,
          70.29119296607682,
          70.45629920640786,
          70.62140544673889,
          70.78651168706993,
          70.95161792740097,
          71.11672416773202,
          71.28183040806306,
          71.4469366483941,
          71.61204288872513,
          71.77714912905617,
          71.94225536938721,
          72.10736160971825,
          72.2724678500493,
          72.43757409038034,
          72.60268033071137,
          72.76778657104241,
          72.93289281137345,
          73.09799905170449,
          73.26310529203553,
          73.42821153236656,
          73.59331777269762,
          73.75842401302864,
          73.92353025335969,
          74.08863649369073,
          74.25374273402177,
          74.41884897435281,
          74.58395521468384,
          74.74906145501488,
          74.91416769534592,
          75.07927393567697,
          75.24438017600801,
          75.40948641633904,
          75.57459265667008,
          75.73969889700112,
          75.90480513733216,
          76.0699113776632,
          76.23501761799425,
          76.40012385832529,
          76.56523009865631,
          76.73033633898736,
          76.8954425793184,
          77.06054881964944,
          77.22565505998048,
          77.39076130031152,
          77.55586754064257,
          77.7209737809736,
          77.88608002130464,
          78.05118626163568,
          78.21629250196672,
          78.38139874229776,
          78.54650498262879,
          78.71161122295983,
          78.87671746329087,
          79.04182370362192,
          79.20692994395296,
          79.372036184284,
          79.53714242461504,
          79.70224866494607,
          79.86735490527711,
          80.03246114560815,
          80.1975673859392,
          80.36267362627024,
          80.52777986660126,
          80.69288610693232,
          80.85799234726335,
          81.02309858759439,
          81.18820482792543,
          81.35331106825646,
          81.51841730858752,
          81.68352354891854,
          81.84862978924959,
          82.01373602958063,
          82.17884226991167,
          82.34394851024271,
          82.50905475057374,
          82.6741609909048,
          82.83926723123582,
          83.00437347156686,
          83.1694797118979,
          83.33458595222895,
          83.49969219255999,
          83.66479843289102,
          83.82990467322206,
          83.9950109135531,
          84.16011715388414,
          84.32522339421519,
          84.49032963454621,
          84.65543587487727,
          84.8205421152083,
          84.98564835553934,
          85.15075459587038,
          85.31586083620142,
          85.48096707653247,
          85.6460733168635,
          85.81117955719454,
          85.97628579752558,
          86.14139203785662,
          86.30649827818766,
          86.4716045185187,
          86.63671075884974,
          86.80181699918077,
          86.96692323951181,
          87.13202947984286,
          87.2971357201739,
          87.46224196050494,
          87.62734820083597,
          87.79245444116701,
          87.95756068149805,
          88.1226669218291,
          88.28777316216014,
          88.45287940249116,
          88.61798564282222,
          88.78309188315325,
          88.94819812348429,
          89.11330436381533,
          89.27841060414637,
          89.44351684447741,
          89.60862308480844,
          89.7737293251395,
          89.93883556547053,
          90.10394180580157,
          90.26904804613261,
          90.43415428646364,
          90.5992605267947,
          90.76436676712572,
          90.92947300745676,
          91.0945792477878,
          91.25968548811883,
          91.42479172844989,
          91.58989796878093,
          91.75500420911197,
          91.920110449443,
          92.08521668977404,
          92.25032293010509,
          92.41542917043613,
          92.58053541076717,
          92.7456416510982,
          92.91074789142924,
          93.07585413176028,
          93.24096037209132,
          93.40606661242236,
          93.57117285275339,
          93.73627909308443,
          93.90138533341548,
          94.06649157374653,
          94.23159781407756,
          94.3967040544086,
          94.56181029473964,
          94.72691653507067,
          94.89202277540173,
          95.05712901573276,
          95.2222352560638,
          95.38734149639484,
          95.55244773672587,
          95.71755397705692,
          95.88266021738795,
          96.04776645771899,
          96.21287269805003,
          96.37797893838108,
          96.54308517871212,
          96.70819141904315,
          96.8732976593742,
          97.03840389970523,
          97.20351014003627,
          97.36861638036731,
          97.53372262069834,
          97.6988288610294,
          97.86393510136043,
          98.02904134169147,
          98.19414758202251,
          98.35925382235354,
          98.5243600626846,
          98.68946630301562,
          98.85457254334668,
          99.0196787836777,
          99.18478502400875,
          99.34989126433979,
          99.51499750467082,
          99.68010374500187,
          99.8452099853329,
          100.01031622566394,
          100.17542246599498,
          100.34052870632601,
          100.50563494665707,
          100.6707411869881,
          100.83584742731915,
          101.00095366765018,
          101.16605990798122,
          101.33116614831226,
          101.4962723886433,
          101.66137862897435,
          101.82648486930538,
          101.99159110963642,
          102.15669734996746,
          102.3218035902985,
          102.48690983062954,
          102.65201607096057,
          102.81712231129161,
          102.98222855162265,
          103.14733479195371,
          103.31244103228474,
          103.47754727261578,
          103.64265351294682,
          103.80775975327785,
          103.9728659936089,
          104.13797223393993,
          104.30307847427098,
          104.46818471460202,
          104.63329095493305,
          104.7983971952641,
          104.96350343559513,
          105.12860967592617,
          105.29371591625721,
          105.45882215658824,
          105.6239283969193,
          105.78903463725032,
          105.95414087758138,
          106.11924711791241,
          106.28435335824345,
          106.44945959857449,
          106.61456583890552,
          106.77967207923658,
          106.9447783195676,
          107.10988455989865,
          107.27499080022969,
          107.44009704056072,
          107.60520328089177,
          107.7703095212228,
          107.93541576155386,
          108.10052200188488,
          108.26562824221593,
          108.43073448254697,
          108.595840722878,
          108.76094696320905,
          108.92605320354008,
          109.09115944387112,
          109.25626568420216,
          109.42137192453319,
          109.58647816486425,
          109.75158440519527,
          109.91669064552632,
          110.08179688585736,
          110.2469031261884,
          110.41200936651944,
          110.57711560685048,
          110.74222184718153,
          110.90732808751255,
          111.07243432784361,
          111.23754056817464,
          111.40264680850568,
          111.56775304883672,
          111.73285928916775,
          111.8979655294988,
          112.06307176982983,
          112.22817801016087,
          112.39328425049192,
          112.55839049082296,
          112.723496731154,
          112.88860297148503,
          113.05370921181608,
          113.21881545214711,
          113.38392169247815,
          113.5490279328092,
          113.71413417314022,
          113.87924041347128,
          114.04434665380231,
          114.20945289413335,
          114.37455913446439,
          114.53966537479542,
          114.70477161512648,
          114.8698778554575,
          115.03498409578856,
          115.20009033611959,
          115.36519657645063,
          115.53030281678167,
          115.6954090571127,
          115.86051529744375,
          116.02562153777478,
          116.19072777810582,
          116.35583401843687,
          116.5209402587679,
          116.68604649909895,
          116.85115273942998,
          117.01625897976102,
          117.18136522009206,
          117.3464714604231,
          117.51157770075415,
          117.67668394108519,
          117.84179018141623,
          118.00689642174726,
          118.1720026620783,
          118.33710890240934,
          118.50221514274038,
          118.66732138307142,
          118.83242762340245,
          118.9975338637335,
          119.16264010406454,
          119.32774634439558,
          119.49285258472662,
          119.65795882505766,
          119.8230650653887,
          119.98817130571973,
          120.15327754605079,
          120.31838378638182,
          120.48349002671286,
          120.6485962670439,
          120.81370250737493,
          120.97880874770598,
          121.14391498803701,
          121.30902122836805,
          121.4741274686991,
          121.63923370903012,
          121.80433994936118,
          121.9694461896922,
          122.13455243002326,
          122.29965867035429,
          122.46476491068532,
          122.62987115101637,
          122.7949773913474,
          122.96008363167843,
          123.12518987200949,
          123.29029611234054,
          123.45540235267157,
          123.62050859300263,
          123.78561483333365,
          123.95072107366468,
          124.11582731399574,
          124.28093355432677,
          124.44603979465779,
          124.61114603498885,
          124.77625227531988,
          124.94135851565093,
          125.10646475598196,
          125.27157099631302,
          125.43667723664404,
          125.60178347697507,
          125.76688971730613,
          125.93199595763716,
          126.09710219796821,
          126.26220843829924,
          126.4273146786303,
          126.59242091896132,
          126.75752715929235,
          126.92263339962341,
          127.08773963995444,
          127.25284588028546,
          127.41795212061652,
          127.58305836094755,
          127.7481646012786,
          127.91327084160963,
          128.0783770819407,
          128.24348332227171,
          128.40858956260274,
          128.5736958029338,
          128.73880204326483,
          128.90390828359588,
          129.0690145239269,
          129.23412076425797,
          129.399227004589,
          129.56433324492002,
          129.72943948525108,
          129.8945457255821,
          130.05965196591313,
          130.2247582062442,
          130.38986444657525,
          130.55497068690627,
          130.72007692723733,
          130.88518316756836,
          131.05028940789938,
          131.2153956482304,
          131.38050188856147,
          131.5456081288925,
          131.71071436922355,
          131.87582060955458,
          132.04092684988564,
          132.20603309021666,
          132.37113933054772,
          132.53624557087875,
          132.70135181120978,
          132.86645805154083,
          133.03156429187186,
          133.19667053220292,
          133.36177677253394,
          133.526883012865,
          133.69198925319603,
          133.85709549352705,
          134.0222017338581,
          134.18730797418914,
          134.35241421452017,
          134.51752045485122,
          134.68262669518225,
          134.8477329355133,
          135.01283917584433,
          135.1779454161754,
          135.34305165650642,
          135.50815789683745,
          135.6732641371685,
          135.83837037749953,
          136.0034766178306,
          136.1685828581616,
          136.33368909849267,
          136.4987953388237,
          136.66390157915473,
          136.82900781948578,
          136.9941140598168,
          137.15922030014787,
          137.3243265404789,
          137.48943278080995,
          137.65453902114098,
          137.819645261472,
          137.98475150180306,
          138.1498577421341,
          138.31496398246512,
          138.48007022279617,
          138.6451764631272,
          138.81028270345826,
          138.97538894378928,
          139.14049518412034,
          139.30560142445137,
          139.4707076647824,
          139.63581390511345,
          139.80092014544448
         ],
         "xaxis": "x",
         "y": {
          "bdata": "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",
          "dtype": "f8"
         },
         "yaxis": "y"
        }
       ],
       "layout": {
        "barmode": "overlay",
        "hovermode": "closest",
        "legend": {
         "traceorder": "reversed"
        },
        "template": {
         "data": {
          "bar": [
           {
            "error_x": {
             "color": "#2a3f5f"
            },
            "error_y": {
             "color": "#2a3f5f"
            },
            "marker": {
             "line": {
              "color": "#E5ECF6",
              "width": 0.5
             },
             "pattern": {
              "fillmode": "overlay",
              "size": 10,
              "solidity": 0.2
             }
            },
            "type": "bar"
           }
          ],
          "barpolar": [
           {
            "marker": {
             "line": {
              "color": "#E5ECF6",
              "width": 0.5
             },
             "pattern": {
              "fillmode": "overlay",
              "size": 10,
              "solidity": 0.2
             }
            },
            "type": "barpolar"
           }
          ],
          "carpet": [
           {
            "aaxis": {
             "endlinecolor": "#2a3f5f",
             "gridcolor": "white",
             "linecolor": "white",
             "minorgridcolor": "white",
             "startlinecolor": "#2a3f5f"
            },
            "baxis": {
             "endlinecolor": "#2a3f5f",
             "gridcolor": "white",
             "linecolor": "white",
             "minorgridcolor": "white",
             "startlinecolor": "#2a3f5f"
            },
            "type": "carpet"
           }
          ],
          "choropleth": [
           {
            "colorbar": {
             "outlinewidth": 0,
             "ticks": ""
            },
            "type": "choropleth"
           }
          ],
          "contour": [
           {
            "colorbar": {
             "outlinewidth": 0,
             "ticks": ""
            },
            "colorscale": [
             [
              0,
              "#0d0887"
             ],
             [
              0.1111111111111111,
              "#46039f"
             ],
             [
              0.2222222222222222,
              "#7201a8"
             ],
             [
              0.3333333333333333,
              "#9c179e"
             ],
             [
              0.4444444444444444,
              "#bd3786"
             ],
             [
              0.5555555555555556,
              "#d8576b"
             ],
             [
              0.6666666666666666,
              "#ed7953"
             ],
             [
              0.7777777777777778,
              "#fb9f3a"
             ],
             [
              0.8888888888888888,
              "#fdca26"
             ],
             [
              1,
              "#f0f921"
             ]
            ],
            "type": "contour"
           }
          ],
          "contourcarpet": [
           {
            "colorbar": {
             "outlinewidth": 0,
             "ticks": ""
            },
            "type": "contourcarpet"
           }
          ],
          "heatmap": [
           {
            "colorbar": {
             "outlinewidth": 0,
             "ticks": ""
            },
            "colorscale": [
             [
              0,
              "#0d0887"
             ],
             [
              0.1111111111111111,
              "#46039f"
             ],
             [
              0.2222222222222222,
              "#7201a8"
             ],
             [
              0.3333333333333333,
              "#9c179e"
             ],
             [
              0.4444444444444444,
              "#bd3786"
             ],
             [
              0.5555555555555556,
              "#d8576b"
             ],
             [
              0.6666666666666666,
              "#ed7953"
             ],
             [
              0.7777777777777778,
              "#fb9f3a"
             ],
             [
              0.8888888888888888,
              "#fdca26"
             ],
             [
              1,
              "#f0f921"
             ]
            ],
            "type": "heatmap"
           }
          ],
          "histogram": [
           {
            "marker": {
             "pattern": {
              "fillmode": "overlay",
              "size": 10,
              "solidity": 0.2
             }
            },
            "type": "histogram"
           }
          ],
          "histogram2d": [
           {
            "colorbar": {
             "outlinewidth": 0,
             "ticks": ""
            },
            "colorscale": [
             [
              0,
              "#0d0887"
             ],
             [
              0.1111111111111111,
              "#46039f"
             ],
             [
              0.2222222222222222,
              "#7201a8"
             ],
             [
              0.3333333333333333,
              "#9c179e"
             ],
             [
              0.4444444444444444,
              "#bd3786"
             ],
             [
              0.5555555555555556,
              "#d8576b"
             ],
             [
              0.6666666666666666,
              "#ed7953"
             ],
             [
              0.7777777777777778,
              "#fb9f3a"
             ],
             [
              0.8888888888888888,
              "#fdca26"
             ],
             [
              1,
              "#f0f921"
             ]
            ],
            "type": "histogram2d"
           }
          ],
          "histogram2dcontour": [
           {
            "colorbar": {
             "outlinewidth": 0,
             "ticks": ""
            },
            "colorscale": [
             [
              0,
              "#0d0887"
             ],
             [
              0.1111111111111111,
              "#46039f"
             ],
             [
              0.2222222222222222,
              "#7201a8"
             ],
             [
              0.3333333333333333,
              "#9c179e"
             ],
             [
              0.4444444444444444,
              "#bd3786"
             ],
             [
              0.5555555555555556,
              "#d8576b"
             ],
             [
              0.6666666666666666,
              "#ed7953"
             ],
             [
              0.7777777777777778,
              "#fb9f3a"
             ],
             [
              0.8888888888888888,
              "#fdca26"
             ],
             [
              1,
              "#f0f921"
             ]
            ],
            "type": "histogram2dcontour"
           }
          ],
          "mesh3d": [
           {
            "colorbar": {
             "outlinewidth": 0,
             "ticks": ""
            },
            "type": "mesh3d"
           }
          ],
          "parcoords": [
           {
            "line": {
             "colorbar": {
              "outlinewidth": 0,
              "ticks": ""
             }
            },
            "type": "parcoords"
           }
          ],
          "pie": [
           {
            "automargin": true,
            "type": "pie"
           }
          ],
          "scatter": [
           {
            "fillpattern": {
             "fillmode": "overlay",
             "size": 10,
             "solidity": 0.2
            },
            "type": "scatter"
           }
          ],
          "scatter3d": [
           {
            "line": {
             "colorbar": {
              "outlinewidth": 0,
              "ticks": ""
             }
            },
            "marker": {
             "colorbar": {
              "outlinewidth": 0,
              "ticks": ""
             }
            },
            "type": "scatter3d"
           }
          ],
          "scattercarpet": [
           {
            "marker": {
             "colorbar": {
              "outlinewidth": 0,
              "ticks": ""
             }
            },
            "type": "scattercarpet"
           }
          ],
          "scattergeo": [
           {
            "marker": {
             "colorbar": {
              "outlinewidth": 0,
              "ticks": ""
             }
            },
            "type": "scattergeo"
           }
          ],
          "scattergl": [
           {
            "marker": {
             "colorbar": {
              "outlinewidth": 0,
              "ticks": ""
             }
            },
            "type": "scattergl"
           }
          ],
          "scattermap": [
           {
            "marker": {
             "colorbar": {
              "outlinewidth": 0,
              "ticks": ""
             }
            },
            "type": "scattermap"
           }
          ],
          "scattermapbox": [
           {
            "marker": {
             "colorbar": {
              "outlinewidth": 0,
              "ticks": ""
             }
            },
            "type": "scattermapbox"
           }
          ],
          "scatterpolar": [
           {
            "marker": {
             "colorbar": {
              "outlinewidth": 0,
              "ticks": ""
             }
            },
            "type": "scatterpolar"
           }
          ],
          "scatterpolargl": [
           {
            "marker": {
             "colorbar": {
              "outlinewidth": 0,
              "ticks": ""
             }
            },
            "type": "scatterpolargl"
           }
          ],
          "scatterternary": [
           {
            "marker": {
             "colorbar": {
              "outlinewidth": 0,
              "ticks": ""
             }
            },
            "type": "scatterternary"
           }
          ],
          "surface": [
           {
            "colorbar": {
             "outlinewidth": 0,
             "ticks": ""
            },
            "colorscale": [
             [
              0,
              "#0d0887"
             ],
             [
              0.1111111111111111,
              "#46039f"
             ],
             [
              0.2222222222222222,
              "#7201a8"
             ],
             [
              0.3333333333333333,
              "#9c179e"
             ],
             [
              0.4444444444444444,
              "#bd3786"
             ],
             [
              0.5555555555555556,
              "#d8576b"
             ],
             [
              0.6666666666666666,
              "#ed7953"
             ],
             [
              0.7777777777777778,
              "#fb9f3a"
             ],
             [
              0.8888888888888888,
              "#fdca26"
             ],
             [
              1,
              "#f0f921"
             ]
            ],
            "type": "surface"
           }
          ],
          "table": [
           {
            "cells": {
             "fill": {
              "color": "#EBF0F8"
             },
             "line": {
              "color": "white"
             }
            },
            "header": {
             "fill": {
              "color": "#C8D4E3"
             },
             "line": {
              "color": "white"
             }
            },
            "type": "table"
           }
          ]
         },
         "layout": {
          "annotationdefaults": {
           "arrowcolor": "#2a3f5f",
           "arrowhead": 0,
           "arrowwidth": 1
          },
          "autotypenumbers": "strict",
          "coloraxis": {
           "colorbar": {
            "outlinewidth": 0,
            "ticks": ""
           }
          },
          "colorscale": {
           "diverging": [
            [
             0,
             "#8e0152"
            ],
            [
             0.1,
             "#c51b7d"
            ],
            [
             0.2,
             "#de77ae"
            ],
            [
             0.3,
             "#f1b6da"
            ],
            [
             0.4,
             "#fde0ef"
            ],
            [
             0.5,
             "#f7f7f7"
            ],
            [
             0.6,
             "#e6f5d0"
            ],
            [
             0.7,
             "#b8e186"
            ],
            [
             0.8,
             "#7fbc41"
            ],
            [
             0.9,
             "#4d9221"
            ],
            [
             1,
             "#276419"
            ]
           ],
           "sequential": [
            [
             0,
             "#0d0887"
            ],
            [
             0.1111111111111111,
             "#46039f"
            ],
            [
             0.2222222222222222,
             "#7201a8"
            ],
            [
             0.3333333333333333,
             "#9c179e"
            ],
            [
             0.4444444444444444,
             "#bd3786"
            ],
            [
             0.5555555555555556,
             "#d8576b"
            ],
            [
             0.6666666666666666,
             "#ed7953"
            ],
            [
             0.7777777777777778,
             "#fb9f3a"
            ],
            [
             0.8888888888888888,
             "#fdca26"
            ],
            [
             1,
             "#f0f921"
            ]
           ],
           "sequentialminus": [
            [
             0,
             "#0d0887"
            ],
            [
             0.1111111111111111,
             "#46039f"
            ],
            [
             0.2222222222222222,
             "#7201a8"
            ],
            [
             0.3333333333333333,
             "#9c179e"
            ],
            [
             0.4444444444444444,
             "#bd3786"
            ],
            [
             0.5555555555555556,
             "#d8576b"
            ],
            [
             0.6666666666666666,
             "#ed7953"
            ],
            [
             0.7777777777777778,
             "#fb9f3a"
            ],
            [
             0.8888888888888888,
             "#fdca26"
            ],
            [
             1,
             "#f0f921"
            ]
           ]
          },
          "colorway": [
           "#636efa",
           "#EF553B",
           "#00cc96",
           "#ab63fa",
           "#FFA15A",
           "#19d3f3",
           "#FF6692",
           "#B6E880",
           "#FF97FF",
           "#FECB52"
          ],
          "font": {
           "color": "#2a3f5f"
          },
          "geo": {
           "bgcolor": "white",
           "lakecolor": "white",
           "landcolor": "#E5ECF6",
           "showlakes": true,
           "showland": true,
           "subunitcolor": "white"
          },
          "hoverlabel": {
           "align": "left"
          },
          "hovermode": "closest",
          "mapbox": {
           "style": "light"
          },
          "paper_bgcolor": "white",
          "plot_bgcolor": "#E5ECF6",
          "polar": {
           "angularaxis": {
            "gridcolor": "white",
            "linecolor": "white",
            "ticks": ""
           },
           "bgcolor": "#E5ECF6",
           "radialaxis": {
            "gridcolor": "white",
            "linecolor": "white",
            "ticks": ""
           }
          },
          "scene": {
           "xaxis": {
            "backgroundcolor": "#E5ECF6",
            "gridcolor": "white",
            "gridwidth": 2,
            "linecolor": "white",
            "showbackground": true,
            "ticks": "",
            "zerolinecolor": "white"
           },
           "yaxis": {
            "backgroundcolor": "#E5ECF6",
            "gridcolor": "white",
            "gridwidth": 2,
            "linecolor": "white",
            "showbackground": true,
            "ticks": "",
            "zerolinecolor": "white"
           },
           "zaxis": {
            "backgroundcolor": "#E5ECF6",
            "gridcolor": "white",
            "gridwidth": 2,
            "linecolor": "white",
            "showbackground": true,
            "ticks": "",
            "zerolinecolor": "white"
           }
          },
          "shapedefaults": {
           "line": {
            "color": "#2a3f5f"
           }
          },
          "ternary": {
           "aaxis": {
            "gridcolor": "white",
            "linecolor": "white",
            "ticks": ""
           },
           "baxis": {
            "gridcolor": "white",
            "linecolor": "white",
            "ticks": ""
           },
           "bgcolor": "#E5ECF6",
           "caxis": {
            "gridcolor": "white",
            "linecolor": "white",
            "ticks": ""
           }
          },
          "title": {
           "x": 0.05
          },
          "xaxis": {
           "automargin": true,
           "gridcolor": "white",
           "linecolor": "white",
           "ticks": "",
           "title": {
            "standoff": 15
           },
           "zerolinecolor": "white",
           "zerolinewidth": 2
          },
          "yaxis": {
           "automargin": true,
           "gridcolor": "white",
           "linecolor": "white",
           "ticks": "",
           "title": {
            "standoff": 15
           },
           "zerolinecolor": "white",
           "zerolinewidth": 2
          }
         }
        },
        "title": {
         "text": "Probability density function for normal distribution"
        },
        "width": 700,
        "xaxis": {
         "anchor": "y2",
         "domain": [
          0,
          1
         ],
         "title": {
          "text": "Variable value"
         },
         "zeroline": false
        },
        "yaxis": {
         "anchor": "free",
         "domain": [
          0,
          1
         ],
         "position": 0,
         "title": {
          "text": "Probability density"
         }
        }
       }
      }
     },
     "metadata": {},
     "output_type": "display_data"
    }
   ],
   "source": [
    "# Set the numpy pseudo-random number generator seed\n",
    "numpy.random.seed(28)\n",
    "\n",
    "# Create an array of 10000 values from a normal distribution with a mean of 100 and a standard deviation of 10 assigned to the variables values\n",
    "values = numpy.random.normal(100, 10, 10000)\n",
    "\n",
    "# Create a plotly create_distplot figure of the data in values\n",
    "fig = figure_factory.create_distplot(\n",
    "    [values], ['Values'],\n",
    "    show_hist=False,\n",
    "    histnorm='probability desnity',\n",
    "    curve_type='normal',\n",
    "    show_rug=False\n",
    ")\n",
    "\n",
    "fig.update_layout(\n",
    "    title='Probability density function for normal distribution',\n",
    "    xaxis_title='Variable value',\n",
    "    yaxis_title='Probability density',\n",
    "    width=700\n",
    ")\n",
    "\n",
    "fig.show()"
   ]
  },
  {
   "cell_type": "code",
   "execution_count": 12,
   "metadata": {},
   "outputs": [
    {
     "name": "stdout",
     "output_type": "stream",
     "text": [
      "Probability of a value less than -1: 0.15865525393145707\n"
     ]
    }
   ],
   "source": [
    "# Calculate the probability of a value less than -1 for the standard normal distribution\n",
    "print('Probability of a value less than -1:', stats.norm.cdf(-1))"
   ]
  },
  {
   "cell_type": "code",
   "execution_count": 13,
   "metadata": {},
   "outputs": [
    {
     "data": {
      "application/vnd.plotly.v1+json": {
       "config": {
        "plotlyServerURL": "https://plot.ly"
       },
       "data": [
        {
         "autobinx": false,
         "histnorm": "probability density",
         "legendgroup": "Population",
         "marker": {
          "color": "rgb(31, 119, 180)"
         },
         "name": "Population",
         "opacity": 0.7,
         "type": "histogram",
         "x": {
          "bdata": "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",
          "dtype": "f8"
         },
         "xaxis": "x",
         "xbins": {
          "end": 99.85927555919643,
          "size": 1,
          "start": 50.02427007211345
         },
         "yaxis": "y"
        }
       ],
       "layout": {
        "barmode": "overlay",
        "hovermode": "closest",
        "legend": {
         "traceorder": "reversed"
        },
        "template": {
         "data": {
          "bar": [
           {
            "error_x": {
             "color": "#2a3f5f"
            },
            "error_y": {
             "color": "#2a3f5f"
            },
            "marker": {
             "line": {
              "color": "#E5ECF6",
              "width": 0.5
             },
             "pattern": {
              "fillmode": "overlay",
              "size": 10,
              "solidity": 0.2
             }
            },
            "type": "bar"
           }
          ],
          "barpolar": [
           {
            "marker": {
             "line": {
              "color": "#E5ECF6",
              "width": 0.5
             },
             "pattern": {
              "fillmode": "overlay",
              "size": 10,
              "solidity": 0.2
             }
            },
            "type": "barpolar"
           }
          ],
          "carpet": [
           {
            "aaxis": {
             "endlinecolor": "#2a3f5f",
             "gridcolor": "white",
             "linecolor": "white",
             "minorgridcolor": "white",
             "startlinecolor": "#2a3f5f"
            },
            "baxis": {
             "endlinecolor": "#2a3f5f",
             "gridcolor": "white",
             "linecolor": "white",
             "minorgridcolor": "white",
             "startlinecolor": "#2a3f5f"
            },
            "type": "carpet"
           }
          ],
          "choropleth": [
           {
            "colorbar": {
             "outlinewidth": 0,
             "ticks": ""
            },
            "type": "choropleth"
           }
          ],
          "contour": [
           {
            "colorbar": {
             "outlinewidth": 0,
             "ticks": ""
            },
            "colorscale": [
             [
              0,
              "#0d0887"
             ],
             [
              0.1111111111111111,
              "#46039f"
             ],
             [
              0.2222222222222222,
              "#7201a8"
             ],
             [
              0.3333333333333333,
              "#9c179e"
             ],
             [
              0.4444444444444444,
              "#bd3786"
             ],
             [
              0.5555555555555556,
              "#d8576b"
             ],
             [
              0.6666666666666666,
              "#ed7953"
             ],
             [
              0.7777777777777778,
              "#fb9f3a"
             ],
             [
              0.8888888888888888,
              "#fdca26"
             ],
             [
              1,
              "#f0f921"
             ]
            ],
            "type": "contour"
           }
          ],
          "contourcarpet": [
           {
            "colorbar": {
             "outlinewidth": 0,
             "ticks": ""
            },
            "type": "contourcarpet"
           }
          ],
          "heatmap": [
           {
            "colorbar": {
             "outlinewidth": 0,
             "ticks": ""
            },
            "colorscale": [
             [
              0,
              "#0d0887"
             ],
             [
              0.1111111111111111,
              "#46039f"
             ],
             [
              0.2222222222222222,
              "#7201a8"
             ],
             [
              0.3333333333333333,
              "#9c179e"
             ],
             [
              0.4444444444444444,
              "#bd3786"
             ],
             [
              0.5555555555555556,
              "#d8576b"
             ],
             [
              0.6666666666666666,
              "#ed7953"
             ],
             [
              0.7777777777777778,
              "#fb9f3a"
             ],
             [
              0.8888888888888888,
              "#fdca26"
             ],
             [
              1,
              "#f0f921"
             ]
            ],
            "type": "heatmap"
           }
          ],
          "histogram": [
           {
            "marker": {
             "pattern": {
              "fillmode": "overlay",
              "size": 10,
              "solidity": 0.2
             }
            },
            "type": "histogram"
           }
          ],
          "histogram2d": [
           {
            "colorbar": {
             "outlinewidth": 0,
             "ticks": ""
            },
            "colorscale": [
             [
              0,
              "#0d0887"
             ],
             [
              0.1111111111111111,
              "#46039f"
             ],
             [
              0.2222222222222222,
              "#7201a8"
             ],
             [
              0.3333333333333333,
              "#9c179e"
             ],
             [
              0.4444444444444444,
              "#bd3786"
             ],
             [
              0.5555555555555556,
              "#d8576b"
             ],
             [
              0.6666666666666666,
              "#ed7953"
             ],
             [
              0.7777777777777778,
              "#fb9f3a"
             ],
             [
              0.8888888888888888,
              "#fdca26"
             ],
             [
              1,
              "#f0f921"
             ]
            ],
            "type": "histogram2d"
           }
          ],
          "histogram2dcontour": [
           {
            "colorbar": {
             "outlinewidth": 0,
             "ticks": ""
            },
            "colorscale": [
             [
              0,
              "#0d0887"
             ],
             [
              0.1111111111111111,
              "#46039f"
             ],
             [
              0.2222222222222222,
              "#7201a8"
             ],
             [
              0.3333333333333333,
              "#9c179e"
             ],
             [
              0.4444444444444444,
              "#bd3786"
             ],
             [
              0.5555555555555556,
              "#d8576b"
             ],
             [
              0.6666666666666666,
              "#ed7953"
             ],
             [
              0.7777777777777778,
              "#fb9f3a"
             ],
             [
              0.8888888888888888,
              "#fdca26"
             ],
             [
              1,
              "#f0f921"
             ]
            ],
            "type": "histogram2dcontour"
           }
          ],
          "mesh3d": [
           {
            "colorbar": {
             "outlinewidth": 0,
             "ticks": ""
            },
            "type": "mesh3d"
           }
          ],
          "parcoords": [
           {
            "line": {
             "colorbar": {
              "outlinewidth": 0,
              "ticks": ""
             }
            },
            "type": "parcoords"
           }
          ],
          "pie": [
           {
            "automargin": true,
            "type": "pie"
           }
          ],
          "scatter": [
           {
            "fillpattern": {
             "fillmode": "overlay",
             "size": 10,
             "solidity": 0.2
            },
            "type": "scatter"
           }
          ],
          "scatter3d": [
           {
            "line": {
             "colorbar": {
              "outlinewidth": 0,
              "ticks": ""
             }
            },
            "marker": {
             "colorbar": {
              "outlinewidth": 0,
              "ticks": ""
             }
            },
            "type": "scatter3d"
           }
          ],
          "scattercarpet": [
           {
            "marker": {
             "colorbar": {
              "outlinewidth": 0,
              "ticks": ""
             }
            },
            "type": "scattercarpet"
           }
          ],
          "scattergeo": [
           {
            "marker": {
             "colorbar": {
              "outlinewidth": 0,
              "ticks": ""
             }
            },
            "type": "scattergeo"
           }
          ],
          "scattergl": [
           {
            "marker": {
             "colorbar": {
              "outlinewidth": 0,
              "ticks": ""
             }
            },
            "type": "scattergl"
           }
          ],
          "scattermap": [
           {
            "marker": {
             "colorbar": {
              "outlinewidth": 0,
              "ticks": ""
             }
            },
            "type": "scattermap"
           }
          ],
          "scattermapbox": [
           {
            "marker": {
             "colorbar": {
              "outlinewidth": 0,
              "ticks": ""
             }
            },
            "type": "scattermapbox"
           }
          ],
          "scatterpolar": [
           {
            "marker": {
             "colorbar": {
              "outlinewidth": 0,
              "ticks": ""
             }
            },
            "type": "scatterpolar"
           }
          ],
          "scatterpolargl": [
           {
            "marker": {
             "colorbar": {
              "outlinewidth": 0,
              "ticks": ""
             }
            },
            "type": "scatterpolargl"
           }
          ],
          "scatterternary": [
           {
            "marker": {
             "colorbar": {
              "outlinewidth": 0,
              "ticks": ""
             }
            },
            "type": "scatterternary"
           }
          ],
          "surface": [
           {
            "colorbar": {
             "outlinewidth": 0,
             "ticks": ""
            },
            "colorscale": [
             [
              0,
              "#0d0887"
             ],
             [
              0.1111111111111111,
              "#46039f"
             ],
             [
              0.2222222222222222,
              "#7201a8"
             ],
             [
              0.3333333333333333,
              "#9c179e"
             ],
             [
              0.4444444444444444,
              "#bd3786"
             ],
             [
              0.5555555555555556,
              "#d8576b"
             ],
             [
              0.6666666666666666,
              "#ed7953"
             ],
             [
              0.7777777777777778,
              "#fb9f3a"
             ],
             [
              0.8888888888888888,
              "#fdca26"
             ],
             [
              1,
              "#f0f921"
             ]
            ],
            "type": "surface"
           }
          ],
          "table": [
           {
            "cells": {
             "fill": {
              "color": "#EBF0F8"
             },
             "line": {
              "color": "white"
             }
            },
            "header": {
             "fill": {
              "color": "#C8D4E3"
             },
             "line": {
              "color": "white"
             }
            },
            "type": "table"
           }
          ]
         },
         "layout": {
          "annotationdefaults": {
           "arrowcolor": "#2a3f5f",
           "arrowhead": 0,
           "arrowwidth": 1
          },
          "autotypenumbers": "strict",
          "coloraxis": {
           "colorbar": {
            "outlinewidth": 0,
            "ticks": ""
           }
          },
          "colorscale": {
           "diverging": [
            [
             0,
             "#8e0152"
            ],
            [
             0.1,
             "#c51b7d"
            ],
            [
             0.2,
             "#de77ae"
            ],
            [
             0.3,
             "#f1b6da"
            ],
            [
             0.4,
             "#fde0ef"
            ],
            [
             0.5,
             "#f7f7f7"
            ],
            [
             0.6,
             "#e6f5d0"
            ],
            [
             0.7,
             "#b8e186"
            ],
            [
             0.8,
             "#7fbc41"
            ],
            [
             0.9,
             "#4d9221"
            ],
            [
             1,
             "#276419"
            ]
           ],
           "sequential": [
            [
             0,
             "#0d0887"
            ],
            [
             0.1111111111111111,
             "#46039f"
            ],
            [
             0.2222222222222222,
             "#7201a8"
            ],
            [
             0.3333333333333333,
             "#9c179e"
            ],
            [
             0.4444444444444444,
             "#bd3786"
            ],
            [
             0.5555555555555556,
             "#d8576b"
            ],
            [
             0.6666666666666666,
             "#ed7953"
            ],
            [
             0.7777777777777778,
             "#fb9f3a"
            ],
            [
             0.8888888888888888,
             "#fdca26"
            ],
            [
             1,
             "#f0f921"
            ]
           ],
           "sequentialminus": [
            [
             0,
             "#0d0887"
            ],
            [
             0.1111111111111111,
             "#46039f"
            ],
            [
             0.2222222222222222,
             "#7201a8"
            ],
            [
             0.3333333333333333,
             "#9c179e"
            ],
            [
             0.4444444444444444,
             "#bd3786"
            ],
            [
             0.5555555555555556,
             "#d8576b"
            ],
            [
             0.6666666666666666,
             "#ed7953"
            ],
            [
             0.7777777777777778,
             "#fb9f3a"
            ],
            [
             0.8888888888888888,
             "#fdca26"
            ],
            [
             1,
             "#f0f921"
            ]
           ]
          },
          "colorway": [
           "#636efa",
           "#EF553B",
           "#00cc96",
           "#ab63fa",
           "#FFA15A",
           "#19d3f3",
           "#FF6692",
           "#B6E880",
           "#FF97FF",
           "#FECB52"
          ],
          "font": {
           "color": "#2a3f5f"
          },
          "geo": {
           "bgcolor": "white",
           "lakecolor": "white",
           "landcolor": "#E5ECF6",
           "showlakes": true,
           "showland": true,
           "subunitcolor": "white"
          },
          "hoverlabel": {
           "align": "left"
          },
          "hovermode": "closest",
          "mapbox": {
           "style": "light"
          },
          "paper_bgcolor": "white",
          "plot_bgcolor": "#E5ECF6",
          "polar": {
           "angularaxis": {
            "gridcolor": "white",
            "linecolor": "white",
            "ticks": ""
           },
           "bgcolor": "#E5ECF6",
           "radialaxis": {
            "gridcolor": "white",
            "linecolor": "white",
            "ticks": ""
           }
          },
          "scene": {
           "xaxis": {
            "backgroundcolor": "#E5ECF6",
            "gridcolor": "white",
            "gridwidth": 2,
            "linecolor": "white",
            "showbackground": true,
            "ticks": "",
            "zerolinecolor": "white"
           },
           "yaxis": {
            "backgroundcolor": "#E5ECF6",
            "gridcolor": "white",
            "gridwidth": 2,
            "linecolor": "white",
            "showbackground": true,
            "ticks": "",
            "zerolinecolor": "white"
           },
           "zaxis": {
            "backgroundcolor": "#E5ECF6",
            "gridcolor": "white",
            "gridwidth": 2,
            "linecolor": "white",
            "showbackground": true,
            "ticks": "",
            "zerolinecolor": "white"
           }
          },
          "shapedefaults": {
           "line": {
            "color": "#2a3f5f"
           }
          },
          "ternary": {
           "aaxis": {
            "gridcolor": "white",
            "linecolor": "white",
            "ticks": ""
           },
           "baxis": {
            "gridcolor": "white",
            "linecolor": "white",
            "ticks": ""
           },
           "bgcolor": "#E5ECF6",
           "caxis": {
            "gridcolor": "white",
            "linecolor": "white",
            "ticks": ""
           }
          },
          "title": {
           "x": 0.05
          },
          "xaxis": {
           "automargin": true,
           "gridcolor": "white",
           "linecolor": "white",
           "ticks": "",
           "title": {
            "standoff": 15
           },
           "zerolinecolor": "white",
           "zerolinewidth": 2
          },
          "yaxis": {
           "automargin": true,
           "gridcolor": "white",
           "linecolor": "white",
           "ticks": "",
           "title": {
            "standoff": 15
           },
           "zerolinecolor": "white",
           "zerolinewidth": 2
          }
         }
        },
        "title": {
         "text": "Histogram of population values"
        },
        "width": 700,
        "xaxis": {
         "anchor": "y2",
         "domain": [
          0,
          1
         ],
         "title": {
          "text": "Variable value"
         },
         "zeroline": false
        },
        "yaxis": {
         "anchor": "free",
         "domain": [
          0,
          1
         ],
         "position": 0,
         "title": {
          "text": "Frequency"
         }
        }
       }
      }
     },
     "metadata": {},
     "output_type": "display_data"
    }
   ],
   "source": [
    "# Seed the numpy pseudo-random number generator\n",
    "numpy.random.seed(28)\n",
    "\n",
    "# Create an array of 1000 values using a continuous uniform distribution between 50 and 100 and assign it to the variable population\n",
    "population = numpy.random.uniform(50, 100, 1000)\n",
    "\n",
    "# Create a plotly create_distplot figure of the data in population\n",
    "fig = figure_factory.create_distplot(\n",
    "    [numpy.random.choice(population, 1000)], ['Population'],\n",
    "    show_hist=True,\n",
    "    show_rug=False,\n",
    "    show_curve=False\n",
    ")\n",
    "\n",
    "fig.update_layout(\n",
    "    title='Histogram of population values',\n",
    "    xaxis_title='Variable value',\n",
    "    yaxis_title='Frequency',\n",
    "    width=700\n",
    ")\n",
    "\n",
    "fig.show()"
   ]
  },
  {
   "cell_type": "code",
   "execution_count": 14,
   "metadata": {},
   "outputs": [
    {
     "data": {
      "text/plain": [
       "np.float64(74.8702856608023)"
      ]
     },
     "execution_count": 14,
     "metadata": {},
     "output_type": "execute_result"
    }
   ],
   "source": [
    "# Calculate the population mean of the population and assign it to the variable mu\n",
    "mu = population.mean()\n",
    "mu"
   ]
  },
  {
   "cell_type": "code",
   "execution_count": 15,
   "metadata": {},
   "outputs": [
    {
     "data": {
      "text/plain": [
       "np.float64(14.807689712963851)"
      ]
     },
     "execution_count": 15,
     "metadata": {},
     "output_type": "execute_result"
    }
   ],
   "source": [
    "# Calculate the population standard deviation of the population and assign it to the variable sigma\n",
    "sigma = population.std()\n",
    "sigma"
   ]
  },
  {
   "cell_type": "code",
   "execution_count": 16,
   "metadata": {},
   "outputs": [
    {
     "data": {
      "application/vnd.plotly.v1+json": {
       "config": {
        "plotlyServerURL": "https://plot.ly"
       },
       "data": [
        {
         "autobinx": false,
         "histnorm": "probability density",
         "legendgroup": "Population",
         "marker": {
          "color": "rgb(31, 119, 180)"
         },
         "name": "Population",
         "opacity": 0.7,
         "type": "histogram",
         "x": {
          "bdata": "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",
          "dtype": "f8"
         },
         "xaxis": "x",
         "xbins": {
          "end": 99.85927555919643,
          "size": 1,
          "start": 50.02427007211345
         },
         "yaxis": "y"
        }
       ],
       "layout": {
        "barmode": "overlay",
        "hovermode": "closest",
        "legend": {
         "traceorder": "reversed"
        },
        "shapes": [
         {
          "line": {
           "color": "green",
           "width": 2
          },
          "type": "line",
          "x0": 74.8702856608023,
          "x1": 74.8702856608023,
          "xref": "x",
          "y0": 0,
          "y1": 1,
          "yref": "y domain"
         },
         {
          "line": {
           "color": "red",
           "dash": "dash",
           "width": 2
          },
          "type": "line",
          "x0": 60.062595947838446,
          "x1": 60.062595947838446,
          "xref": "x",
          "y0": 0,
          "y1": 1,
          "yref": "y domain"
         },
         {
          "line": {
           "color": "red",
           "dash": "dash",
           "width": 2
          },
          "type": "line",
          "x0": 89.67797537376615,
          "x1": 89.67797537376615,
          "xref": "x",
          "y0": 0,
          "y1": 1,
          "yref": "y domain"
         }
        ],
        "template": {
         "data": {
          "bar": [
           {
            "error_x": {
             "color": "#2a3f5f"
            },
            "error_y": {
             "color": "#2a3f5f"
            },
            "marker": {
             "line": {
              "color": "#E5ECF6",
              "width": 0.5
             },
             "pattern": {
              "fillmode": "overlay",
              "size": 10,
              "solidity": 0.2
             }
            },
            "type": "bar"
           }
          ],
          "barpolar": [
           {
            "marker": {
             "line": {
              "color": "#E5ECF6",
              "width": 0.5
             },
             "pattern": {
              "fillmode": "overlay",
              "size": 10,
              "solidity": 0.2
             }
            },
            "type": "barpolar"
           }
          ],
          "carpet": [
           {
            "aaxis": {
             "endlinecolor": "#2a3f5f",
             "gridcolor": "white",
             "linecolor": "white",
             "minorgridcolor": "white",
             "startlinecolor": "#2a3f5f"
            },
            "baxis": {
             "endlinecolor": "#2a3f5f",
             "gridcolor": "white",
             "linecolor": "white",
             "minorgridcolor": "white",
             "startlinecolor": "#2a3f5f"
            },
            "type": "carpet"
           }
          ],
          "choropleth": [
           {
            "colorbar": {
             "outlinewidth": 0,
             "ticks": ""
            },
            "type": "choropleth"
           }
          ],
          "contour": [
           {
            "colorbar": {
             "outlinewidth": 0,
             "ticks": ""
            },
            "colorscale": [
             [
              0,
              "#0d0887"
             ],
             [
              0.1111111111111111,
              "#46039f"
             ],
             [
              0.2222222222222222,
              "#7201a8"
             ],
             [
              0.3333333333333333,
              "#9c179e"
             ],
             [
              0.4444444444444444,
              "#bd3786"
             ],
             [
              0.5555555555555556,
              "#d8576b"
             ],
             [
              0.6666666666666666,
              "#ed7953"
             ],
             [
              0.7777777777777778,
              "#fb9f3a"
             ],
             [
              0.8888888888888888,
              "#fdca26"
             ],
             [
              1,
              "#f0f921"
             ]
            ],
            "type": "contour"
           }
          ],
          "contourcarpet": [
           {
            "colorbar": {
             "outlinewidth": 0,
             "ticks": ""
            },
            "type": "contourcarpet"
           }
          ],
          "heatmap": [
           {
            "colorbar": {
             "outlinewidth": 0,
             "ticks": ""
            },
            "colorscale": [
             [
              0,
              "#0d0887"
             ],
             [
              0.1111111111111111,
              "#46039f"
             ],
             [
              0.2222222222222222,
              "#7201a8"
             ],
             [
              0.3333333333333333,
              "#9c179e"
             ],
             [
              0.4444444444444444,
              "#bd3786"
             ],
             [
              0.5555555555555556,
              "#d8576b"
             ],
             [
              0.6666666666666666,
              "#ed7953"
             ],
             [
              0.7777777777777778,
              "#fb9f3a"
             ],
             [
              0.8888888888888888,
              "#fdca26"
             ],
             [
              1,
              "#f0f921"
             ]
            ],
            "type": "heatmap"
           }
          ],
          "histogram": [
           {
            "marker": {
             "pattern": {
              "fillmode": "overlay",
              "size": 10,
              "solidity": 0.2
             }
            },
            "type": "histogram"
           }
          ],
          "histogram2d": [
           {
            "colorbar": {
             "outlinewidth": 0,
             "ticks": ""
            },
            "colorscale": [
             [
              0,
              "#0d0887"
             ],
             [
              0.1111111111111111,
              "#46039f"
             ],
             [
              0.2222222222222222,
              "#7201a8"
             ],
             [
              0.3333333333333333,
              "#9c179e"
             ],
             [
              0.4444444444444444,
              "#bd3786"
             ],
             [
              0.5555555555555556,
              "#d8576b"
             ],
             [
              0.6666666666666666,
              "#ed7953"
             ],
             [
              0.7777777777777778,
              "#fb9f3a"
             ],
             [
              0.8888888888888888,
              "#fdca26"
             ],
             [
              1,
              "#f0f921"
             ]
            ],
            "type": "histogram2d"
           }
          ],
          "histogram2dcontour": [
           {
            "colorbar": {
             "outlinewidth": 0,
             "ticks": ""
            },
            "colorscale": [
             [
              0,
              "#0d0887"
             ],
             [
              0.1111111111111111,
              "#46039f"
             ],
             [
              0.2222222222222222,
              "#7201a8"
             ],
             [
              0.3333333333333333,
              "#9c179e"
             ],
             [
              0.4444444444444444,
              "#bd3786"
             ],
             [
              0.5555555555555556,
              "#d8576b"
             ],
             [
              0.6666666666666666,
              "#ed7953"
             ],
             [
              0.7777777777777778,
              "#fb9f3a"
             ],
             [
              0.8888888888888888,
              "#fdca26"
             ],
             [
              1,
              "#f0f921"
             ]
            ],
            "type": "histogram2dcontour"
           }
          ],
          "mesh3d": [
           {
            "colorbar": {
             "outlinewidth": 0,
             "ticks": ""
            },
            "type": "mesh3d"
           }
          ],
          "parcoords": [
           {
            "line": {
             "colorbar": {
              "outlinewidth": 0,
              "ticks": ""
             }
            },
            "type": "parcoords"
           }
          ],
          "pie": [
           {
            "automargin": true,
            "type": "pie"
           }
          ],
          "scatter": [
           {
            "fillpattern": {
             "fillmode": "overlay",
             "size": 10,
             "solidity": 0.2
            },
            "type": "scatter"
           }
          ],
          "scatter3d": [
           {
            "line": {
             "colorbar": {
              "outlinewidth": 0,
              "ticks": ""
             }
            },
            "marker": {
             "colorbar": {
              "outlinewidth": 0,
              "ticks": ""
             }
            },
            "type": "scatter3d"
           }
          ],
          "scattercarpet": [
           {
            "marker": {
             "colorbar": {
              "outlinewidth": 0,
              "ticks": ""
             }
            },
            "type": "scattercarpet"
           }
          ],
          "scattergeo": [
           {
            "marker": {
             "colorbar": {
              "outlinewidth": 0,
              "ticks": ""
             }
            },
            "type": "scattergeo"
           }
          ],
          "scattergl": [
           {
            "marker": {
             "colorbar": {
              "outlinewidth": 0,
              "ticks": ""
             }
            },
            "type": "scattergl"
           }
          ],
          "scattermap": [
           {
            "marker": {
             "colorbar": {
              "outlinewidth": 0,
              "ticks": ""
             }
            },
            "type": "scattermap"
           }
          ],
          "scattermapbox": [
           {
            "marker": {
             "colorbar": {
              "outlinewidth": 0,
              "ticks": ""
             }
            },
            "type": "scattermapbox"
           }
          ],
          "scatterpolar": [
           {
            "marker": {
             "colorbar": {
              "outlinewidth": 0,
              "ticks": ""
             }
            },
            "type": "scatterpolar"
           }
          ],
          "scatterpolargl": [
           {
            "marker": {
             "colorbar": {
              "outlinewidth": 0,
              "ticks": ""
             }
            },
            "type": "scatterpolargl"
           }
          ],
          "scatterternary": [
           {
            "marker": {
             "colorbar": {
              "outlinewidth": 0,
              "ticks": ""
             }
            },
            "type": "scatterternary"
           }
          ],
          "surface": [
           {
            "colorbar": {
             "outlinewidth": 0,
             "ticks": ""
            },
            "colorscale": [
             [
              0,
              "#0d0887"
             ],
             [
              0.1111111111111111,
              "#46039f"
             ],
             [
              0.2222222222222222,
              "#7201a8"
             ],
             [
              0.3333333333333333,
              "#9c179e"
             ],
             [
              0.4444444444444444,
              "#bd3786"
             ],
             [
              0.5555555555555556,
              "#d8576b"
             ],
             [
              0.6666666666666666,
              "#ed7953"
             ],
             [
              0.7777777777777778,
              "#fb9f3a"
             ],
             [
              0.8888888888888888,
              "#fdca26"
             ],
             [
              1,
              "#f0f921"
             ]
            ],
            "type": "surface"
           }
          ],
          "table": [
           {
            "cells": {
             "fill": {
              "color": "#EBF0F8"
             },
             "line": {
              "color": "white"
             }
            },
            "header": {
             "fill": {
              "color": "#C8D4E3"
             },
             "line": {
              "color": "white"
             }
            },
            "type": "table"
           }
          ]
         },
         "layout": {
          "annotationdefaults": {
           "arrowcolor": "#2a3f5f",
           "arrowhead": 0,
           "arrowwidth": 1
          },
          "autotypenumbers": "strict",
          "coloraxis": {
           "colorbar": {
            "outlinewidth": 0,
            "ticks": ""
           }
          },
          "colorscale": {
           "diverging": [
            [
             0,
             "#8e0152"
            ],
            [
             0.1,
             "#c51b7d"
            ],
            [
             0.2,
             "#de77ae"
            ],
            [
             0.3,
             "#f1b6da"
            ],
            [
             0.4,
             "#fde0ef"
            ],
            [
             0.5,
             "#f7f7f7"
            ],
            [
             0.6,
             "#e6f5d0"
            ],
            [
             0.7,
             "#b8e186"
            ],
            [
             0.8,
             "#7fbc41"
            ],
            [
             0.9,
             "#4d9221"
            ],
            [
             1,
             "#276419"
            ]
           ],
           "sequential": [
            [
             0,
             "#0d0887"
            ],
            [
             0.1111111111111111,
             "#46039f"
            ],
            [
             0.2222222222222222,
             "#7201a8"
            ],
            [
             0.3333333333333333,
             "#9c179e"
            ],
            [
             0.4444444444444444,
             "#bd3786"
            ],
            [
             0.5555555555555556,
             "#d8576b"
            ],
            [
             0.6666666666666666,
             "#ed7953"
            ],
            [
             0.7777777777777778,
             "#fb9f3a"
            ],
            [
             0.8888888888888888,
             "#fdca26"
            ],
            [
             1,
             "#f0f921"
            ]
           ],
           "sequentialminus": [
            [
             0,
             "#0d0887"
            ],
            [
             0.1111111111111111,
             "#46039f"
            ],
            [
             0.2222222222222222,
             "#7201a8"
            ],
            [
             0.3333333333333333,
             "#9c179e"
            ],
            [
             0.4444444444444444,
             "#bd3786"
            ],
            [
             0.5555555555555556,
             "#d8576b"
            ],
            [
             0.6666666666666666,
             "#ed7953"
            ],
            [
             0.7777777777777778,
             "#fb9f3a"
            ],
            [
             0.8888888888888888,
             "#fdca26"
            ],
            [
             1,
             "#f0f921"
            ]
           ]
          },
          "colorway": [
           "#636efa",
           "#EF553B",
           "#00cc96",
           "#ab63fa",
           "#FFA15A",
           "#19d3f3",
           "#FF6692",
           "#B6E880",
           "#FF97FF",
           "#FECB52"
          ],
          "font": {
           "color": "#2a3f5f"
          },
          "geo": {
           "bgcolor": "white",
           "lakecolor": "white",
           "landcolor": "#E5ECF6",
           "showlakes": true,
           "showland": true,
           "subunitcolor": "white"
          },
          "hoverlabel": {
           "align": "left"
          },
          "hovermode": "closest",
          "mapbox": {
           "style": "light"
          },
          "paper_bgcolor": "white",
          "plot_bgcolor": "#E5ECF6",
          "polar": {
           "angularaxis": {
            "gridcolor": "white",
            "linecolor": "white",
            "ticks": ""
           },
           "bgcolor": "#E5ECF6",
           "radialaxis": {
            "gridcolor": "white",
            "linecolor": "white",
            "ticks": ""
           }
          },
          "scene": {
           "xaxis": {
            "backgroundcolor": "#E5ECF6",
            "gridcolor": "white",
            "gridwidth": 2,
            "linecolor": "white",
            "showbackground": true,
            "ticks": "",
            "zerolinecolor": "white"
           },
           "yaxis": {
            "backgroundcolor": "#E5ECF6",
            "gridcolor": "white",
            "gridwidth": 2,
            "linecolor": "white",
            "showbackground": true,
            "ticks": "",
            "zerolinecolor": "white"
           },
           "zaxis": {
            "backgroundcolor": "#E5ECF6",
            "gridcolor": "white",
            "gridwidth": 2,
            "linecolor": "white",
            "showbackground": true,
            "ticks": "",
            "zerolinecolor": "white"
           }
          },
          "shapedefaults": {
           "line": {
            "color": "#2a3f5f"
           }
          },
          "ternary": {
           "aaxis": {
            "gridcolor": "white",
            "linecolor": "white",
            "ticks": ""
           },
           "baxis": {
            "gridcolor": "white",
            "linecolor": "white",
            "ticks": ""
           },
           "bgcolor": "#E5ECF6",
           "caxis": {
            "gridcolor": "white",
            "linecolor": "white",
            "ticks": ""
           }
          },
          "title": {
           "x": 0.05
          },
          "xaxis": {
           "automargin": true,
           "gridcolor": "white",
           "linecolor": "white",
           "ticks": "",
           "title": {
            "standoff": 15
           },
           "zerolinecolor": "white",
           "zerolinewidth": 2
          },
          "yaxis": {
           "automargin": true,
           "gridcolor": "white",
           "linecolor": "white",
           "ticks": "",
           "title": {
            "standoff": 15
           },
           "zerolinecolor": "white",
           "zerolinewidth": 2
          }
         }
        },
        "title": {
         "text": "Histogram of population values"
        },
        "width": 700,
        "xaxis": {
         "anchor": "y2",
         "domain": [
          0,
          1
         ],
         "title": {
          "text": "Variable value"
         },
         "zeroline": false
        },
        "yaxis": {
         "anchor": "free",
         "domain": [
          0,
          1
         ],
         "position": 0,
         "title": {
          "text": "Frequency"
         }
        }
       }
      }
     },
     "metadata": {},
     "output_type": "display_data"
    }
   ],
   "source": [
    "# Add a horizontal line to the plot at the mean and dashed lines for the standard deviation\n",
    "fig.add_vline(x=mu, line_width=2, line_color='green')\n",
    "fig.add_vline(x=mu - sigma, line_width=2, line_dash='dash', line_color='red')\n",
    "fig.add_vline(x=mu + sigma, line_width=2, line_dash='dash', line_color='red')\n",
    "\n",
    "fig.show()"
   ]
  },
  {
   "cell_type": "code",
   "execution_count": 17,
   "metadata": {},
   "outputs": [
    {
     "data": {
      "text/plain": [
       "np.float64(75.39338504047777)"
      ]
     },
     "execution_count": 17,
     "metadata": {},
     "output_type": "execute_result"
    }
   ],
   "source": [
    "# Seed the pseudo-random number generator\n",
    "numpy.random.seed(28)\n",
    "\n",
    "# Select a random sample of 30 values from the population and assign it to the variable sample\n",
    "sample = numpy.random.choice(population, 30)\n",
    "\n",
    "# Calculate the sample mean and assign it to the variable x_bar\n",
    "x_bar = sample.mean()\n",
    "x_bar"
   ]
  },
  {
   "cell_type": "code",
   "execution_count": 18,
   "metadata": {},
   "outputs": [],
   "source": [
    "# Use list comprehension to calculate the sample mean of 1000 samples of size 30 and assign it to the variable x_bar_vals\n",
    "x_bar_vals = [numpy.random.choice(population, 30).mean() for _ in range(1000)]"
   ]
  },
  {
   "cell_type": "code",
   "execution_count": 19,
   "metadata": {},
   "outputs": [],
   "source": [
    "# Sort the values in x_bar_vals and assign it to the variable x_bar_vals_sorted\n",
    "x_bar_vals_sorted = numpy.sort(x_bar_vals)"
   ]
  },
  {
   "cell_type": "code",
   "execution_count": 20,
   "metadata": {},
   "outputs": [
    {
     "data": {
      "text/plain": [
       "np.float64(69.54310782732712)"
      ]
     },
     "execution_count": 20,
     "metadata": {},
     "output_type": "execute_result"
    }
   ],
   "source": [
    "x_bar_vals_sorted[24]"
   ]
  },
  {
   "cell_type": "code",
   "execution_count": 21,
   "metadata": {},
   "outputs": [
    {
     "data": {
      "text/plain": [
       "np.float64(80.28681596822955)"
      ]
     },
     "execution_count": 21,
     "metadata": {},
     "output_type": "execute_result"
    }
   ],
   "source": [
    "x_bar_vals_sorted[974]"
   ]
  },
  {
   "cell_type": "code",
   "execution_count": 22,
   "metadata": {},
   "outputs": [
    {
     "data": {
      "application/vnd.plotly.v1+json": {
       "config": {
        "plotlyServerURL": "https://plot.ly"
       },
       "data": [
        {
         "histnorm": "probability",
         "type": "histogram",
         "x": [
          69.84345662130204,
          72.60187738769199,
          76.59827929734878,
          73.96990321477178,
          74.89791072520772,
          70.00209023364627,
          75.46749756442831,
          73.98692257083778,
          76.60364774543952,
          77.04941540845012,
          70.7944778031303,
          77.53817567829591,
          77.35659224788218,
          77.17232771627268,
          72.58279050806787,
          75.3222920532692,
          72.1847550531239,
          73.33894561670475,
          75.90438324019603,
          71.40538146964633,
          76.63489818791163,
          75.89079971425333,
          71.49069911650137,
          74.01007010113294,
          77.21921670645513,
          80.98175209863912,
          74.8601398783346,
          79.746069860667,
          78.16108310677632,
          77.05409025180536,
          76.9418676436257,
          71.65587205973392,
          77.096470171809,
          73.99967185688027,
          71.5626692185752,
          74.45490499154235,
          75.5416927031429,
          75.40751017507937,
          73.77461418672631,
          76.90801865120703,
          70.23142292087506,
          79.45783136197248,
          70.5868836436783,
          75.51655619101203,
          78.02300221344753,
          76.24412170976122,
          77.61920052115332,
          78.41449979064728,
          73.35469280327861,
          75.01611510061278,
          68.74682268000691,
          78.59855041186309,
          76.41131947776832,
          78.15811437114466,
          75.18130517797569,
          76.37480021230706,
          71.11840879443307,
          73.18429028793877,
          70.55407637560272,
          71.99910252078121,
          73.10684596475784,
          72.81188980349152,
          74.85278332107934,
          77.05704557821802,
          74.11367891444279,
          69.39300045479384,
          68.25964939590261,
          76.13151375845865,
          76.23949755604067,
          77.01705148967412,
          73.81191343889414,
          76.76087417715495,
          77.30329315850182,
          76.92819198377919,
          74.65636829161222,
          75.07784722521895,
          77.85246027538237,
          76.42564297045742,
          78.64744374868269,
          73.73142834394747,
          77.02847924724033,
          78.9800247222008,
          73.7802111967388,
          70.99174309204493,
          72.29690456347659,
          80.28681596822955,
          73.30263913464134,
          75.23477066716757,
          68.23933669709787,
          75.39378779192052,
          76.48577375119929,
          75.12035858543071,
          73.66158167808474,
          81.53336718904492,
          78.12482301825746,
          78.38312537291007,
          70.6819902161066,
          74.44930367121856,
          75.55248221996703,
          76.19071076826371,
          69.07971330534187,
          71.77438885853098,
          72.89938993759831,
          75.82779239168265,
          76.4797275963658,
          68.73719058161257,
          74.49812961866273,
          73.66877372774452,
          76.92957316997182,
          71.64390465488226,
          78.23287081804538,
          75.45839144356833,
          81.07776286727395,
          71.17302421976866,
          73.87472025781172,
          75.12353950451445,
          77.64695511585846,
          73.94505666440902,
          74.73276831277235,
          76.10620309214511,
          69.27905448427856,
          77.84287194595682,
          74.05017732373034,
          74.83134907092813,
          77.2810062580993,
          75.88353027813561,
          80.23329936093862,
          76.17259144431286,
          73.09954501891511,
          72.03744702092035,
          78.64218383628591,
          74.12374073700686,
          77.51859831447157,
          75.72028999295438,
          72.82701172239787,
          73.3152928460262,
          77.85698979852786,
          75.41117741079242,
          75.24353167696862,
          74.20583444886799,
          74.04890222210135,
          75.2314029268179,
          72.09691291856849,
          70.47368900909237,
          74.75008087701177,
          74.8415429467706,
          73.35080384839779,
          73.48628149106662,
          71.70631293165978,
          72.03704600277483,
          72.40557843915342,
          70.53718172823906,
          80.30109111809226,
          71.50354343879457,
          71.28674585381542,
          78.19623830203044,
          77.59846527310125,
          74.15856308414344,
          74.62990365622984,
          70.19630319437094,
          75.86171893365447,
          72.69828638763553,
          76.72115566824014,
          73.14588842174393,
          72.428934550109,
          69.54310782732712,
          74.23622842813997,
          71.6539679424635,
          74.39971569812846,
          79.50651021828729,
          76.98320070511289,
          72.44555825418466,
          75.73625819732204,
          78.77178797092147,
          72.91967340529833,
          75.33289827635527,
          70.81857799364904,
          73.31798384693914,
          68.4744562150175,
          70.6366656406895,
          75.18421750546489,
          76.53218972584833,
          77.88037353403824,
          81.86691982985613,
          76.27149699100988,
          74.69916923730058,
          76.06211937266546,
          73.76829726378847,
          83.11112488972313,
          75.41244397632038,
          73.47803398792351,
          75.47037695532117,
          76.04881402753038,
          71.80921038755585,
          78.21777464638703,
          70.13128572424134,
          75.51948326727916,
          69.60912675792977,
          74.49939494761274,
          71.46248318398632,
          76.10381971970291,
          77.07241697067163,
          78.0121300344392,
          74.56198797648855,
          73.49424371645915,
          70.11217531583772,
          75.84601485237515,
          72.37884974798195,
          73.20325686545428,
          73.53979565891892,
          73.84909170691253,
          77.27977652430803,
          72.95161689097183,
          76.39670694015646,
          70.95545950034646,
          74.12174372292927,
          75.48586411415131,
          75.24606616837679,
          73.65667315602585,
          76.21931200288674,
          75.58849033956746,
          76.07507724385827,
          73.8611168458379,
          74.72359342894427,
          70.37551285952321,
          78.09639450133675,
          75.50849805324063,
          78.09672064295272,
          72.7303524604101,
          80.57306891962025,
          75.78654393769997,
          75.62843211553039,
          73.66839011828772,
          71.47803960802844,
          77.02901960055637,
          74.36463916050083,
          75.27227090677235,
          76.64120960241695,
          76.57390056568364,
          74.6329071515247,
          76.24877161162038,
          73.41246264680129,
          67.80772970790142,
          72.51478154631059,
          75.11098410261174,
          75.46644015170939,
          72.88598840683558,
          77.74040485906865,
          74.73894190528019,
          75.53489507040392,
          74.17594936825346,
          77.52289881590134,
          79.484806432571,
          67.38692657374028,
          73.86330126979037,
          75.44147722896358,
          73.22113555878194,
          78.36424328202956,
          77.24871150204226,
          74.13804871261894,
          74.7618170425231,
          74.85153350179047,
          73.53777475132789,
          78.24450647101324,
          70.68040692408698,
          77.22407025028971,
          73.67738806212672,
          75.35568981572752,
          72.60942743915942,
          74.40444291142575,
          75.52821844575554,
          72.28630516162586,
          79.1855054596909,
          75.19336259160323,
          71.77174156714158,
          71.27558189789967,
          74.59460497312308,
          75.00135172018602,
          76.17062500329712,
          75.2329077869628,
          75.9361385205425,
          77.82638713699512,
          78.70085832115947,
          74.29714520037403,
          72.06426392742789,
          77.3480857823137,
          73.90366486606437,
          75.33639129033979,
          74.6283116340801,
          71.69359951604766,
          70.29778598992468,
          73.64660247823626,
          76.17327657066748,
          72.97282931080481,
          76.41365019616826,
          74.44645733910774,
          75.44602996786837,
          73.93412410991552,
          78.10355403669905,
          72.82739913239917,
          77.57163144612896,
          73.65892692115682,
          74.92347743236677,
          73.78882637765363,
          75.82582665102113,
          72.83802737167304,
          73.98705154519362,
          72.158308335018,
          75.94953529460538,
          77.44005804416761,
          75.33343760421891,
          70.9398928446259,
          76.441684874168,
          73.38315281565175,
          72.1648400755073,
          70.47949348319581,
          76.02075060437402,
          74.15938538654292,
          75.41394531963678,
          74.90036351721251,
          70.40680087636579,
          73.58118588179727,
          79.76554426338389,
          72.37899937961416,
          72.66669525704674,
          73.12476561178367,
          75.12626962538053,
          78.541984045948,
          69.58838167938015,
          75.79371895734336,
          72.64050271153617,
          71.41194455409457,
          72.74682251856413,
          69.86132368546029,
          71.3751928165803,
          72.86933338551171,
          77.24803740534016,
          73.14232296000382,
          78.50724934956513,
          75.287588898777,
          71.7104664141256,
          70.3833432298467,
          74.64349158505209,
          73.89324591225818,
          76.2362943680182,
          76.3787471606083,
          77.05925940362081,
          73.16018671189497,
          74.41672862097566,
          76.82583312381205,
          72.47056892333612,
          73.43565818543087,
          78.79427040757167,
          77.01806674815893,
          71.98581055048072,
          72.4985536480053,
          71.59693812578612,
          70.92910175181272,
          71.70050469282793,
          73.10587878927163,
          72.20199810778108,
          79.50858607930273,
          71.17455568484566,
          76.57286274271277,
          77.92065649831387,
          75.16578827414575,
          74.05684171181178,
          73.48442194356706,
          74.42607453682356,
          81.20706826347197,
          74.94920220696709,
          73.73615234553017,
          78.57238801956737,
          75.69870082084665,
          77.54983440578484,
          77.51763971375969,
          70.57106758434786,
          77.05585164062599,
          80.72613799528162,
          74.56409918743664,
          71.90224421145338,
          74.07655444038458,
          74.4562654807239,
          73.12728140290668,
          76.83812747571032,
          76.65546855353996,
          71.04764512825383,
          68.68217615892891,
          76.29475131329473,
          77.33303377700238,
          76.3400157362896,
          74.20479532582948,
          78.5844517882963,
          79.25641934928268,
          78.10982372894568,
          75.19095622946749,
          74.79580159089811,
          73.80202254648263,
          75.82173334905741,
          80.24670076379098,
          81.00926875588894,
          72.7174056603235,
          73.1600931017046,
          73.00903696508777,
          78.04521278662261,
          73.50853676714988,
          71.19488106381853,
          75.41979751067612,
          78.83156619288165,
          76.6652289946591,
          71.8646379944775,
          77.81083625119382,
          74.63272319971078,
          77.7451625835741,
          77.16532474415199,
          82.71143102361275,
          75.97457910094029,
          75.67532502586214,
          70.78995307048912,
          73.46440882460769,
          79.56604710311852,
          79.08487100737786,
          72.47246279624643,
          76.72144438243468,
          75.18828987605424,
          73.70027111736765,
          72.67189550685569,
          75.36307541038362,
          72.12610175676072,
          73.33123014758317,
          77.33598747258002,
          71.88790717279318,
          71.9217387297994,
          71.5951144778209,
          74.05045983555391,
          74.21126125268422,
          78.79940783672286,
          70.02092106052274,
          73.30338616169396,
          74.51851425252597,
          76.43705855125185,
          73.00925387754282,
          76.87641051702184,
          74.98513585558663,
          75.94816798027223,
          71.98336550014928,
          72.1636579127857,
          77.85462679074945,
          74.66334210634592,
          73.19181606249317,
          74.68707198570544,
          78.83118517329612,
          76.93950532111148,
          74.44892063245236,
          74.12298406161386,
          75.02897181691785,
          78.23200014554683,
          82.19222716901551,
          74.18878921458624,
          72.83870309958817,
          69.63551155718345,
          76.98330460150335,
          79.04753985270146,
          68.69460483617522,
          72.055362196564,
          75.17177195501122,
          74.21491257218143,
          70.93964745493479,
          80.62327806057785,
          71.60341650902178,
          77.297470710328,
          74.73001565206161,
          74.84298642745487,
          77.8422685753405,
          76.44307337496681,
          71.05616110186337,
          74.73662746213964,
          78.63759393966923,
          79.04462361674948,
          74.29861127874422,
          72.7051048478613,
          69.06248786317954,
          74.65452778366779,
          75.41800047923145,
          75.59506684591126,
          81.08011736349106,
          73.2518670800341,
          68.96747168655034,
          78.3801890968118,
          72.3439726946771,
          77.83366397368877,
          75.01596670630832,
          77.25632576460356,
          77.07904290106846,
          76.74402891820407,
          74.15786729153602,
          75.58527373340131,
          74.47685221696226,
          74.90107280569966,
          75.80532270242101,
          80.32350579759277,
          71.53900302558377,
          74.6536280800969,
          80.19277504534419,
          74.27686817539481,
          72.45290836147579,
          75.67050655949734,
          72.7075435863538,
          79.50688614106231,
          78.45149066235042,
          73.88565814889073,
          76.01255909718222,
          76.5778799180766,
          75.33813354672064,
          72.75981893699876,
          75.64295170295009,
          77.45722086692243,
          71.8485792436671,
          71.28281080546964,
          74.56504139774371,
          76.08871358507623,
          75.02186757896142,
          73.18467292816187,
          76.59322012072717,
          70.50313116789566,
          71.7228734281361,
          79.1380233144523,
          71.2782083581047,
          79.59165326479844,
          76.00797329882205,
          69.11411910233821,
          75.18098691713077,
          71.9762194791528,
          76.3133222622032,
          71.01232960468818,
          76.64314844479712,
          75.54828786874619,
          71.70299707498044,
          75.76972266183647,
          68.30139524599801,
          74.88206580963242,
          76.19889438683417,
          76.06067952974362,
          74.84333265715212,
          73.52406094574043,
          75.37250170422301,
          75.38163186241493,
          75.2588835353883,
          72.06681126973021,
          73.85856989112352,
          73.8412314389921,
          78.02481588195334,
          71.19149414374078,
          70.97352345581152,
          74.6294568022363,
          76.5113459725617,
          73.82067324940067,
          72.49651845586772,
          82.21445122707362,
          73.99684379116748,
          74.1811142926465,
          73.3877197743888,
          78.0720235706935,
          72.97975064107206,
          75.50679327504582,
          79.71153190920498,
          76.27365633610835,
          72.33840163558126,
          79.73645785653666,
          74.8818963856781,
          76.69369355437797,
          77.1127810433566,
          73.51529281351682,
          70.4099301849727,
          78.53595550195092,
          75.61298009742174,
          76.9842365891255,
          71.4575931099136,
          75.84159348489779,
          71.77290988176497,
          77.58041418190109,
          70.55144861928096,
          75.02768933835604,
          75.92413965892162,
          77.34779440215762,
          77.48685434047755,
          71.50630641251125,
          74.5549169881799,
          72.81672057615785,
          74.99626401339081,
          77.91130944870719,
          71.74168054132494,
          79.5316069045533,
          73.57777590164811,
          72.89346542173618,
          76.1240029983494,
          74.52849215084923,
          75.56917191829626,
          72.01886253651088,
          70.94503367687827,
          76.17179730757768,
          71.62087879053165,
          76.51763069880238,
          77.73139682814586,
          75.39077258228167,
          78.31880719185249,
          75.84529395963136,
          74.40115350500972,
          77.55054598549368,
          71.44279218739003,
          76.71290016666298,
          74.24019670996842,
          79.29317681393282,
          73.4822310675174,
          79.83956756967004,
          76.01988225413535,
          70.29532178505488,
          73.91471431816802,
          73.5885978894696,
          75.97267927497268,
          80.15599205438114,
          72.6005851941881,
          78.42880955346008,
          73.9092061612437,
          74.94613655978895,
          74.3782549384452,
          74.98156660586334,
          75.99311956682405,
          71.75907423272591,
          74.91104407893766,
          72.56260483583611,
          71.41319514247881,
          72.3703902225251,
          70.63941018245518,
          77.08389071931767,
          77.27530420873109,
          71.63191611146696,
          75.92456853986252,
          70.90674178634355,
          75.29974263086147,
          75.96152338713215,
          72.88739674328578,
          72.95618604633349,
          75.66739361566023,
          78.2768890578431,
          73.82921843235233,
          72.2231083220925,
          74.64304171833919,
          76.67649697912614,
          72.80415325218549,
          77.10134400729436,
          75.68640073377384,
          75.54616134045008,
          82.51180543531032,
          71.81840973705715,
          78.37335847285497,
          80.56427657033001,
          72.81347008618218,
          71.31677089129859,
          74.9474943431817,
          79.49716581150724,
          71.77113886378496,
          77.59156562149059,
          70.54809266804541,
          75.23717812362923,
          75.118228944381,
          70.49264537997696,
          76.11396200959254,
          74.34912775178715,
          74.60187880883787,
          77.97307661999382,
          70.42676682813048,
          77.57814362892847,
          75.61678224714912,
          70.70695448875864,
          81.04236909298126,
          72.09284115818276,
          77.55501609163487,
          77.85342964474103,
          72.67708866238462,
          73.20880671775262,
          75.68374389581889,
          75.78898214455691,
          69.31653105956974,
          74.20615389725893,
          69.8187212637851,
          76.48778236053002,
          70.17390323845783,
          76.38732244201765,
          75.90099101184106,
          71.06510663551857,
          75.27665866213849,
          71.82787540420932,
          76.86306563904053,
          77.04648810710883,
          74.32036811369022,
          76.3250888282241,
          73.68382169358144,
          73.62906492886587,
          78.67379494146026,
          70.59742182334013,
          72.08697082991895,
          69.54165428583036,
          75.48210452627187,
          73.04933799724083,
          73.69141112814913,
          73.88169158465112,
          75.66778402240226,
          71.45937995589166,
          72.92086124075541,
          76.11498177676916,
          79.01974628315618,
          71.65705887656158,
          69.97151920375144,
          77.57907658566862,
          73.93338242817995,
          75.0716428975323,
          74.4886715442226,
          75.7097234426753,
          73.94709487792312,
          74.41453766557079,
          77.80518254815827,
          74.85847556698182,
          75.8590285368021,
          71.1767976306855,
          72.7261826825286,
          77.12599135600217,
          74.64821333728383,
          73.28398921377446,
          76.68692087389078,
          73.70092508545355,
          78.91245465986103,
          73.03302259194366,
          77.65667326434406,
          76.98687178365837,
          79.78222595102325,
          75.55643448207266,
          74.88993528000738,
          73.71244802425734,
          77.85041159638878,
          74.49191950900331,
          72.59868541878956,
          72.37712755060805,
          78.03401258098258,
          77.50565264963744,
          75.43377406706632,
          77.59368420824697,
          74.73359389716524,
          72.36677900059406,
          70.71732693494927,
          73.99740391509589,
          75.62832528938368,
          77.26366641903027,
          76.20709296800653,
          72.21471824173743,
          71.75119406758573,
          72.5477875809035,
          72.41241685313977,
          74.41105848839675,
          76.75070026198044,
          75.27139176505686,
          70.60888850713796,
          71.04991627476734,
          69.82357113452107,
          73.22619216076572,
          79.11950782609077,
          78.07736064745231,
          73.33183665555867,
          76.36207385506353,
          73.80348157384181,
          76.23506504523958,
          73.6394873053848,
          75.36340668162946,
          73.26173295824105,
          73.99213891241526,
          69.22461572458778,
          79.01574580514574,
          76.94770142220186,
          75.44865435112314,
          74.01437655032649,
          78.39024933387046,
          72.30932837785848,
          78.01805523281703,
          76.73566539676895,
          75.65887246910138,
          76.67656310103203,
          78.88835130215031,
          69.97539216053369,
          76.25650628197845,
          74.030492580791,
          74.19087313445569,
          78.1421201953041,
          73.70543007040366,
          72.47834763837326,
          79.39512635195776,
          73.82560955073859,
          72.34783722654298,
          73.82522937894075,
          74.24835909414016,
          73.59975371640299,
          73.31610695684068,
          76.34892852542144,
          76.1712876757262,
          76.69831351196717,
          75.20824019990087,
          72.67438420781887,
          71.55022938931145,
          75.80241319236994,
          77.58229240936014,
          74.2171959581247,
          74.51698779774641,
          68.07679820448574,
          68.82961217371789,
          80.29617402327499,
          74.20430732855029,
          71.78285041073313,
          69.99323065494485,
          77.94753325144866,
          76.34771553807435,
          76.58457196238174,
          73.40081544583359,
          74.82129185560127,
          73.83606224902591,
          76.07994261392523,
          71.45814659965052,
          71.41783261095043,
          71.43534707898691,
          75.67298459884245,
          74.23860456459622,
          74.20256668993824,
          74.97801071413124,
          70.96914853546794,
          72.12553917287273,
          74.21425431212755,
          72.62124933266817,
          73.12167388769541,
          74.16023863298233,
          71.06934107373858,
          76.35671049442313,
          76.72850821862997,
          75.54811873918707,
          78.56570527122673,
          74.71048758761613,
          75.37391055428277,
          72.07563271480656,
          74.98647153458629,
          73.20570433208778,
          70.00601950362739,
          74.28873471038197,
          73.33441796444009,
          75.34253002216037,
          76.32919214935394,
          73.17675868215018,
          74.10982127637708,
          77.54617994057,
          72.57123447090625,
          74.42571350476696,
          72.49227698969459,
          72.84569595802641,
          72.90470900155911,
          74.12242116860803,
          73.98184878056561,
          72.68705102446589,
          75.04011501239508,
          76.86998193639995,
          76.4870647178798,
          78.94446475846357,
          75.97553995918555,
          76.49723931304665,
          75.97350943392715,
          77.9987310055296,
          74.87819248078269,
          80.38266954174588,
          73.52418485754085,
          74.6994752670715,
          72.93436676529458,
          73.71748315243464,
          77.10232337188177,
          73.50133722315242,
          77.30288451799781,
          68.5190107483143,
          73.07950883472253,
          73.23016148615712,
          77.74309603447384,
          78.39742413936276,
          75.46610372178301,
          71.22369054536672,
          68.8218639846388,
          76.08430098169634,
          73.38227445877621,
          71.01861741685985,
          70.39581734454978,
          72.35833038740887,
          76.31427051774898,
          74.13323639906658,
          76.99729804244835,
          76.7928548394012,
          76.10855294848184,
          74.56641262729366,
          73.88212279840718,
          70.05130207705699,
          77.76280710351097,
          79.02056501389458,
          69.67164893014078,
          71.35937774500626,
          77.12642573895732,
          70.64233854175964,
          71.05360336828706,
          80.19544752769417,
          76.82894680590537,
          77.83854985444168,
          73.25523469014915,
          80.19922088305643,
          73.32631837272424,
          74.44311734137737,
          73.10625837218544,
          75.52016385852512,
          77.32328029093779,
          77.18598354749724,
          74.05343838391994,
          81.1427748677776,
          74.61813582787043,
          74.9335520693995,
          71.52157125698614,
          78.41931214436289,
          79.48308385979544,
          80.84340173853711,
          73.55891194877537,
          73.51977830493624,
          72.5588300011853,
          69.68581722037803,
          73.1092102056616,
          73.07682413364766,
          73.59438786700625,
          77.49172050186844,
          78.05999652140659,
          78.4257243644473,
          72.8283999618712,
          73.69967384141286,
          77.45941267218365,
          77.7441309324657,
          81.97088080851846,
          75.05171662683671,
          74.61259947914141,
          78.27123239524218,
          76.7648324798484,
          75.46389960408088,
          78.06129906610175,
          71.0578342037717,
          73.37232351276484,
          73.7188857762461,
          72.52246101670389,
          73.13934520470659,
          72.47452254562987,
          75.56339852821101,
          76.09424494156534,
          70.25337806275448,
          80.6444431773905,
          71.3314169600762,
          76.93939413822119,
          66.61007153780568,
          73.28716498578225,
          71.1643896757562,
          79.8945484728696,
          72.84550025460157,
          70.92347957512087,
          76.36532565040122,
          76.75908858626778,
          73.2751595724024,
          75.51713828548753,
          72.11898193434354,
          75.59863479435052,
          74.73363179868922,
          78.0349501353502,
          75.30106406550094,
          71.29872200963624,
          75.57848762389595,
          75.48533878058416,
          72.80903570522779,
          75.61601503309768,
          74.38751668394228,
          74.7839759104356,
          74.30672100819321,
          74.73377891599678,
          78.54546974287474,
          72.62469400753803,
          74.1327547739761,
          74.21661357300881,
          76.96004124115011,
          71.49058183925185,
          74.50770163907667,
          74.28913818122064,
          72.88791288875551,
          79.27225756598303,
          75.13296055224868,
          72.3737957269433,
          73.9396490240843,
          74.39880184018456,
          78.17042017358722,
          77.76426016760466
         ]
        }
       ],
       "layout": {
        "template": {
         "data": {
          "bar": [
           {
            "error_x": {
             "color": "#2a3f5f"
            },
            "error_y": {
             "color": "#2a3f5f"
            },
            "marker": {
             "line": {
              "color": "#E5ECF6",
              "width": 0.5
             },
             "pattern": {
              "fillmode": "overlay",
              "size": 10,
              "solidity": 0.2
             }
            },
            "type": "bar"
           }
          ],
          "barpolar": [
           {
            "marker": {
             "line": {
              "color": "#E5ECF6",
              "width": 0.5
             },
             "pattern": {
              "fillmode": "overlay",
              "size": 10,
              "solidity": 0.2
             }
            },
            "type": "barpolar"
           }
          ],
          "carpet": [
           {
            "aaxis": {
             "endlinecolor": "#2a3f5f",
             "gridcolor": "white",
             "linecolor": "white",
             "minorgridcolor": "white",
             "startlinecolor": "#2a3f5f"
            },
            "baxis": {
             "endlinecolor": "#2a3f5f",
             "gridcolor": "white",
             "linecolor": "white",
             "minorgridcolor": "white",
             "startlinecolor": "#2a3f5f"
            },
            "type": "carpet"
           }
          ],
          "choropleth": [
           {
            "colorbar": {
             "outlinewidth": 0,
             "ticks": ""
            },
            "type": "choropleth"
           }
          ],
          "contour": [
           {
            "colorbar": {
             "outlinewidth": 0,
             "ticks": ""
            },
            "colorscale": [
             [
              0,
              "#0d0887"
             ],
             [
              0.1111111111111111,
              "#46039f"
             ],
             [
              0.2222222222222222,
              "#7201a8"
             ],
             [
              0.3333333333333333,
              "#9c179e"
             ],
             [
              0.4444444444444444,
              "#bd3786"
             ],
             [
              0.5555555555555556,
              "#d8576b"
             ],
             [
              0.6666666666666666,
              "#ed7953"
             ],
             [
              0.7777777777777778,
              "#fb9f3a"
             ],
             [
              0.8888888888888888,
              "#fdca26"
             ],
             [
              1,
              "#f0f921"
             ]
            ],
            "type": "contour"
           }
          ],
          "contourcarpet": [
           {
            "colorbar": {
             "outlinewidth": 0,
             "ticks": ""
            },
            "type": "contourcarpet"
           }
          ],
          "heatmap": [
           {
            "colorbar": {
             "outlinewidth": 0,
             "ticks": ""
            },
            "colorscale": [
             [
              0,
              "#0d0887"
             ],
             [
              0.1111111111111111,
              "#46039f"
             ],
             [
              0.2222222222222222,
              "#7201a8"
             ],
             [
              0.3333333333333333,
              "#9c179e"
             ],
             [
              0.4444444444444444,
              "#bd3786"
             ],
             [
              0.5555555555555556,
              "#d8576b"
             ],
             [
              0.6666666666666666,
              "#ed7953"
             ],
             [
              0.7777777777777778,
              "#fb9f3a"
             ],
             [
              0.8888888888888888,
              "#fdca26"
             ],
             [
              1,
              "#f0f921"
             ]
            ],
            "type": "heatmap"
           }
          ],
          "histogram": [
           {
            "marker": {
             "pattern": {
              "fillmode": "overlay",
              "size": 10,
              "solidity": 0.2
             }
            },
            "type": "histogram"
           }
          ],
          "histogram2d": [
           {
            "colorbar": {
             "outlinewidth": 0,
             "ticks": ""
            },
            "colorscale": [
             [
              0,
              "#0d0887"
             ],
             [
              0.1111111111111111,
              "#46039f"
             ],
             [
              0.2222222222222222,
              "#7201a8"
             ],
             [
              0.3333333333333333,
              "#9c179e"
             ],
             [
              0.4444444444444444,
              "#bd3786"
             ],
             [
              0.5555555555555556,
              "#d8576b"
             ],
             [
              0.6666666666666666,
              "#ed7953"
             ],
             [
              0.7777777777777778,
              "#fb9f3a"
             ],
             [
              0.8888888888888888,
              "#fdca26"
             ],
             [
              1,
              "#f0f921"
             ]
            ],
            "type": "histogram2d"
           }
          ],
          "histogram2dcontour": [
           {
            "colorbar": {
             "outlinewidth": 0,
             "ticks": ""
            },
            "colorscale": [
             [
              0,
              "#0d0887"
             ],
             [
              0.1111111111111111,
              "#46039f"
             ],
             [
              0.2222222222222222,
              "#7201a8"
             ],
             [
              0.3333333333333333,
              "#9c179e"
             ],
             [
              0.4444444444444444,
              "#bd3786"
             ],
             [
              0.5555555555555556,
              "#d8576b"
             ],
             [
              0.6666666666666666,
              "#ed7953"
             ],
             [
              0.7777777777777778,
              "#fb9f3a"
             ],
             [
              0.8888888888888888,
              "#fdca26"
             ],
             [
              1,
              "#f0f921"
             ]
            ],
            "type": "histogram2dcontour"
           }
          ],
          "mesh3d": [
           {
            "colorbar": {
             "outlinewidth": 0,
             "ticks": ""
            },
            "type": "mesh3d"
           }
          ],
          "parcoords": [
           {
            "line": {
             "colorbar": {
              "outlinewidth": 0,
              "ticks": ""
             }
            },
            "type": "parcoords"
           }
          ],
          "pie": [
           {
            "automargin": true,
            "type": "pie"
           }
          ],
          "scatter": [
           {
            "fillpattern": {
             "fillmode": "overlay",
             "size": 10,
             "solidity": 0.2
            },
            "type": "scatter"
           }
          ],
          "scatter3d": [
           {
            "line": {
             "colorbar": {
              "outlinewidth": 0,
              "ticks": ""
             }
            },
            "marker": {
             "colorbar": {
              "outlinewidth": 0,
              "ticks": ""
             }
            },
            "type": "scatter3d"
           }
          ],
          "scattercarpet": [
           {
            "marker": {
             "colorbar": {
              "outlinewidth": 0,
              "ticks": ""
             }
            },
            "type": "scattercarpet"
           }
          ],
          "scattergeo": [
           {
            "marker": {
             "colorbar": {
              "outlinewidth": 0,
              "ticks": ""
             }
            },
            "type": "scattergeo"
           }
          ],
          "scattergl": [
           {
            "marker": {
             "colorbar": {
              "outlinewidth": 0,
              "ticks": ""
             }
            },
            "type": "scattergl"
           }
          ],
          "scattermap": [
           {
            "marker": {
             "colorbar": {
              "outlinewidth": 0,
              "ticks": ""
             }
            },
            "type": "scattermap"
           }
          ],
          "scattermapbox": [
           {
            "marker": {
             "colorbar": {
              "outlinewidth": 0,
              "ticks": ""
             }
            },
            "type": "scattermapbox"
           }
          ],
          "scatterpolar": [
           {
            "marker": {
             "colorbar": {
              "outlinewidth": 0,
              "ticks": ""
             }
            },
            "type": "scatterpolar"
           }
          ],
          "scatterpolargl": [
           {
            "marker": {
             "colorbar": {
              "outlinewidth": 0,
              "ticks": ""
             }
            },
            "type": "scatterpolargl"
           }
          ],
          "scatterternary": [
           {
            "marker": {
             "colorbar": {
              "outlinewidth": 0,
              "ticks": ""
             }
            },
            "type": "scatterternary"
           }
          ],
          "surface": [
           {
            "colorbar": {
             "outlinewidth": 0,
             "ticks": ""
            },
            "colorscale": [
             [
              0,
              "#0d0887"
             ],
             [
              0.1111111111111111,
              "#46039f"
             ],
             [
              0.2222222222222222,
              "#7201a8"
             ],
             [
              0.3333333333333333,
              "#9c179e"
             ],
             [
              0.4444444444444444,
              "#bd3786"
             ],
             [
              0.5555555555555556,
              "#d8576b"
             ],
             [
              0.6666666666666666,
              "#ed7953"
             ],
             [
              0.7777777777777778,
              "#fb9f3a"
             ],
             [
              0.8888888888888888,
              "#fdca26"
             ],
             [
              1,
              "#f0f921"
             ]
            ],
            "type": "surface"
           }
          ],
          "table": [
           {
            "cells": {
             "fill": {
              "color": "#EBF0F8"
             },
             "line": {
              "color": "white"
             }
            },
            "header": {
             "fill": {
              "color": "#C8D4E3"
             },
             "line": {
              "color": "white"
             }
            },
            "type": "table"
           }
          ]
         },
         "layout": {
          "annotationdefaults": {
           "arrowcolor": "#2a3f5f",
           "arrowhead": 0,
           "arrowwidth": 1
          },
          "autotypenumbers": "strict",
          "coloraxis": {
           "colorbar": {
            "outlinewidth": 0,
            "ticks": ""
           }
          },
          "colorscale": {
           "diverging": [
            [
             0,
             "#8e0152"
            ],
            [
             0.1,
             "#c51b7d"
            ],
            [
             0.2,
             "#de77ae"
            ],
            [
             0.3,
             "#f1b6da"
            ],
            [
             0.4,
             "#fde0ef"
            ],
            [
             0.5,
             "#f7f7f7"
            ],
            [
             0.6,
             "#e6f5d0"
            ],
            [
             0.7,
             "#b8e186"
            ],
            [
             0.8,
             "#7fbc41"
            ],
            [
             0.9,
             "#4d9221"
            ],
            [
             1,
             "#276419"
            ]
           ],
           "sequential": [
            [
             0,
             "#0d0887"
            ],
            [
             0.1111111111111111,
             "#46039f"
            ],
            [
             0.2222222222222222,
             "#7201a8"
            ],
            [
             0.3333333333333333,
             "#9c179e"
            ],
            [
             0.4444444444444444,
             "#bd3786"
            ],
            [
             0.5555555555555556,
             "#d8576b"
            ],
            [
             0.6666666666666666,
             "#ed7953"
            ],
            [
             0.7777777777777778,
             "#fb9f3a"
            ],
            [
             0.8888888888888888,
             "#fdca26"
            ],
            [
             1,
             "#f0f921"
            ]
           ],
           "sequentialminus": [
            [
             0,
             "#0d0887"
            ],
            [
             0.1111111111111111,
             "#46039f"
            ],
            [
             0.2222222222222222,
             "#7201a8"
            ],
            [
             0.3333333333333333,
             "#9c179e"
            ],
            [
             0.4444444444444444,
             "#bd3786"
            ],
            [
             0.5555555555555556,
             "#d8576b"
            ],
            [
             0.6666666666666666,
             "#ed7953"
            ],
            [
             0.7777777777777778,
             "#fb9f3a"
            ],
            [
             0.8888888888888888,
             "#fdca26"
            ],
            [
             1,
             "#f0f921"
            ]
           ]
          },
          "colorway": [
           "#636efa",
           "#EF553B",
           "#00cc96",
           "#ab63fa",
           "#FFA15A",
           "#19d3f3",
           "#FF6692",
           "#B6E880",
           "#FF97FF",
           "#FECB52"
          ],
          "font": {
           "color": "#2a3f5f"
          },
          "geo": {
           "bgcolor": "white",
           "lakecolor": "white",
           "landcolor": "#E5ECF6",
           "showlakes": true,
           "showland": true,
           "subunitcolor": "white"
          },
          "hoverlabel": {
           "align": "left"
          },
          "hovermode": "closest",
          "mapbox": {
           "style": "light"
          },
          "paper_bgcolor": "white",
          "plot_bgcolor": "#E5ECF6",
          "polar": {
           "angularaxis": {
            "gridcolor": "white",
            "linecolor": "white",
            "ticks": ""
           },
           "bgcolor": "#E5ECF6",
           "radialaxis": {
            "gridcolor": "white",
            "linecolor": "white",
            "ticks": ""
           }
          },
          "scene": {
           "xaxis": {
            "backgroundcolor": "#E5ECF6",
            "gridcolor": "white",
            "gridwidth": 2,
            "linecolor": "white",
            "showbackground": true,
            "ticks": "",
            "zerolinecolor": "white"
           },
           "yaxis": {
            "backgroundcolor": "#E5ECF6",
            "gridcolor": "white",
            "gridwidth": 2,
            "linecolor": "white",
            "showbackground": true,
            "ticks": "",
            "zerolinecolor": "white"
           },
           "zaxis": {
            "backgroundcolor": "#E5ECF6",
            "gridcolor": "white",
            "gridwidth": 2,
            "linecolor": "white",
            "showbackground": true,
            "ticks": "",
            "zerolinecolor": "white"
           }
          },
          "shapedefaults": {
           "line": {
            "color": "#2a3f5f"
           }
          },
          "ternary": {
           "aaxis": {
            "gridcolor": "white",
            "linecolor": "white",
            "ticks": ""
           },
           "baxis": {
            "gridcolor": "white",
            "linecolor": "white",
            "ticks": ""
           },
           "bgcolor": "#E5ECF6",
           "caxis": {
            "gridcolor": "white",
            "linecolor": "white",
            "ticks": ""
           }
          },
          "title": {
           "x": 0.05
          },
          "xaxis": {
           "automargin": true,
           "gridcolor": "white",
           "linecolor": "white",
           "ticks": "",
           "title": {
            "standoff": 15
           },
           "zerolinecolor": "white",
           "zerolinewidth": 2
          },
          "yaxis": {
           "automargin": true,
           "gridcolor": "white",
           "linecolor": "white",
           "ticks": "",
           "title": {
            "standoff": 15
           },
           "zerolinecolor": "white",
           "zerolinewidth": 2
          }
         }
        },
        "title": {
         "text": "Histogram of sample means"
        },
        "width": 700,
        "xaxis": {
         "title": {
          "text": "Sample means"
         }
        },
        "yaxis": {
         "title": {
          "text": "Probability"
         }
        }
       }
      }
     },
     "metadata": {},
     "output_type": "display_data"
    }
   ],
   "source": [
    "# Create a histogram of the sample means\n",
    "fig = graph_objects.Figure(\n",
    "    graph_objects.Histogram(\n",
    "        x=x_bar_vals,\n",
    "        histnorm='probability'\n",
    "    )\n",
    ")\n",
    "\n",
    "fig.update_layout(\n",
    "    title='Histogram of sample means',\n",
    "    xaxis_title='Sample means',\n",
    "    yaxis_title='Probability',\n",
    "    width=700\n",
    ")\n",
    "\n",
    "fig.show()"
   ]
  },
  {
   "cell_type": "markdown",
   "metadata": {},
   "source": [
    "## Rest of notes just followed in class on jupyter notebook week 11"
   ]
  }
 ],
 "metadata": {
  "kernelspec": {
   "display_name": "base",
   "language": "python",
   "name": "python3"
  },
  "language_info": {
   "codemirror_mode": {
    "name": "ipython",
    "version": 3
   },
   "file_extension": ".py",
   "mimetype": "text/x-python",
   "name": "python",
   "nbconvert_exporter": "python",
   "pygments_lexer": "ipython3",
   "version": "3.12.2"
  }
 },
 "nbformat": 4,
 "nbformat_minor": 2
}
